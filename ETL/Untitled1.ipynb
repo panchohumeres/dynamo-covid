{
 "cells": [
  {
   "cell_type": "code",
   "execution_count": null,
   "metadata": {},
   "outputs": [],
   "source": [
    "#!/bin/bash\n",
    "\n",
    "#Script para ejecutar ETLs con rangos de fechas customizados\n",
    "# PASO PREVIO: Modificar correspondiente archivo .yaml con parámetros, en carpeta ./args\n",
    "# Descomentar las líneas de los scripts que se deseen ejecutar\n",
    "\n",
    "#papermill /home/jovyan/work/ETL/covid-chile.ipynb /home/jovyan/work/CRONTAB/logs/covid-chile_`date +\\%Y\\%m\\%d\\%H\\%M\\%S`.ipynb -f /home/jovyan/work/args/ETL_covid-chile.yaml\n",
    "papermill /home/jovyan/work/ETL/covid-chile.ipynb /home/jovyan/work/CRONTAB/logs/covid-chile_`date +\\%Y\\%m\\%d\\%H\\%M\\%S`.ipynb"
   ]
  }
 ],
 "metadata": {
  "kernelspec": {
   "display_name": "Python 3",
   "language": "python",
   "name": "python3"
  },
  "language_info": {
   "codemirror_mode": {
    "name": "ipython",
    "version": 3
   },
   "file_extension": ".py",
   "mimetype": "text/x-python",
   "name": "python",
   "nbconvert_exporter": "python",
   "pygments_lexer": "ipython3",
   "version": "3.8.5"
  }
 },
 "nbformat": 4,
 "nbformat_minor": 4
}
