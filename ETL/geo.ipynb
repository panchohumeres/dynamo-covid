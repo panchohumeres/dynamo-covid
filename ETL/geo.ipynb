{
 "cells": [
  {
   "cell_type": "code",
   "execution_count": 1,
   "metadata": {},
   "outputs": [],
   "source": [
    "import requests, zipfile, io\n"
   ]
  },
  {
   "cell_type": "code",
   "execution_count": 2,
   "metadata": {},
   "outputs": [],
   "source": [
    "import geopandas as gpd"
   ]
  },
  {
   "cell_type": "code",
   "execution_count": 3,
   "metadata": {},
   "outputs": [],
   "source": [
    "import pandas as pd\n",
    "import json\n",
    "import os\n",
    "from sqlalchemy import create_engine\n",
    "import sqlalchemy "
   ]
  },
  {
   "cell_type": "code",
   "execution_count": 4,
   "metadata": {},
   "outputs": [],
   "source": [
    "DBname=os.environ['DB_NAME']\n",
    "postgres_psswd=os.environ['POSTGRES_PASSWORD']\n",
    "postgres_user=os.environ['POSTGRES_USER']\n",
    "postgres_port=str(os.environ['POSTGRES_PORT'])"
   ]
  },
  {
   "cell_type": "code",
   "execution_count": 5,
   "metadata": {},
   "outputs": [],
   "source": [
    "# A long string that contains the necessary Postgres login information\n",
    "postgres_str = ('postgresql://'+postgres_user+':'+postgres_psswd+'@'+DBname+':'+postgres_port+'/superset')\n",
    "# Create the connection\n",
    "cnx = create_engine(postgres_str)"
   ]
  },
  {
   "cell_type": "code",
   "execution_count": 6,
   "metadata": {},
   "outputs": [],
   "source": [
    "#códigos ISO y coordenadas centroides"
   ]
  },
  {
   "cell_type": "code",
   "execution_count": 7,
   "metadata": {},
   "outputs": [],
   "source": [
    "url='https://raw.githubusercontent.com/DataScienceResearchPeru/covid-19_latinoamerica/master/utils/iso3166-2.csv'"
   ]
  },
  {
   "cell_type": "code",
   "execution_count": 8,
   "metadata": {},
   "outputs": [],
   "source": [
    "iso=pd.read_csv(url)"
   ]
  },
  {
   "cell_type": "code",
   "execution_count": 9,
   "metadata": {},
   "outputs": [
    {
     "name": "stdout",
     "output_type": "stream",
     "text": [
      "schema geo does not exist, creating it\n"
     ]
    }
   ],
   "source": [
    "name='iso'\n",
    "schema='geo'\n",
    "if not cnx.dialect.has_schema(cnx, schema):\n",
    "    print('schema '+schema+' does not exist, creating it')\n",
    "    cnx.execute(sqlalchemy.schema.CreateSchema(schema))\n",
    "else:\n",
    "    print('schema '+schema+' exists, will not be created')"
   ]
  },
  {
   "cell_type": "code",
   "execution_count": 10,
   "metadata": {},
   "outputs": [],
   "source": [
    "new_cols=[x.replace('(','').replace(')','') for x in iso.columns]"
   ]
  },
  {
   "cell_type": "code",
   "execution_count": 11,
   "metadata": {},
   "outputs": [],
   "source": [
    "iso.columns=new_cols"
   ]
  },
  {
   "cell_type": "code",
   "execution_count": 12,
   "metadata": {},
   "outputs": [
    {
     "data": {
      "text/html": [
       "<div>\n",
       "<style scoped>\n",
       "    .dataframe tbody tr th:only-of-type {\n",
       "        vertical-align: middle;\n",
       "    }\n",
       "\n",
       "    .dataframe tbody tr th {\n",
       "        vertical-align: top;\n",
       "    }\n",
       "\n",
       "    .dataframe thead th {\n",
       "        text-align: right;\n",
       "    }\n",
       "</style>\n",
       "<table border=\"1\" class=\"dataframe\">\n",
       "  <thead>\n",
       "    <tr style=\"text-align: right;\">\n",
       "      <th></th>\n",
       "      <th>Country Code</th>\n",
       "      <th>Country Name</th>\n",
       "      <th>Code</th>\n",
       "      <th>Subdivision Name Used</th>\n",
       "      <th>Subdivision Category</th>\n",
       "      <th>Number</th>\n",
       "      <th>Latitude</th>\n",
       "      <th>Longitude</th>\n",
       "      <th>Subdivision Name es</th>\n",
       "      <th>Subdivision Name qu</th>\n",
       "      <th>Subdivision Name ay</th>\n",
       "      <th>Subdivision Name ht</th>\n",
       "      <th>Subdivision Name fr</th>\n",
       "      <th>Parent Subdivision</th>\n",
       "      <th>Local Variant</th>\n",
       "    </tr>\n",
       "  </thead>\n",
       "  <tbody>\n",
       "    <tr>\n",
       "      <th>0</th>\n",
       "      <td>AR</td>\n",
       "      <td>Argentina</td>\n",
       "      <td>AR-B</td>\n",
       "      <td>Buenos Aires</td>\n",
       "      <td>Province</td>\n",
       "      <td>NaN</td>\n",
       "      <td>-37.201728</td>\n",
       "      <td>-59.841070</td>\n",
       "      <td>Buenos Aires</td>\n",
       "      <td>NaN</td>\n",
       "      <td>NaN</td>\n",
       "      <td>NaN</td>\n",
       "      <td>NaN</td>\n",
       "      <td>NaN</td>\n",
       "      <td>NaN</td>\n",
       "    </tr>\n",
       "    <tr>\n",
       "      <th>1</th>\n",
       "      <td>AR</td>\n",
       "      <td>Argentina</td>\n",
       "      <td>AR-K</td>\n",
       "      <td>Catamarca</td>\n",
       "      <td>Province</td>\n",
       "      <td>NaN</td>\n",
       "      <td>-28.471588</td>\n",
       "      <td>-65.787721</td>\n",
       "      <td>Catamarca</td>\n",
       "      <td>NaN</td>\n",
       "      <td>NaN</td>\n",
       "      <td>NaN</td>\n",
       "      <td>NaN</td>\n",
       "      <td>NaN</td>\n",
       "      <td>NaN</td>\n",
       "    </tr>\n",
       "    <tr>\n",
       "      <th>2</th>\n",
       "      <td>AR</td>\n",
       "      <td>Argentina</td>\n",
       "      <td>AR-H</td>\n",
       "      <td>Chaco</td>\n",
       "      <td>Province</td>\n",
       "      <td>NaN</td>\n",
       "      <td>-27.425717</td>\n",
       "      <td>-59.024378</td>\n",
       "      <td>Chaco</td>\n",
       "      <td>NaN</td>\n",
       "      <td>NaN</td>\n",
       "      <td>NaN</td>\n",
       "      <td>NaN</td>\n",
       "      <td>NaN</td>\n",
       "      <td>NaN</td>\n",
       "    </tr>\n",
       "    <tr>\n",
       "      <th>3</th>\n",
       "      <td>AR</td>\n",
       "      <td>Argentina</td>\n",
       "      <td>AR-U</td>\n",
       "      <td>Chubut</td>\n",
       "      <td>Province</td>\n",
       "      <td>NaN</td>\n",
       "      <td>-43.293425</td>\n",
       "      <td>-65.111482</td>\n",
       "      <td>Chubut</td>\n",
       "      <td>NaN</td>\n",
       "      <td>NaN</td>\n",
       "      <td>NaN</td>\n",
       "      <td>NaN</td>\n",
       "      <td>NaN</td>\n",
       "      <td>NaN</td>\n",
       "    </tr>\n",
       "    <tr>\n",
       "      <th>4</th>\n",
       "      <td>AR</td>\n",
       "      <td>Argentina</td>\n",
       "      <td>AR-C</td>\n",
       "      <td>Ciudad Autónoma de Buenos Aires</td>\n",
       "      <td>City</td>\n",
       "      <td>NaN</td>\n",
       "      <td>-34.603684</td>\n",
       "      <td>-58.381559</td>\n",
       "      <td>Ciudad Autónoma de Buenos Aires</td>\n",
       "      <td>NaN</td>\n",
       "      <td>NaN</td>\n",
       "      <td>NaN</td>\n",
       "      <td>NaN</td>\n",
       "      <td>NaN</td>\n",
       "      <td>NaN</td>\n",
       "    </tr>\n",
       "    <tr>\n",
       "      <th>...</th>\n",
       "      <td>...</td>\n",
       "      <td>...</td>\n",
       "      <td>...</td>\n",
       "      <td>...</td>\n",
       "      <td>...</td>\n",
       "      <td>...</td>\n",
       "      <td>...</td>\n",
       "      <td>...</td>\n",
       "      <td>...</td>\n",
       "      <td>...</td>\n",
       "      <td>...</td>\n",
       "      <td>...</td>\n",
       "      <td>...</td>\n",
       "      <td>...</td>\n",
       "      <td>...</td>\n",
       "    </tr>\n",
       "    <tr>\n",
       "      <th>404</th>\n",
       "      <td>VE</td>\n",
       "      <td>Venezuela</td>\n",
       "      <td>VE-T</td>\n",
       "      <td>Trujillo</td>\n",
       "      <td>State</td>\n",
       "      <td>NaN</td>\n",
       "      <td>9.430253</td>\n",
       "      <td>-70.526493</td>\n",
       "      <td>Trujillo</td>\n",
       "      <td>NaN</td>\n",
       "      <td>NaN</td>\n",
       "      <td>NaN</td>\n",
       "      <td>NaN</td>\n",
       "      <td>NaN</td>\n",
       "      <td>NaN</td>\n",
       "    </tr>\n",
       "    <tr>\n",
       "      <th>405</th>\n",
       "      <td>VE</td>\n",
       "      <td>Venezuela</td>\n",
       "      <td>VE-S</td>\n",
       "      <td>Táchira</td>\n",
       "      <td>State</td>\n",
       "      <td>NaN</td>\n",
       "      <td>7.913700</td>\n",
       "      <td>-72.141613</td>\n",
       "      <td>Táchira</td>\n",
       "      <td>NaN</td>\n",
       "      <td>NaN</td>\n",
       "      <td>NaN</td>\n",
       "      <td>NaN</td>\n",
       "      <td>NaN</td>\n",
       "      <td>NaN</td>\n",
       "    </tr>\n",
       "    <tr>\n",
       "      <th>406</th>\n",
       "      <td>VE</td>\n",
       "      <td>Venezuela</td>\n",
       "      <td>VE-X</td>\n",
       "      <td>Vargas</td>\n",
       "      <td>State</td>\n",
       "      <td>NaN</td>\n",
       "      <td>10.589002</td>\n",
       "      <td>-66.736734</td>\n",
       "      <td>Vargas</td>\n",
       "      <td>NaN</td>\n",
       "      <td>NaN</td>\n",
       "      <td>NaN</td>\n",
       "      <td>NaN</td>\n",
       "      <td>NaN</td>\n",
       "      <td>NaN</td>\n",
       "    </tr>\n",
       "    <tr>\n",
       "      <th>407</th>\n",
       "      <td>VE</td>\n",
       "      <td>Venezuela</td>\n",
       "      <td>VE-U</td>\n",
       "      <td>Yaracuy</td>\n",
       "      <td>State</td>\n",
       "      <td>NaN</td>\n",
       "      <td>10.340192</td>\n",
       "      <td>-68.745306</td>\n",
       "      <td>Yaracuy</td>\n",
       "      <td>NaN</td>\n",
       "      <td>NaN</td>\n",
       "      <td>NaN</td>\n",
       "      <td>NaN</td>\n",
       "      <td>NaN</td>\n",
       "      <td>NaN</td>\n",
       "    </tr>\n",
       "    <tr>\n",
       "      <th>408</th>\n",
       "      <td>VE</td>\n",
       "      <td>Venezuela</td>\n",
       "      <td>VE-V</td>\n",
       "      <td>Zulia</td>\n",
       "      <td>State</td>\n",
       "      <td>NaN</td>\n",
       "      <td>10.291024</td>\n",
       "      <td>-72.141613</td>\n",
       "      <td>Zulia</td>\n",
       "      <td>NaN</td>\n",
       "      <td>NaN</td>\n",
       "      <td>NaN</td>\n",
       "      <td>NaN</td>\n",
       "      <td>NaN</td>\n",
       "      <td>NaN</td>\n",
       "    </tr>\n",
       "  </tbody>\n",
       "</table>\n",
       "<p>409 rows × 15 columns</p>\n",
       "</div>"
      ],
      "text/plain": [
       "    Country Code Country Name  Code            Subdivision Name Used  \\\n",
       "0             AR    Argentina  AR-B                     Buenos Aires   \n",
       "1             AR    Argentina  AR-K                        Catamarca   \n",
       "2             AR    Argentina  AR-H                            Chaco   \n",
       "3             AR    Argentina  AR-U                           Chubut   \n",
       "4             AR    Argentina  AR-C  Ciudad Autónoma de Buenos Aires   \n",
       "..           ...          ...   ...                              ...   \n",
       "404           VE    Venezuela  VE-T                         Trujillo   \n",
       "405           VE    Venezuela  VE-S                          Táchira   \n",
       "406           VE    Venezuela  VE-X                           Vargas   \n",
       "407           VE    Venezuela  VE-U                          Yaracuy   \n",
       "408           VE    Venezuela  VE-V                            Zulia   \n",
       "\n",
       "    Subdivision Category Number   Latitude  Longitude  \\\n",
       "0               Province    NaN -37.201728 -59.841070   \n",
       "1               Province    NaN -28.471588 -65.787721   \n",
       "2               Province    NaN -27.425717 -59.024378   \n",
       "3               Province    NaN -43.293425 -65.111482   \n",
       "4                   City    NaN -34.603684 -58.381559   \n",
       "..                   ...    ...        ...        ...   \n",
       "404                State    NaN   9.430253 -70.526493   \n",
       "405                State    NaN   7.913700 -72.141613   \n",
       "406                State    NaN  10.589002 -66.736734   \n",
       "407                State    NaN  10.340192 -68.745306   \n",
       "408                State    NaN  10.291024 -72.141613   \n",
       "\n",
       "                 Subdivision Name es Subdivision Name qu Subdivision Name ay  \\\n",
       "0                       Buenos Aires                 NaN                 NaN   \n",
       "1                          Catamarca                 NaN                 NaN   \n",
       "2                              Chaco                 NaN                 NaN   \n",
       "3                             Chubut                 NaN                 NaN   \n",
       "4    Ciudad Autónoma de Buenos Aires                 NaN                 NaN   \n",
       "..                               ...                 ...                 ...   \n",
       "404                         Trujillo                 NaN                 NaN   \n",
       "405                          Táchira                 NaN                 NaN   \n",
       "406                           Vargas                 NaN                 NaN   \n",
       "407                          Yaracuy                 NaN                 NaN   \n",
       "408                            Zulia                 NaN                 NaN   \n",
       "\n",
       "    Subdivision Name ht Subdivision Name fr Parent Subdivision Local Variant  \n",
       "0                   NaN                 NaN                NaN           NaN  \n",
       "1                   NaN                 NaN                NaN           NaN  \n",
       "2                   NaN                 NaN                NaN           NaN  \n",
       "3                   NaN                 NaN                NaN           NaN  \n",
       "4                   NaN                 NaN                NaN           NaN  \n",
       "..                  ...                 ...                ...           ...  \n",
       "404                 NaN                 NaN                NaN           NaN  \n",
       "405                 NaN                 NaN                NaN           NaN  \n",
       "406                 NaN                 NaN                NaN           NaN  \n",
       "407                 NaN                 NaN                NaN           NaN  \n",
       "408                 NaN                 NaN                NaN           NaN  \n",
       "\n",
       "[409 rows x 15 columns]"
      ]
     },
     "execution_count": 12,
     "metadata": {},
     "output_type": "execute_result"
    }
   ],
   "source": [
    "iso"
   ]
  },
  {
   "cell_type": "code",
   "execution_count": 13,
   "metadata": {},
   "outputs": [],
   "source": [
    "iso.to_sql(name, schema=schema,con=cnx,if_exists='replace')"
   ]
  },
  {
   "cell_type": "code",
   "execution_count": 14,
   "metadata": {},
   "outputs": [],
   "source": [
    "#comunas\n",
    "#url='https://www.bcn.cl/obtienearchivo?id=repositorio/10221/10396/2/Comunas.zip'\n",
    "#r = requests.get(url)\n",
    "#z = zipfile.ZipFile(io.BytesIO(r.content))\n",
    "#z.extractall(\"/data/ETLcache/comunas_shp\")"
   ]
  },
  {
   "cell_type": "code",
   "execution_count": 15,
   "metadata": {},
   "outputs": [],
   "source": [
    "#provincias\n",
    "#url='https://www.bcn.cl/obtienearchivo?id=repositorio/10221/10397/2/Provincias.zip'\n",
    "#r = requests.get(url)\n",
    "#z = zipfile.ZipFile(io.BytesIO(r.content))\n",
    "#z.extractall(\"/data/ETLcache/provincias_shp\")"
   ]
  },
  {
   "cell_type": "code",
   "execution_count": 16,
   "metadata": {},
   "outputs": [],
   "source": [
    "#regiones\n",
    "#url='https://www.bcn.cl/obtienearchivo?id=repositorio/10221/10398/2/Regiones.zip'\n",
    "#r = requests.get(url)\n",
    "#z = zipfile.ZipFile(io.BytesIO(r.content))\n",
    "#z.extractall(\"/data/ETLcache/regiones_shp\")"
   ]
  },
  {
   "cell_type": "code",
   "execution_count": 17,
   "metadata": {},
   "outputs": [],
   "source": [
    "#url='https://raw.githubusercontent.com/ivanMSC/COVID19_Chile/master/utils/Mapa%20de%20Chile%20con%20Zoom%20en%20Santiago.json'\n",
    "#response = requests.get(url)\n",
    "#data = response.json()"
   ]
  },
  {
   "cell_type": "code",
   "execution_count": 18,
   "metadata": {},
   "outputs": [],
   "source": [
    "#data"
   ]
  },
  {
   "cell_type": "code",
   "execution_count": 19,
   "metadata": {},
   "outputs": [],
   "source": [
    "#url='https://gist.githubusercontent.com/rhernandog/7d055482f5cc803852a762de873bea62/raw/2bed9aed94ab644533b5e624a4e8f165a4650d48/regiones-provincias-comunas.json'\n",
    "#response = requests.get(url)\n",
    "#data = response.json()"
   ]
  },
  {
   "cell_type": "code",
   "execution_count": 20,
   "metadata": {},
   "outputs": [],
   "source": [
    "#gdf = gpd.GeoDataFrame(data)"
   ]
  },
  {
   "cell_type": "code",
   "execution_count": 21,
   "metadata": {},
   "outputs": [],
   "source": [
    "#from mapbox import Uploader"
   ]
  },
  {
   "cell_type": "code",
   "execution_count": 22,
   "metadata": {},
   "outputs": [],
   "source": [
    "#conxn = Uploader(access_token='')"
   ]
  },
  {
   "cell_type": "code",
   "execution_count": 23,
   "metadata": {},
   "outputs": [],
   "source": [
    "#resp = conxn.upload('RGB.byte.tif', 'RGB-byte-tif')"
   ]
  },
  {
   "cell_type": "code",
   "execution_count": 24,
   "metadata": {},
   "outputs": [
    {
     "data": {
      "text/plain": [
       "0"
      ]
     },
     "execution_count": 24,
     "metadata": {},
     "output_type": "execute_result"
    }
   ],
   "source": [
    "os.system('jupyter nbconvert --output /home/jovyan/work/ETLdocs/' + 'ETL_covid-chile.html' + ' --to html ' + \n",
    "          '/home/jovyan/work/ETL/geo.ipynb')"
   ]
  }
 ],
 "metadata": {
  "kernelspec": {
   "display_name": "Python 3",
   "language": "python",
   "name": "python3"
  },
  "language_info": {
   "codemirror_mode": {
    "name": "ipython",
    "version": 3
   },
   "file_extension": ".py",
   "mimetype": "text/x-python",
   "name": "python",
   "nbconvert_exporter": "python",
   "pygments_lexer": "ipython3",
   "version": "3.8.6"
  }
 },
 "nbformat": 4,
 "nbformat_minor": 4
}
