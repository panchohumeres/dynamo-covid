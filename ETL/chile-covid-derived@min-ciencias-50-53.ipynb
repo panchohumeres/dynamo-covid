{
 "cells": [
  {
   "cell_type": "markdown",
   "metadata": {},
   "source": [
    "### TABLAS DERIVADAS DE PRODUCTOS 50 Y 53 SE DEJAN EN SU PROPIA ETL DEBIDO A PROBLEMAS DE MEMORIA DE KERNEL JUPYTER \n",
    "(CORREGIR EN ORDEN DE ETLS)"
   ]
  },
  {
   "cell_type": "code",
   "execution_count": 2,
   "metadata": {},
   "outputs": [],
   "source": [
    "import pandas as pd\n",
    "import sqlalchemy \n",
    "import psycopg2\n",
    "import os\n",
    "import numpy as np\n",
    "import requests\n",
    "import re\n",
    "import copy\n",
    "from pandas.api.types import is_numeric_dtype\n",
    "from sklearn.linear_model import LinearRegression\n",
    "from sqlalchemy import create_engine\n",
    "import datetime\n",
    "from datetime import datetime as dt\n",
    "from sqlalchemy import inspect\n",
    "import sys\n",
    "import sqlalchemy.ext.declarative as sqld\n",
    "import roman"
   ]
  },
  {
   "cell_type": "code",
   "execution_count": 3,
   "metadata": {},
   "outputs": [],
   "source": [
    "sys.path.append('..')"
   ]
  },
  {
   "cell_type": "code",
   "execution_count": 4,
   "metadata": {},
   "outputs": [],
   "source": [
    "from modules.transforms import *"
   ]
  },
  {
   "cell_type": "code",
   "execution_count": 5,
   "metadata": {},
   "outputs": [],
   "source": [
    "DBname=os.environ['DB_NAME']\n",
    "postgres_psswd=os.environ['POSTGRES_PASSWORD']\n",
    "postgres_user=os.environ['POSTGRES_USER']\n",
    "postgres_port=str(os.environ['POSTGRES_PORT'])"
   ]
  },
  {
   "cell_type": "code",
   "execution_count": 6,
   "metadata": {},
   "outputs": [],
   "source": [
    "# A long string that contains the necessary Postgres login information\n",
    "postgres_str = ('postgresql://'+postgres_user+':'+postgres_psswd+'@'+DBname+':'+postgres_port+'/superset')\n",
    "# Create the connection\n",
    "cnx = create_engine(postgres_str)"
   ]
  },
  {
   "cell_type": "code",
   "execution_count": 7,
   "metadata": {},
   "outputs": [],
   "source": [
    "#guardar paso en csv\n",
    "path='/data/ETLcache/'\n",
    "now = dt.now()\n",
    "timestamp = now.strftime(\"_%d%m%Y_%H%M%S\")"
   ]
  },
  {
   "cell_type": "code",
   "execution_count": 8,
   "metadata": {},
   "outputs": [],
   "source": [
    "inspector = inspect(cnx)\n",
    "schemas = inspector.get_schema_names()"
   ]
  },
  {
   "cell_type": "code",
   "execution_count": 9,
   "metadata": {},
   "outputs": [],
   "source": [
    "tables={}\n",
    "for schema in schemas:\n",
    "    #print(\"schema: %s\" % schema)\n",
    "    tables[schema]=[]\n",
    "    for table_name in inspector.get_table_names(schema=schema):\n",
    "        #print(\"table: %s\" % table_name)\n",
    "        #tables[schema][table_name]=list(inspector.get_columns(table_name, schema=schema)[0].keys())\n",
    "        tables[schema].append(table_name)"
   ]
  },
  {
   "cell_type": "code",
   "execution_count": 10,
   "metadata": {},
   "outputs": [],
   "source": [
    "#productos que se están trabajando\n",
    "productos=pd.read_sql_table('min_ciencias_products', con=cnx,schema='tracking')['0'].to_list()"
   ]
  },
  {
   "cell_type": "code",
   "execution_count": 11,
   "metadata": {},
   "outputs": [],
   "source": [
    "productos=['producto50','producto53']"
   ]
  },
  {
   "cell_type": "code",
   "execution_count": 12,
   "metadata": {},
   "outputs": [],
   "source": [
    "tbs={}\n",
    "for p in productos:\n",
    "    tbs[p]=tables[p]\n",
    "tables=tbs"
   ]
  },
  {
   "cell_type": "code",
   "execution_count": 13,
   "metadata": {},
   "outputs": [],
   "source": [
    "#información comunal\n",
    "INFO_COMUNAL=pd.read_sql_table('info_comunal@ivanMSC', con=cnx,schema='@ivanMSC') \n",
    "INFO_COMUNAL=INFO_COMUNAL.rename(columns={'Nombre':'Comuna'})\n",
    "INFO_COMUNAL['Codigo region']=INFO_COMUNAL['Codigo region'].astype(int)"
   ]
  },
  {
   "cell_type": "code",
   "execution_count": 14,
   "metadata": {},
   "outputs": [],
   "source": [
    "#códigos iso\n",
    "iso=pd.read_sql_table('iso', con=cnx,schema='geo') \n",
    "iso=iso.loc[iso['Country Name']=='Chile',('Country Code','Subdivision Name Used','Code','Number',\n",
    "                                      'Latitude','Longitude')]\n",
    "iso['Number']=iso['Number'].apply(lambda x: roman.fromRoman(x))\n",
    "iso=iso.rename(columns={'Number':'Codigo region','Subdivision Name Used':'Region'})\n",
    "#población regional\n",
    "popREG=pd.DataFrame(INFO_COMUNAL.groupby('Codigo region')['Poblacion'].sum().reset_index())\n",
    "#apendizar población regional a códigos ISO\n",
    "iso=iso.merge(popREG,on='Codigo region')\n",
    "iso=iso.drop('Region',axis=1)"
   ]
  },
  {
   "cell_type": "code",
   "execution_count": 15,
   "metadata": {},
   "outputs": [],
   "source": [
    "#defunciones deis comunal (confirmado y sospechoso)\n",
    "x=pd.read_sql_table('producto50_DefuncionesDEIS_confirmadosPorComuna_std', con=cnx,schema='producto50')\n",
    "x['Status']='Confirmado'\n",
    "y=pd.read_sql_table('producto50_DefuncionesDEIS_sospechososPorComuna_std', con=cnx,schema='producto50')\n",
    "y['Status']='Sospechoso'\n",
    "x=pd.concat([x,y])\n",
    "x=x.fillna(0)\n",
    "x=x[x['Comuna']!='Total']"
   ]
  },
  {
   "cell_type": "code",
   "execution_count": 16,
   "metadata": {},
   "outputs": [
    {
     "name": "stdout",
     "output_type": "stream",
     "text": [
      "reading table producto53_confirmados_regionale from schema producto53\n",
      "adding descriptive stats to table: producto53_confirmados_regionale\n",
      "calculando casos activos con rolling avg de 14 días\n",
      "new name: producto53_confirmados_regionale_casos_activos\n"
     ]
    },
    {
     "name": "stderr",
     "output_type": "stream",
     "text": [
      "/home/jovyan/work/ETL/../modules/transforms.py:66: SettingWithCopyWarning: \n",
      "A value is trying to be set on a copy of a slice from a DataFrame.\n",
      "Try using .loc[row_indexer,col_indexer] = value instead\n",
      "\n",
      "See the caveats in the documentation: https://pandas.pydata.org/pandas-docs/stable/user_guide/indexing.html#returning-a-view-versus-a-copy\n",
      "  nuevos['Promedio']=nuevos.mean(axis=1)\n",
      "/home/jovyan/work/ETL/../modules/transforms.py:67: SettingWithCopyWarning: \n",
      "A value is trying to be set on a copy of a slice from a DataFrame.\n",
      "Try using .loc[row_indexer,col_indexer] = value instead\n",
      "\n",
      "See the caveats in the documentation: https://pandas.pydata.org/pandas-docs/stable/user_guide/indexing.html#returning-a-view-versus-a-copy\n",
      "  nuevos['Min']=nuevos.min(axis=1)\n",
      "/home/jovyan/work/ETL/../modules/transforms.py:68: SettingWithCopyWarning: \n",
      "A value is trying to be set on a copy of a slice from a DataFrame.\n",
      "Try using .loc[row_indexer,col_indexer] = value instead\n",
      "\n",
      "See the caveats in the documentation: https://pandas.pydata.org/pandas-docs/stable/user_guide/indexing.html#returning-a-view-versus-a-copy\n",
      "  nuevos['Max']=nuevos.max(axis=1)\n"
     ]
    },
    {
     "name": "stdout",
     "output_type": "stream",
     "text": [
      "reading table producto53_confirmados_ from schema producto53\n",
      "adding descriptive stats to table: producto53_confirmados_\n",
      "reading table producto53_confirmados_nacional from schema producto53\n"
     ]
    },
    {
     "name": "stderr",
     "output_type": "stream",
     "text": [
      "/home/jovyan/work/ETL/../modules/transforms.py:66: SettingWithCopyWarning: \n",
      "A value is trying to be set on a copy of a slice from a DataFrame.\n",
      "Try using .loc[row_indexer,col_indexer] = value instead\n",
      "\n",
      "See the caveats in the documentation: https://pandas.pydata.org/pandas-docs/stable/user_guide/indexing.html#returning-a-view-versus-a-copy\n",
      "  nuevos['Promedio']=nuevos.mean(axis=1)\n",
      "/home/jovyan/work/ETL/../modules/transforms.py:67: SettingWithCopyWarning: \n",
      "A value is trying to be set on a copy of a slice from a DataFrame.\n",
      "Try using .loc[row_indexer,col_indexer] = value instead\n",
      "\n",
      "See the caveats in the documentation: https://pandas.pydata.org/pandas-docs/stable/user_guide/indexing.html#returning-a-view-versus-a-copy\n",
      "  nuevos['Min']=nuevos.min(axis=1)\n",
      "/home/jovyan/work/ETL/../modules/transforms.py:68: SettingWithCopyWarning: \n",
      "A value is trying to be set on a copy of a slice from a DataFrame.\n",
      "Try using .loc[row_indexer,col_indexer] = value instead\n",
      "\n",
      "See the caveats in the documentation: https://pandas.pydata.org/pandas-docs/stable/user_guide/indexing.html#returning-a-view-versus-a-copy\n",
      "  nuevos['Max']=nuevos.max(axis=1)\n"
     ]
    },
    {
     "name": "stdout",
     "output_type": "stream",
     "text": [
      "adding descriptive stats to table: producto53_confirmados_nacional\n",
      "calculando casos activos con rolling avg de 14 días\n",
      "new name: producto53_confirmados_nacional_casos_activos\n",
      "reading table producto53_confirmados_nacional_casos_activos from schema producto53\n",
      "adding descriptive stats to table: producto53_confirmados_nacional_casos_activos\n"
     ]
    },
    {
     "name": "stderr",
     "output_type": "stream",
     "text": [
      "/home/jovyan/work/ETL/../modules/transforms.py:66: SettingWithCopyWarning: \n",
      "A value is trying to be set on a copy of a slice from a DataFrame.\n",
      "Try using .loc[row_indexer,col_indexer] = value instead\n",
      "\n",
      "See the caveats in the documentation: https://pandas.pydata.org/pandas-docs/stable/user_guide/indexing.html#returning-a-view-versus-a-copy\n",
      "  nuevos['Promedio']=nuevos.mean(axis=1)\n",
      "/home/jovyan/work/ETL/../modules/transforms.py:67: SettingWithCopyWarning: \n",
      "A value is trying to be set on a copy of a slice from a DataFrame.\n",
      "Try using .loc[row_indexer,col_indexer] = value instead\n",
      "\n",
      "See the caveats in the documentation: https://pandas.pydata.org/pandas-docs/stable/user_guide/indexing.html#returning-a-view-versus-a-copy\n",
      "  nuevos['Min']=nuevos.min(axis=1)\n",
      "/home/jovyan/work/ETL/../modules/transforms.py:68: SettingWithCopyWarning: \n",
      "A value is trying to be set on a copy of a slice from a DataFrame.\n",
      "Try using .loc[row_indexer,col_indexer] = value instead\n",
      "\n",
      "See the caveats in the documentation: https://pandas.pydata.org/pandas-docs/stable/user_guide/indexing.html#returning-a-view-versus-a-copy\n",
      "  nuevos['Max']=nuevos.max(axis=1)\n",
      "/home/jovyan/work/ETL/../modules/transforms.py:66: SettingWithCopyWarning: \n",
      "A value is trying to be set on a copy of a slice from a DataFrame.\n",
      "Try using .loc[row_indexer,col_indexer] = value instead\n",
      "\n",
      "See the caveats in the documentation: https://pandas.pydata.org/pandas-docs/stable/user_guide/indexing.html#returning-a-view-versus-a-copy\n",
      "  nuevos['Promedio']=nuevos.mean(axis=1)\n",
      "/home/jovyan/work/ETL/../modules/transforms.py:67: SettingWithCopyWarning: \n",
      "A value is trying to be set on a copy of a slice from a DataFrame.\n",
      "Try using .loc[row_indexer,col_indexer] = value instead\n",
      "\n",
      "See the caveats in the documentation: https://pandas.pydata.org/pandas-docs/stable/user_guide/indexing.html#returning-a-view-versus-a-copy\n",
      "  nuevos['Min']=nuevos.min(axis=1)\n",
      "/home/jovyan/work/ETL/../modules/transforms.py:68: SettingWithCopyWarning: \n",
      "A value is trying to be set on a copy of a slice from a DataFrame.\n",
      "Try using .loc[row_indexer,col_indexer] = value instead\n",
      "\n",
      "See the caveats in the documentation: https://pandas.pydata.org/pandas-docs/stable/user_guide/indexing.html#returning-a-view-versus-a-copy\n",
      "  nuevos['Max']=nuevos.max(axis=1)\n"
     ]
    },
    {
     "name": "stdout",
     "output_type": "stream",
     "text": [
      "reading table producto53_confirmados_provinciale from schema producto53\n",
      "adding descriptive stats to table: producto53_confirmados_provinciale\n"
     ]
    }
   ],
   "source": [
    "derived_tables={}\n",
    "derived_tables['producto50']={}\n",
    "derived_tables['producto50']['producto50_DefuncionesDEIS_consolidadoPorComuna_std']=x\n",
    "for s in tables.keys():\n",
    "    for n in tables[s]:\n",
    "        #print(n)\n",
    "        if 'cumulativo' in n.lower():\n",
    "            print('reading table '+n+'from schema '+s)\n",
    "            table=pd.read_sql_table(n, con=cnx,schema=s) \n",
    "            print('generating diff table for cumulative table: '+n)\n",
    "            nn=n.lower().replace('cumulativo','_diff_')\n",
    "            if s not in derived_tables.keys():\n",
    "                derived_tables[s]={}\n",
    "            print('new name: '+nn)\n",
    "            if 'std' not in nn:\n",
    "                derived_tables[s][nn]=to_diff(table)\n",
    "            else:\n",
    "                print('standard form with linear regression')\n",
    "                derived_tables[s][nn]=to_diff_std(table)\n",
    "                derived_tables[s][nn]['Fecha']=derived_tables[s][nn]['Fecha'].dt.to_pydatetime()\n",
    "        \n",
    "        elif 'producto53' in n.lower():\n",
    "            print('reading table '+n+' from schema '+s)\n",
    "            table=pd.read_sql_table(n, con=cnx,schema=s) \n",
    "            if s not in derived_tables.keys():\n",
    "                derived_tables[s]={}\n",
    "                \n",
    "            print('adding descriptive stats to table: '+n)\n",
    "            derived_tables[s][n]=casos_nuevos_desc(table,numeric_col_string='confirmados',group_col='Region')\n",
    "            \n",
    "            nn=n.lower()+'_casos_activos'\n",
    "            #nn=n\n",
    "            \n",
    "            if ('producto53_confirmados_regionale' in n.lower()) & ('_casos_activos' not in n.lower()):\n",
    "                print('calculando casos activos con rolling avg de 14 días')\n",
    "                print('new name: '+nn)\n",
    "                derived_tables[s][n]=derived_tables[s][n].merge(iso,on='Codigo region',how='left')\n",
    "                derived_tables[s][nn]=casos_activos(table,numeric_col_string='confirmados',group_col='Region',window=14)\n",
    "                derived_tables[s][nn]=derived_tables[s][nn].merge(iso,on='Codigo region',how='left')\n",
    "                derived_tables[s][nn]=reverse_idx(derived_tables[s][nn],date_field='fecha')\n",
    "                \n",
    "            elif ('producto53_confirmados_nacional' in n.lower()) & ('_casos_activos' not in n.lower()):\n",
    "                print('calculando casos activos con rolling avg de 14 días')\n",
    "                print('new name: '+nn)\n",
    "                derived_tables[s][nn]=casos_activos(table,numeric_col_string='confirmados',group_col=None,window=14)\n",
    "            #elif ('confirmados_provinciale' in n.lower()) & ('_casos_activos' not in n.lower()):\n",
    "            #    print('calculando casos activos con rolling avg de 14 días')\n",
    "            #    print('new name: '+nn)\n",
    "            #    derived_tables[s][nn]=casos_activos(table,numeric_col_string='confirmados',group_col='Provincia',window=14)  \n",
    "            #elif ('producto53_confirmados_' in n.lower()) & ('_casos_activos' not in n.lower()):\n",
    "            #    print('calculando casos activos con rolling avg de 14 días')\n",
    "            #    print('new name: '+nn)\n",
    "            #    derived_tables[s][nn]=casos_activos(table,numeric_col_string='confirmados',group_col='servicio.salud',window=14)            "
   ]
  },
  {
   "cell_type": "code",
   "execution_count": 17,
   "metadata": {},
   "outputs": [
    {
     "data": {
      "text/plain": [
       "2"
      ]
     },
     "execution_count": 17,
     "metadata": {},
     "output_type": "execute_result"
    }
   ],
   "source": [
    "len(derived_tables)"
   ]
  },
  {
   "cell_type": "code",
   "execution_count": 18,
   "metadata": {},
   "outputs": [
    {
     "data": {
      "text/plain": [
       "['producto50', 'producto53']"
      ]
     },
     "execution_count": 18,
     "metadata": {},
     "output_type": "execute_result"
    }
   ],
   "source": [
    "list(derived_tables.keys())"
   ]
  },
  {
   "cell_type": "code",
   "execution_count": 19,
   "metadata": {},
   "outputs": [
    {
     "data": {
      "text/plain": [
       "'/data/ETLcache/'"
      ]
     },
     "execution_count": 19,
     "metadata": {},
     "output_type": "execute_result"
    }
   ],
   "source": [
    "path"
   ]
  },
  {
   "cell_type": "code",
   "execution_count": 31,
   "metadata": {},
   "outputs": [
    {
     "name": "stdout",
     "output_type": "stream",
     "text": [
      "creating table producto53_confirmados_regionale ,schema: producto53\n",
      "saving table/data/ETLcache/producto53_confirmados_regionale_06122021_014153.csv in cache\n",
      "creating table producto53_confirmados_regionale_casos_activos ,schema: producto53\n",
      "saving table/data/ETLcache/producto53_confirmados_regionale_casos_activos_06122021_014153.csv in cache\n",
      "creating table producto53_confirmados_ ,schema: producto53\n",
      "saving table/data/ETLcache/producto53_confirmados__06122021_014153.csv in cache\n",
      "creating table producto53_confirmados_nacional ,schema: producto53\n",
      "saving table/data/ETLcache/producto53_confirmados_nacional_06122021_014153.csv in cache\n",
      "creating table producto53_confirmados_nacional_casos_activos ,schema: producto53\n",
      "saving table/data/ETLcache/producto53_confirmados_nacional_casos_activos_06122021_014153.csv in cache\n",
      "creating table producto53_confirmados_provinciale ,schema: producto53\n",
      "saving table/data/ETLcache/producto53_confirmados_provinciale_06122021_014153.csv in cache\n"
     ]
    }
   ],
   "source": [
    "for schema in ['producto53']:\n",
    "    for name in derived_tables[schema].keys():\n",
    "        try:\n",
    "            df=derived_tables[schema][name]\n",
    "            if 'level_0' in df.columns:\n",
    "                df=df.drop('level_0',axis=1)\n",
    "            name=name.replace('-','_')\n",
    "            print(\"creating table \"+name+' ,schema: '+schema)\n",
    "            df.to_sql(name, schema=schema,con=cnx,if_exists='replace')\n",
    "            print(\"saving table\"+path+name+timestamp+'.csv in cache')\n",
    "            df.to_csv(path+name+timestamp+'.csv',encoding='utf-8')\n",
    "        except Exception as e: \n",
    "            print(str(e))\n",
    "            pass"
   ]
  },
  {
   "cell_type": "code",
   "execution_count": 33,
   "metadata": {},
   "outputs": [],
   "source": [
    "del(derived_tables['producto53'])"
   ]
  },
  {
   "cell_type": "code",
   "execution_count": 34,
   "metadata": {},
   "outputs": [
    {
     "data": {
      "text/plain": [
       "dict_keys(['producto50'])"
      ]
     },
     "execution_count": 34,
     "metadata": {},
     "output_type": "execute_result"
    }
   ],
   "source": [
    "derived_tables.keys()"
   ]
  },
  {
   "cell_type": "code",
   "execution_count": 35,
   "metadata": {},
   "outputs": [
    {
     "name": "stdout",
     "output_type": "stream",
     "text": [
      "creating table producto50_DefuncionesDEIS_consolidadoPorComuna_std ,schema: producto50\n",
      "saving table/data/ETLcache/producto50_DefuncionesDEIS_consolidadoPorComuna_std_06122021_014153.csv in cache\n"
     ]
    }
   ],
   "source": [
    "for schema in ['producto50']:\n",
    "    for name in derived_tables[schema].keys():\n",
    "        try:\n",
    "            df=derived_tables[schema][name]\n",
    "            if 'level_0' in df.columns:\n",
    "                df=df.drop('level_0',axis=1)\n",
    "            name=name.replace('-','_')\n",
    "            print(\"creating table \"+name+' ,schema: '+schema)\n",
    "            df.to_sql(name, schema=schema,con=cnx,if_exists='replace')\n",
    "            print(\"saving table\"+path+name+timestamp+'.csv in cache')\n",
    "            df.to_csv(path+name+timestamp+'.csv',encoding='utf-8')\n",
    "        except Exception as e: \n",
    "            print(str(e))\n",
    "            pass"
   ]
  },
  {
   "cell_type": "code",
   "execution_count": 29,
   "metadata": {},
   "outputs": [
    {
     "data": {
      "text/plain": [
       "65280"
      ]
     },
     "execution_count": 29,
     "metadata": {},
     "output_type": "execute_result"
    }
   ],
   "source": [
    "os.system('jupyter nbconvert --output /home/jovyan/work/ETLdocs/' + 'ETL_covid-chile-derived.html' + ' --to html ' + \n",
    "          '/home/jovyan/work/ETL/covid-chile-derived@min-ciencias.ipynb')"
   ]
  }
 ],
 "metadata": {
  "kernelspec": {
   "display_name": "Python 3 (ipykernel)",
   "language": "python",
   "name": "python3"
  },
  "language_info": {
   "codemirror_mode": {
    "name": "ipython",
    "version": 3
   },
   "file_extension": ".py",
   "mimetype": "text/x-python",
   "name": "python",
   "nbconvert_exporter": "python",
   "pygments_lexer": "ipython3",
   "version": "3.9.7"
  }
 },
 "nbformat": 4,
 "nbformat_minor": 4
}
