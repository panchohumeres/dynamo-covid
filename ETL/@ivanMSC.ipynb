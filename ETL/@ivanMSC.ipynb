{
 "cells": [
  {
   "cell_type": "code",
   "execution_count": 1,
   "metadata": {},
   "outputs": [],
   "source": [
    "import pandas as pd\n",
    "import sqlalchemy \n",
    "import psycopg2\n",
    "import os\n",
    "import numpy as np\n",
    "import requests\n",
    "import re\n",
    "import copy\n",
    "import sys\n",
    "from pandas.api.types import is_numeric_dtype\n",
    "from sklearn.linear_model import LinearRegression\n",
    "from sqlalchemy import create_engine\n",
    "import datetime\n",
    "from datetime import datetime as dt\n",
    "import geopandas as gpd\n",
    "import topojson as tp\n",
    "from shapely import geometry\n",
    "sys.path.append('..')\n",
    "from modules.transforms import *"
   ]
  },
  {
   "cell_type": "code",
   "execution_count": 2,
   "metadata": {},
   "outputs": [],
   "source": [
    "DBname=os.environ['DB_NAME']\n",
    "postgres_psswd=os.environ['POSTGRES_PASSWORD']\n",
    "postgres_user=os.environ['POSTGRES_USER']\n",
    "postgres_port=str(os.environ['POSTGRES_PORT'])"
   ]
  },
  {
   "cell_type": "code",
   "execution_count": 3,
   "metadata": {},
   "outputs": [],
   "source": [
    "# A long string that contains the necessary Postgres login information\n",
    "postgres_str = ('postgresql://'+postgres_user+':'+postgres_psswd+'@'+DBname+':'+postgres_port+'/superset')\n",
    "# Create the connection\n",
    "cnx = create_engine(postgres_str)"
   ]
  },
  {
   "cell_type": "code",
   "execution_count": 4,
   "metadata": {},
   "outputs": [],
   "source": [
    "#guardar paso en csv\n",
    "path='/data/ETLcache/'\n",
    "now = dt.now()\n",
    "timestamp = now.strftime(\"_%d%m%Y_%H%M%S\")"
   ]
  },
  {
   "cell_type": "code",
   "execution_count": 5,
   "metadata": {},
   "outputs": [],
   "source": [
    "url='https://raw.githubusercontent.com/ivanMSC/COVID19_Chile/master/historial_comunas.csv'"
   ]
  },
  {
   "cell_type": "code",
   "execution_count": 6,
   "metadata": {},
   "outputs": [],
   "source": [
    "contagiados_comunal=pd.read_csv(url)\n",
    "contagiados_comunal['Fecha']=pd.to_datetime(contagiados_comunal['Fecha'],errors='coerce').dt.to_pydatetime()"
   ]
  },
  {
   "cell_type": "code",
   "execution_count": 7,
   "metadata": {},
   "outputs": [],
   "source": [
    "url='https://raw.githubusercontent.com/ivanMSC/COVID19_Chile/master/utils/comunasChile.csv'"
   ]
  },
  {
   "cell_type": "code",
   "execution_count": 8,
   "metadata": {},
   "outputs": [],
   "source": [
    "info_comunal=pd.read_csv(url)"
   ]
  },
  {
   "cell_type": "code",
   "execution_count": 9,
   "metadata": {},
   "outputs": [],
   "source": [
    "info_comunal=info_comunal.rename(columns={'CUT (Código Único Territorial)':'CUT'})"
   ]
  },
  {
   "cell_type": "code",
   "execution_count": 18,
   "metadata": {},
   "outputs": [
    {
     "data": {
      "text/plain": [
       "array(['15', '1', '2', '3', '4', '5', '6', '7', '16', '8', '9', '14',\n",
       "       '10', '11', '12', '13'], dtype=object)"
      ]
     },
     "execution_count": 18,
     "metadata": {},
     "output_type": "execute_result"
    }
   ],
   "source": [
    "info_comunal['CUT'].astype(str).str[:-3].unique()"
   ]
  },
  {
   "cell_type": "code",
   "execution_count": 10,
   "metadata": {},
   "outputs": [
    {
     "name": "stdout",
     "output_type": "stream",
     "text": [
      "schema @ivanMSC exists, will not be created\n"
     ]
    }
   ],
   "source": [
    "for k in ['@ivanMSC']:\n",
    "    if not cnx.dialect.has_schema(cnx, k):\n",
    "        print('schema '+k+' does not exist, creating it')\n",
    "        cnx.execute(sqlalchemy.schema.CreateSchema(k))\n",
    "    else:\n",
    "        print('schema '+k+' exists, will not be created')"
   ]
  },
  {
   "cell_type": "code",
   "execution_count": 11,
   "metadata": {},
   "outputs": [],
   "source": [
    "contagiados_comunal.set_index('Fecha',inplace=True)"
   ]
  },
  {
   "cell_type": "code",
   "execution_count": 12,
   "metadata": {},
   "outputs": [],
   "source": [
    "contagiados_comunal['activos']=rolling(contagiados_comunal,numeric_col='Nuevos Confirmados',group_col='Comuna',window=14) "
   ]
  },
  {
   "cell_type": "code",
   "execution_count": 15,
   "metadata": {},
   "outputs": [],
   "source": [
    "contagiados_comunal=contagiados_comunal.reset_index()"
   ]
  },
  {
   "cell_type": "code",
   "execution_count": 16,
   "metadata": {},
   "outputs": [],
   "source": [
    "contagiados_comunal=contagiados_comunal.drop('Region',axis=1)"
   ]
  },
  {
   "cell_type": "code",
   "execution_count": 17,
   "metadata": {},
   "outputs": [],
   "source": [
    "contagiados_comunal=contagiados_comunal.merge(info_comunal[['CUT','Provincia','Region','Poblacion','Lat','Lon']],\n",
    "                         on='CUT',how='left')"
   ]
  },
  {
   "cell_type": "code",
   "execution_count": 18,
   "metadata": {},
   "outputs": [],
   "source": [
    "contagiados_comunal['Indicencia Acumulados']=contagiados_comunal['Confirmados Acumulados']/contagiados_comunal['Poblacion']*100000"
   ]
  },
  {
   "cell_type": "code",
   "execution_count": 19,
   "metadata": {},
   "outputs": [],
   "source": [
    "contagiados_comunal['Indicencia Activos']=contagiados_comunal['activos']/contagiados_comunal['Poblacion']*100000"
   ]
  },
  {
   "cell_type": "code",
   "execution_count": 20,
   "metadata": {},
   "outputs": [
    {
     "name": "stdout",
     "output_type": "stream",
     "text": [
      "creating table contagios_comunal@ivanMSC ,schema: @ivanMSC\n",
      "saving table/data/ETLcache/contagios_comunal@ivanMSC_18092020_061032.csv in cache\n",
      "creating table info_comunal@ivanMSC ,schema: @ivanMSC\n",
      "saving table/data/ETLcache/info_comunal@ivanMSC_18092020_061032.csv in cache\n"
     ]
    }
   ],
   "source": [
    "name='contagios_comunal@ivanMSC'\n",
    "schema='@ivanMSC'\n",
    "print(\"creating table \"+name+' ,schema: '+schema)\n",
    "contagiados_comunal.to_sql(name, schema=schema,con=cnx,if_exists='replace')\n",
    "print(\"saving table\"+path+name+timestamp+'.csv in cache')\n",
    "contagiados_comunal.to_csv(path+name+timestamp+'.csv',encoding='utf-8')\n",
    "name='info_comunal@ivanMSC'\n",
    "print(\"creating table \"+name+' ,schema: '+schema)\n",
    "info_comunal.to_sql(name, schema=schema,con=cnx,if_exists='replace')\n",
    "print(\"saving table\"+path+name+timestamp+'.csv in cache')\n",
    "info_comunal.to_csv(path+name+timestamp+'.csv',encoding='utf-8')"
   ]
  },
  {
   "cell_type": "code",
   "execution_count": 21,
   "metadata": {},
   "outputs": [
    {
     "data": {
      "text/html": [
       "<div>\n",
       "<style scoped>\n",
       "    .dataframe tbody tr th:only-of-type {\n",
       "        vertical-align: middle;\n",
       "    }\n",
       "\n",
       "    .dataframe tbody tr th {\n",
       "        vertical-align: top;\n",
       "    }\n",
       "\n",
       "    .dataframe thead th {\n",
       "        text-align: right;\n",
       "    }\n",
       "</style>\n",
       "<table border=\"1\" class=\"dataframe\">\n",
       "  <thead>\n",
       "    <tr style=\"text-align: right;\">\n",
       "      <th></th>\n",
       "      <th>Fecha</th>\n",
       "      <th>CUT</th>\n",
       "      <th>Comuna</th>\n",
       "      <th>Confirmados Acumulados</th>\n",
       "      <th>Nuevos Confirmados</th>\n",
       "      <th>activos</th>\n",
       "      <th>Provincia</th>\n",
       "      <th>Region</th>\n",
       "      <th>Poblacion</th>\n",
       "      <th>Lat</th>\n",
       "      <th>Lon</th>\n",
       "      <th>Indicencia Acumulados</th>\n",
       "      <th>Indicencia Activos</th>\n",
       "    </tr>\n",
       "  </thead>\n",
       "  <tbody>\n",
       "    <tr>\n",
       "      <th>0</th>\n",
       "      <td>2020-03-18</td>\n",
       "      <td>15101</td>\n",
       "      <td>Arica</td>\n",
       "      <td>1</td>\n",
       "      <td>1</td>\n",
       "      <td>1.0</td>\n",
       "      <td>Arica</td>\n",
       "      <td>Arica y Parinacota</td>\n",
       "      <td>247552.0</td>\n",
       "      <td>-18.455</td>\n",
       "      <td>-70.290</td>\n",
       "      <td>0.403956</td>\n",
       "      <td>0.403956</td>\n",
       "    </tr>\n",
       "    <tr>\n",
       "      <th>1</th>\n",
       "      <td>2020-03-19</td>\n",
       "      <td>15101</td>\n",
       "      <td>Arica</td>\n",
       "      <td>1</td>\n",
       "      <td>0</td>\n",
       "      <td>1.0</td>\n",
       "      <td>Arica</td>\n",
       "      <td>Arica y Parinacota</td>\n",
       "      <td>247552.0</td>\n",
       "      <td>-18.455</td>\n",
       "      <td>-70.290</td>\n",
       "      <td>0.403956</td>\n",
       "      <td>0.403956</td>\n",
       "    </tr>\n",
       "    <tr>\n",
       "      <th>2</th>\n",
       "      <td>2020-03-20</td>\n",
       "      <td>15101</td>\n",
       "      <td>Arica</td>\n",
       "      <td>1</td>\n",
       "      <td>0</td>\n",
       "      <td>1.0</td>\n",
       "      <td>Arica</td>\n",
       "      <td>Arica y Parinacota</td>\n",
       "      <td>247552.0</td>\n",
       "      <td>-18.455</td>\n",
       "      <td>-70.290</td>\n",
       "      <td>0.403956</td>\n",
       "      <td>0.403956</td>\n",
       "    </tr>\n",
       "    <tr>\n",
       "      <th>3</th>\n",
       "      <td>2020-03-21</td>\n",
       "      <td>15101</td>\n",
       "      <td>Arica</td>\n",
       "      <td>1</td>\n",
       "      <td>0</td>\n",
       "      <td>1.0</td>\n",
       "      <td>Arica</td>\n",
       "      <td>Arica y Parinacota</td>\n",
       "      <td>247552.0</td>\n",
       "      <td>-18.455</td>\n",
       "      <td>-70.290</td>\n",
       "      <td>0.403956</td>\n",
       "      <td>0.403956</td>\n",
       "    </tr>\n",
       "    <tr>\n",
       "      <th>4</th>\n",
       "      <td>2020-03-22</td>\n",
       "      <td>15101</td>\n",
       "      <td>Arica</td>\n",
       "      <td>2</td>\n",
       "      <td>1</td>\n",
       "      <td>2.0</td>\n",
       "      <td>Arica</td>\n",
       "      <td>Arica y Parinacota</td>\n",
       "      <td>247552.0</td>\n",
       "      <td>-18.455</td>\n",
       "      <td>-70.290</td>\n",
       "      <td>0.807911</td>\n",
       "      <td>0.807911</td>\n",
       "    </tr>\n",
       "    <tr>\n",
       "      <th>...</th>\n",
       "      <td>...</td>\n",
       "      <td>...</td>\n",
       "      <td>...</td>\n",
       "      <td>...</td>\n",
       "      <td>...</td>\n",
       "      <td>...</td>\n",
       "      <td>...</td>\n",
       "      <td>...</td>\n",
       "      <td>...</td>\n",
       "      <td>...</td>\n",
       "      <td>...</td>\n",
       "      <td>...</td>\n",
       "      <td>...</td>\n",
       "    </tr>\n",
       "    <tr>\n",
       "      <th>47108</th>\n",
       "      <td>2020-09-13</td>\n",
       "      <td>12301</td>\n",
       "      <td>Porvenir</td>\n",
       "      <td>128</td>\n",
       "      <td>19</td>\n",
       "      <td>66.0</td>\n",
       "      <td>Tierra del Fuego</td>\n",
       "      <td>Magallanes</td>\n",
       "      <td>7323.0</td>\n",
       "      <td>-53.298</td>\n",
       "      <td>-70.385</td>\n",
       "      <td>1747.917520</td>\n",
       "      <td>901.269971</td>\n",
       "    </tr>\n",
       "    <tr>\n",
       "      <th>47109</th>\n",
       "      <td>2020-09-14</td>\n",
       "      <td>12301</td>\n",
       "      <td>Porvenir</td>\n",
       "      <td>128</td>\n",
       "      <td>0</td>\n",
       "      <td>65.0</td>\n",
       "      <td>Tierra del Fuego</td>\n",
       "      <td>Magallanes</td>\n",
       "      <td>7323.0</td>\n",
       "      <td>-53.298</td>\n",
       "      <td>-70.385</td>\n",
       "      <td>1747.917520</td>\n",
       "      <td>887.614366</td>\n",
       "    </tr>\n",
       "    <tr>\n",
       "      <th>47110</th>\n",
       "      <td>2020-09-15</td>\n",
       "      <td>12301</td>\n",
       "      <td>Porvenir</td>\n",
       "      <td>128</td>\n",
       "      <td>0</td>\n",
       "      <td>65.0</td>\n",
       "      <td>Tierra del Fuego</td>\n",
       "      <td>Magallanes</td>\n",
       "      <td>7323.0</td>\n",
       "      <td>-53.298</td>\n",
       "      <td>-70.385</td>\n",
       "      <td>1747.917520</td>\n",
       "      <td>887.614366</td>\n",
       "    </tr>\n",
       "    <tr>\n",
       "      <th>47111</th>\n",
       "      <td>2020-09-16</td>\n",
       "      <td>12301</td>\n",
       "      <td>Porvenir</td>\n",
       "      <td>135</td>\n",
       "      <td>7</td>\n",
       "      <td>72.0</td>\n",
       "      <td>Tierra del Fuego</td>\n",
       "      <td>Magallanes</td>\n",
       "      <td>7323.0</td>\n",
       "      <td>-53.298</td>\n",
       "      <td>-70.385</td>\n",
       "      <td>1843.506760</td>\n",
       "      <td>983.203605</td>\n",
       "    </tr>\n",
       "    <tr>\n",
       "      <th>47112</th>\n",
       "      <td>2020-09-17</td>\n",
       "      <td>12301</td>\n",
       "      <td>Porvenir</td>\n",
       "      <td>149</td>\n",
       "      <td>14</td>\n",
       "      <td>80.0</td>\n",
       "      <td>Tierra del Fuego</td>\n",
       "      <td>Magallanes</td>\n",
       "      <td>7323.0</td>\n",
       "      <td>-53.298</td>\n",
       "      <td>-70.385</td>\n",
       "      <td>2034.685238</td>\n",
       "      <td>1092.448450</td>\n",
       "    </tr>\n",
       "  </tbody>\n",
       "</table>\n",
       "<p>47113 rows × 13 columns</p>\n",
       "</div>"
      ],
      "text/plain": [
       "           Fecha    CUT    Comuna  Confirmados Acumulados  Nuevos Confirmados  \\\n",
       "0     2020-03-18  15101     Arica                       1                   1   \n",
       "1     2020-03-19  15101     Arica                       1                   0   \n",
       "2     2020-03-20  15101     Arica                       1                   0   \n",
       "3     2020-03-21  15101     Arica                       1                   0   \n",
       "4     2020-03-22  15101     Arica                       2                   1   \n",
       "...          ...    ...       ...                     ...                 ...   \n",
       "47108 2020-09-13  12301  Porvenir                     128                  19   \n",
       "47109 2020-09-14  12301  Porvenir                     128                   0   \n",
       "47110 2020-09-15  12301  Porvenir                     128                   0   \n",
       "47111 2020-09-16  12301  Porvenir                     135                   7   \n",
       "47112 2020-09-17  12301  Porvenir                     149                  14   \n",
       "\n",
       "       activos         Provincia              Region  Poblacion     Lat  \\\n",
       "0          1.0             Arica  Arica y Parinacota   247552.0 -18.455   \n",
       "1          1.0             Arica  Arica y Parinacota   247552.0 -18.455   \n",
       "2          1.0             Arica  Arica y Parinacota   247552.0 -18.455   \n",
       "3          1.0             Arica  Arica y Parinacota   247552.0 -18.455   \n",
       "4          2.0             Arica  Arica y Parinacota   247552.0 -18.455   \n",
       "...        ...               ...                 ...        ...     ...   \n",
       "47108     66.0  Tierra del Fuego          Magallanes     7323.0 -53.298   \n",
       "47109     65.0  Tierra del Fuego          Magallanes     7323.0 -53.298   \n",
       "47110     65.0  Tierra del Fuego          Magallanes     7323.0 -53.298   \n",
       "47111     72.0  Tierra del Fuego          Magallanes     7323.0 -53.298   \n",
       "47112     80.0  Tierra del Fuego          Magallanes     7323.0 -53.298   \n",
       "\n",
       "          Lon  Indicencia Acumulados  Indicencia Activos  \n",
       "0     -70.290               0.403956            0.403956  \n",
       "1     -70.290               0.403956            0.403956  \n",
       "2     -70.290               0.403956            0.403956  \n",
       "3     -70.290               0.403956            0.403956  \n",
       "4     -70.290               0.807911            0.807911  \n",
       "...       ...                    ...                 ...  \n",
       "47108 -70.385            1747.917520          901.269971  \n",
       "47109 -70.385            1747.917520          887.614366  \n",
       "47110 -70.385            1747.917520          887.614366  \n",
       "47111 -70.385            1843.506760          983.203605  \n",
       "47112 -70.385            2034.685238         1092.448450  \n",
       "\n",
       "[47113 rows x 13 columns]"
      ]
     },
     "execution_count": 21,
     "metadata": {},
     "output_type": "execute_result"
    }
   ],
   "source": [
    "contagiados_comunal"
   ]
  },
  {
   "cell_type": "code",
   "execution_count": null,
   "metadata": {},
   "outputs": [],
   "source": []
  }
 ],
 "metadata": {
  "kernelspec": {
   "display_name": "Python 3",
   "language": "python",
   "name": "python3"
  },
  "language_info": {
   "codemirror_mode": {
    "name": "ipython",
    "version": 3
   },
   "file_extension": ".py",
   "mimetype": "text/x-python",
   "name": "python",
   "nbconvert_exporter": "python",
   "pygments_lexer": "ipython3",
   "version": "3.8.5"
  }
 },
 "nbformat": 4,
 "nbformat_minor": 4
}
