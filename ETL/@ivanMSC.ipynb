{
 "cells": [
  {
   "cell_type": "code",
   "execution_count": 1,
   "metadata": {},
   "outputs": [],
   "source": [
    "import pandas as pd\n",
    "import sqlalchemy \n",
    "import psycopg2\n",
    "import os\n",
    "import numpy as np\n",
    "import requests\n",
    "import re\n",
    "import copy\n",
    "import sys\n",
    "from pandas.api.types import is_numeric_dtype\n",
    "from sklearn.linear_model import LinearRegression\n",
    "from sqlalchemy import create_engine\n",
    "import datetime\n",
    "from datetime import datetime as dt\n",
    "import geopandas as gpd\n",
    "import topojson as tp\n",
    "from shapely import geometry\n",
    "sys.path.append('..')\n",
    "from modules.transforms import *"
   ]
  },
  {
   "cell_type": "code",
   "execution_count": 2,
   "metadata": {},
   "outputs": [],
   "source": [
    "DBname=os.environ['DB_NAME']\n",
    "postgres_psswd=os.environ['POSTGRES_PASSWORD']\n",
    "postgres_user=os.environ['POSTGRES_USER']\n",
    "postgres_port=str(os.environ['POSTGRES_PORT'])"
   ]
  },
  {
   "cell_type": "code",
   "execution_count": 3,
   "metadata": {},
   "outputs": [],
   "source": [
    "# A long string that contains the necessary Postgres login information\n",
    "postgres_str = ('postgresql://'+postgres_user+':'+postgres_psswd+'@'+DBname+':'+postgres_port+'/superset')\n",
    "# Create the connection\n",
    "cnx = create_engine(postgres_str)"
   ]
  },
  {
   "cell_type": "code",
   "execution_count": 4,
   "metadata": {},
   "outputs": [],
   "source": [
    "#guardar paso en csv\n",
    "path='/data/ETLcache/'\n",
    "now = dt.now()\n",
    "timestamp = now.strftime(\"_%d%m%Y_%H%M%S\")"
   ]
  },
  {
   "cell_type": "code",
   "execution_count": 5,
   "metadata": {},
   "outputs": [],
   "source": [
    "url='https://raw.githubusercontent.com/ivanMSC/COVID19_Chile/master/historial_comunas.csv'"
   ]
  },
  {
   "cell_type": "code",
   "execution_count": 6,
   "metadata": {},
   "outputs": [],
   "source": [
    "contagiados_comunal=pd.read_csv(url)\n",
    "contagiados_comunal['Fecha']=pd.to_datetime(contagiados_comunal['Fecha'],errors='coerce').dt.to_pydatetime()"
   ]
  },
  {
   "cell_type": "code",
   "execution_count": 7,
   "metadata": {},
   "outputs": [],
   "source": [
    "url='https://raw.githubusercontent.com/ivanMSC/COVID19_Chile/master/utils/comunasChile.csv'"
   ]
  },
  {
   "cell_type": "code",
   "execution_count": 8,
   "metadata": {},
   "outputs": [],
   "source": [
    "info_comunal=pd.read_csv(url)"
   ]
  },
  {
   "cell_type": "code",
   "execution_count": 9,
   "metadata": {},
   "outputs": [],
   "source": [
    "info_comunal=info_comunal.rename(columns={'CUT (Código Único Territorial)':'CUT'})"
   ]
  },
  {
   "cell_type": "code",
   "execution_count": 10,
   "metadata": {},
   "outputs": [
    {
     "data": {
      "text/plain": [
       "array(['15', '1', '2', '3', '4', '5', '6', '7', '16', '8', '9', '14',\n",
       "       '10', '11', '12', '13'], dtype=object)"
      ]
     },
     "execution_count": 10,
     "metadata": {},
     "output_type": "execute_result"
    }
   ],
   "source": [
    "info_comunal['CUT'].astype(str).str[:-3].unique()"
   ]
  },
  {
   "cell_type": "code",
   "execution_count": 11,
   "metadata": {},
   "outputs": [
    {
     "name": "stdout",
     "output_type": "stream",
     "text": [
      "schema @ivanMSC does not exist, creating it\n"
     ]
    }
   ],
   "source": [
    "for k in ['@ivanMSC']:\n",
    "    if not cnx.dialect.has_schema(cnx, k):\n",
    "        print('schema '+k+' does not exist, creating it')\n",
    "        cnx.execute(sqlalchemy.schema.CreateSchema(k))\n",
    "    else:\n",
    "        print('schema '+k+' exists, will not be created')"
   ]
  },
  {
   "cell_type": "code",
   "execution_count": 12,
   "metadata": {},
   "outputs": [],
   "source": [
    "contagiados_comunal.set_index('Fecha',inplace=True)"
   ]
  },
  {
   "cell_type": "code",
   "execution_count": 13,
   "metadata": {},
   "outputs": [],
   "source": [
    "contagiados_comunal['activos']=rolling(contagiados_comunal,numeric_col='Nuevos Confirmados',group_col='Comuna',window=14) "
   ]
  },
  {
   "cell_type": "code",
   "execution_count": 14,
   "metadata": {},
   "outputs": [],
   "source": [
    "contagiados_comunal=contagiados_comunal.reset_index()"
   ]
  },
  {
   "cell_type": "code",
   "execution_count": 15,
   "metadata": {},
   "outputs": [],
   "source": [
    "contagiados_comunal=contagiados_comunal.drop('Region',axis=1)"
   ]
  },
  {
   "cell_type": "code",
   "execution_count": 16,
   "metadata": {},
   "outputs": [],
   "source": [
    "contagiados_comunal=contagiados_comunal.merge(info_comunal[['CUT','Provincia','Region','Poblacion','Lat','Lon']],\n",
    "                         on='CUT',how='left')"
   ]
  },
  {
   "cell_type": "code",
   "execution_count": 17,
   "metadata": {},
   "outputs": [],
   "source": [
    "contagiados_comunal['Indicencia Acumulados']=contagiados_comunal['Confirmados Acumulados']/contagiados_comunal['Poblacion']*100000"
   ]
  },
  {
   "cell_type": "code",
   "execution_count": 18,
   "metadata": {},
   "outputs": [],
   "source": [
    "contagiados_comunal['Indicencia Activos']=contagiados_comunal['activos']/contagiados_comunal['Poblacion']*100000"
   ]
  },
  {
   "cell_type": "code",
   "execution_count": 19,
   "metadata": {},
   "outputs": [
    {
     "data": {
      "text/html": [
       "<div>\n",
       "<style scoped>\n",
       "    .dataframe tbody tr th:only-of-type {\n",
       "        vertical-align: middle;\n",
       "    }\n",
       "\n",
       "    .dataframe tbody tr th {\n",
       "        vertical-align: top;\n",
       "    }\n",
       "\n",
       "    .dataframe thead th {\n",
       "        text-align: right;\n",
       "    }\n",
       "</style>\n",
       "<table border=\"1\" class=\"dataframe\">\n",
       "  <thead>\n",
       "    <tr style=\"text-align: right;\">\n",
       "      <th></th>\n",
       "      <th>CUT</th>\n",
       "      <th>Nombre</th>\n",
       "      <th>Provincia</th>\n",
       "      <th>Region</th>\n",
       "      <th>Superficie</th>\n",
       "      <th>Poblacion</th>\n",
       "      <th>Densidad</th>\n",
       "      <th>IDH 2005</th>\n",
       "      <th>IDH Categoria</th>\n",
       "      <th>Lat</th>\n",
       "      <th>Lon</th>\n",
       "    </tr>\n",
       "  </thead>\n",
       "  <tbody>\n",
       "    <tr>\n",
       "      <th>0</th>\n",
       "      <td>15101</td>\n",
       "      <td>Arica</td>\n",
       "      <td>Arica</td>\n",
       "      <td>Arica y Parinacota</td>\n",
       "      <td>4799.4</td>\n",
       "      <td>247552.0</td>\n",
       "      <td>0.46</td>\n",
       "      <td>38.400</td>\n",
       "      <td>Alto</td>\n",
       "      <td>-18.45500</td>\n",
       "      <td>-70.29000</td>\n",
       "    </tr>\n",
       "    <tr>\n",
       "      <th>1</th>\n",
       "      <td>15102</td>\n",
       "      <td>Camarones</td>\n",
       "      <td>Arica</td>\n",
       "      <td>Arica y Parinacota</td>\n",
       "      <td>3927.0</td>\n",
       "      <td>1233.0</td>\n",
       "      <td>0.32</td>\n",
       "      <td>0.751</td>\n",
       "      <td>Alto</td>\n",
       "      <td>-19.01700</td>\n",
       "      <td>-69.86700</td>\n",
       "    </tr>\n",
       "    <tr>\n",
       "      <th>2</th>\n",
       "      <td>15201</td>\n",
       "      <td>Putre</td>\n",
       "      <td>Parinacota</td>\n",
       "      <td>Arica y Parinacota</td>\n",
       "      <td>5902.5</td>\n",
       "      <td>2515.0</td>\n",
       "      <td>0.47</td>\n",
       "      <td>0.707</td>\n",
       "      <td>Alto</td>\n",
       "      <td>-18.20000</td>\n",
       "      <td>-69.58300</td>\n",
       "    </tr>\n",
       "    <tr>\n",
       "      <th>3</th>\n",
       "      <td>15202</td>\n",
       "      <td>General Lagos</td>\n",
       "      <td>Parinacota</td>\n",
       "      <td>Arica y Parinacota</td>\n",
       "      <td>2244.4</td>\n",
       "      <td>810.0</td>\n",
       "      <td>0.31</td>\n",
       "      <td>0.670</td>\n",
       "      <td>Medio</td>\n",
       "      <td>-17.65300</td>\n",
       "      <td>-69.63500</td>\n",
       "    </tr>\n",
       "    <tr>\n",
       "      <th>4</th>\n",
       "      <td>1101</td>\n",
       "      <td>Iquique</td>\n",
       "      <td>Iquique</td>\n",
       "      <td>Tarapacá</td>\n",
       "      <td>2242.1</td>\n",
       "      <td>223463.0</td>\n",
       "      <td>85.40</td>\n",
       "      <td>0.766</td>\n",
       "      <td>Alto</td>\n",
       "      <td>-20.24400</td>\n",
       "      <td>-70.13900</td>\n",
       "    </tr>\n",
       "    <tr>\n",
       "      <th>...</th>\n",
       "      <td>...</td>\n",
       "      <td>...</td>\n",
       "      <td>...</td>\n",
       "      <td>...</td>\n",
       "      <td>...</td>\n",
       "      <td>...</td>\n",
       "      <td>...</td>\n",
       "      <td>...</td>\n",
       "      <td>...</td>\n",
       "      <td>...</td>\n",
       "      <td>...</td>\n",
       "    </tr>\n",
       "    <tr>\n",
       "      <th>343</th>\n",
       "      <td>13603</td>\n",
       "      <td>Isla de Maipo</td>\n",
       "      <td>Talagante</td>\n",
       "      <td>Metropolitana</td>\n",
       "      <td>189.0</td>\n",
       "      <td>40171.0</td>\n",
       "      <td>191.60</td>\n",
       "      <td>0.724</td>\n",
       "      <td>Alto</td>\n",
       "      <td>-33.75400</td>\n",
       "      <td>-70.88600</td>\n",
       "    </tr>\n",
       "    <tr>\n",
       "      <th>344</th>\n",
       "      <td>13604</td>\n",
       "      <td>Padre Hurtado</td>\n",
       "      <td>Talagante</td>\n",
       "      <td>Metropolitana</td>\n",
       "      <td>80.8</td>\n",
       "      <td>74188.0</td>\n",
       "      <td>782.80</td>\n",
       "      <td>0.728</td>\n",
       "      <td>Alto</td>\n",
       "      <td>-33.57600</td>\n",
       "      <td>-70.80000</td>\n",
       "    </tr>\n",
       "    <tr>\n",
       "      <th>345</th>\n",
       "      <td>13605</td>\n",
       "      <td>Peñaflor</td>\n",
       "      <td>Talagante</td>\n",
       "      <td>Metropolitana</td>\n",
       "      <td>69.0</td>\n",
       "      <td>101058.0</td>\n",
       "      <td>1307.30</td>\n",
       "      <td>0.753</td>\n",
       "      <td>Alto</td>\n",
       "      <td>-33.60600</td>\n",
       "      <td>-70.87700</td>\n",
       "    </tr>\n",
       "    <tr>\n",
       "      <th>346</th>\n",
       "      <td>5999</td>\n",
       "      <td>Barco Isabela Island</td>\n",
       "      <td>Valparaíso</td>\n",
       "      <td>Valparaíso</td>\n",
       "      <td>NaN</td>\n",
       "      <td>NaN</td>\n",
       "      <td>NaN</td>\n",
       "      <td>NaN</td>\n",
       "      <td>NaN</td>\n",
       "      <td>-33.01115</td>\n",
       "      <td>-71.59019</td>\n",
       "    </tr>\n",
       "    <tr>\n",
       "      <th>347</th>\n",
       "      <td>10999</td>\n",
       "      <td>Barco Silver Explorer</td>\n",
       "      <td>Los Lagos</td>\n",
       "      <td>Los Lagos</td>\n",
       "      <td>NaN</td>\n",
       "      <td>NaN</td>\n",
       "      <td>NaN</td>\n",
       "      <td>NaN</td>\n",
       "      <td>NaN</td>\n",
       "      <td>-39.76115</td>\n",
       "      <td>-74.24939</td>\n",
       "    </tr>\n",
       "  </tbody>\n",
       "</table>\n",
       "<p>348 rows × 11 columns</p>\n",
       "</div>"
      ],
      "text/plain": [
       "       CUT                 Nombre   Provincia              Region  Superficie  \\\n",
       "0    15101                  Arica       Arica  Arica y Parinacota      4799.4   \n",
       "1    15102              Camarones       Arica  Arica y Parinacota      3927.0   \n",
       "2    15201                  Putre  Parinacota  Arica y Parinacota      5902.5   \n",
       "3    15202          General Lagos  Parinacota  Arica y Parinacota      2244.4   \n",
       "4     1101                Iquique     Iquique            Tarapacá      2242.1   \n",
       "..     ...                    ...         ...                 ...         ...   \n",
       "343  13603          Isla de Maipo   Talagante       Metropolitana       189.0   \n",
       "344  13604          Padre Hurtado   Talagante       Metropolitana        80.8   \n",
       "345  13605               Peñaflor   Talagante       Metropolitana        69.0   \n",
       "346   5999   Barco Isabela Island  Valparaíso          Valparaíso         NaN   \n",
       "347  10999  Barco Silver Explorer   Los Lagos           Los Lagos         NaN   \n",
       "\n",
       "     Poblacion  Densidad  IDH 2005 IDH Categoria       Lat       Lon  \n",
       "0     247552.0      0.46    38.400          Alto -18.45500 -70.29000  \n",
       "1       1233.0      0.32     0.751          Alto -19.01700 -69.86700  \n",
       "2       2515.0      0.47     0.707          Alto -18.20000 -69.58300  \n",
       "3        810.0      0.31     0.670         Medio -17.65300 -69.63500  \n",
       "4     223463.0     85.40     0.766          Alto -20.24400 -70.13900  \n",
       "..         ...       ...       ...           ...       ...       ...  \n",
       "343    40171.0    191.60     0.724          Alto -33.75400 -70.88600  \n",
       "344    74188.0    782.80     0.728          Alto -33.57600 -70.80000  \n",
       "345   101058.0   1307.30     0.753          Alto -33.60600 -70.87700  \n",
       "346        NaN       NaN       NaN           NaN -33.01115 -71.59019  \n",
       "347        NaN       NaN       NaN           NaN -39.76115 -74.24939  \n",
       "\n",
       "[348 rows x 11 columns]"
      ]
     },
     "execution_count": 19,
     "metadata": {},
     "output_type": "execute_result"
    }
   ],
   "source": [
    "info_comunal"
   ]
  },
  {
   "cell_type": "code",
   "execution_count": 20,
   "metadata": {},
   "outputs": [],
   "source": [
    "info_comunal['Codigo region']=info_comunal.apply(lambda x: int(str(x.CUT)[:-3]), axis=1)"
   ]
  },
  {
   "cell_type": "code",
   "execution_count": 21,
   "metadata": {},
   "outputs": [
    {
     "name": "stdout",
     "output_type": "stream",
     "text": [
      "creating table contagios_comunal@ivanMSC ,schema: @ivanMSC\n",
      "saving table/data/ETLcache/contagios_comunal@ivanMSC_06122021_011558.csv in cache\n",
      "creating table info_comunal@ivanMSC ,schema: @ivanMSC\n",
      "saving table/data/ETLcache/info_comunal@ivanMSC_06122021_011558.csv in cache\n"
     ]
    }
   ],
   "source": [
    "name='contagios_comunal@ivanMSC'\n",
    "schema='@ivanMSC'\n",
    "print(\"creating table \"+name+' ,schema: '+schema)\n",
    "contagiados_comunal.to_sql(name, schema=schema,con=cnx,if_exists='replace')\n",
    "print(\"saving table\"+path+name+timestamp+'.csv in cache')\n",
    "contagiados_comunal.to_csv(path+name+timestamp+'.csv',encoding='utf-8')\n",
    "name='info_comunal@ivanMSC'\n",
    "print(\"creating table \"+name+' ,schema: '+schema)\n",
    "info_comunal.to_sql(name, schema=schema,con=cnx,if_exists='replace')\n",
    "print(\"saving table\"+path+name+timestamp+'.csv in cache')\n",
    "info_comunal.to_csv(path+name+timestamp+'.csv',encoding='utf-8')"
   ]
  },
  {
   "cell_type": "code",
   "execution_count": 22,
   "metadata": {},
   "outputs": [
    {
     "name": "stderr",
     "output_type": "stream",
     "text": [
      "[NbConvertApp] Converting notebook /home/jovyan/work/ETL/@ivanMSC.ipynb to html\n",
      "[NbConvertApp] Writing 604660 bytes to /home/jovyan/work/ETLdocs/ETL_covid-chile.html\n"
     ]
    },
    {
     "data": {
      "text/plain": [
       "0"
      ]
     },
     "execution_count": 22,
     "metadata": {},
     "output_type": "execute_result"
    }
   ],
   "source": [
    "os.system('jupyter nbconvert --output /home/jovyan/work/ETLdocs/' + 'ETL_covid-chile.html' + ' --to html ' + \n",
    "          '/home/jovyan/work/ETL/@ivanMSC.ipynb')"
   ]
  }
 ],
 "metadata": {
  "kernelspec": {
   "display_name": "Python 3 (ipykernel)",
   "language": "python",
   "name": "python3"
  },
  "language_info": {
   "codemirror_mode": {
    "name": "ipython",
    "version": 3
   },
   "file_extension": ".py",
   "mimetype": "text/x-python",
   "name": "python",
   "nbconvert_exporter": "python",
   "pygments_lexer": "ipython3",
   "version": "3.9.7"
  }
 },
 "nbformat": 4,
 "nbformat_minor": 4
}
