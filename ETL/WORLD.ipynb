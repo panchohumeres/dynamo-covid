{
 "cells": [
  {
   "cell_type": "code",
   "execution_count": 49,
   "metadata": {},
   "outputs": [],
   "source": [
    "import gspread\n",
    "from oauth2client.service_account import ServiceAccountCredentials\n",
    "import pandas as pd\n",
    "import sqlalchemy \n",
    "import psycopg2\n",
    "import os\n",
    "import numpy as np\n",
    "import requests\n",
    "import re\n",
    "import copy\n",
    "from pandas.api.types import is_numeric_dtype\n",
    "from sklearn.linear_model import LinearRegression\n",
    "from sqlalchemy import create_engine\n",
    "import datetime\n",
    "from datetime import datetime as dt\n",
    "import sys\n",
    "import importlib\n",
    "from bs4 import BeautifulSoup"
   ]
  },
  {
   "cell_type": "code",
   "execution_count": 79,
   "metadata": {},
   "outputs": [],
   "source": [
    "sys.path.append('..')"
   ]
  },
  {
   "cell_type": "code",
   "execution_count": 2,
   "metadata": {},
   "outputs": [
    {
     "name": "stdout",
     "output_type": "stream",
     "text": [
      "'chile-covid-derived@min-ciencias.ipynb'\r\n",
      " cleanETL.ipynb\r\n",
      " clean_tables.ipynb\r\n",
      " consolidado_nacional.ipynb\r\n",
      "\u001b[0m\u001b[01;32m'covid-chile@min-ciencias.ipynb'\u001b[0m*\r\n",
      " Cuarentenas.ipynb\r\n",
      " DEIS.ipynb\r\n",
      " dynamo-covid-3c488865a4a3.json\r\n",
      " fuentes.ipynb\r\n",
      " geo.ipynb\r\n",
      "'@ivanMSC.ipynb'\r\n",
      " movilidad.ipynb\r\n",
      " Muertes_por_Millon_Hab._ConfirmadosPCR+.png\r\n",
      " Muertes_por_Millon_Hab._DEIS.png\r\n",
      " Muertes_por_Millon_Hab._SOCHIMI.png\r\n",
      "'@perez.ipynb'\r\n",
      " placeholder\r\n",
      " toS3.ipynb\r\n",
      " WORLD.ipynb\r\n"
     ]
    }
   ],
   "source": [
    "ls"
   ]
  },
  {
   "cell_type": "code",
   "execution_count": 15,
   "metadata": {},
   "outputs": [],
   "source": [
    "# use creds to create a client to interact with the Google Drive API\n",
    "scope = ['https://www.googleapis.com/auth/drive']\n",
    "creds = ServiceAccountCredentials.from_json_keyfile_name('dynamo-covid-3c488865a4a3.json', scope)\n",
    "client = gspread.authorize(creds)"
   ]
  },
  {
   "cell_type": "code",
   "execution_count": 21,
   "metadata": {},
   "outputs": [
    {
     "name": "stdout",
     "output_type": "stream",
     "text": [
      "[]\n"
     ]
    }
   ],
   "source": [
    "# Find a workbook by name and open the first sheet\n",
    "# Make sure you use the right name here.\n",
    "sheet = client.open(\"DYNAMO-COVID\").get_worksheet(0)\n",
    "\n",
    "# Extract and print all of the values\n",
    "list_of_hashes = sheet.get_all_records()\n",
    "print(list_of_hashes)"
   ]
  },
  {
   "cell_type": "code",
   "execution_count": 82,
   "metadata": {},
   "outputs": [],
   "source": [
    "#JOHNS HOPKINS\n",
    "\n",
    "#url='https://github.com/CSSEGISandData/COVID-19/tree/master/csse_covid_19_data/csse_covid_19_daily_reports'\n",
    "\n",
    "#html=requests.get(url).text\n",
    "#soup = BeautifulSoup(html, 'html.parser')\n",
    "#urls=[]\n",
    "#for a in soup.find_all('a', href=True):\n",
    "#    urls.append(a['href'])\n",
    "#urls=['https://raw.githubusercontent.com'+x for x in urls if x[-4:]=='.csv']\n",
    "#urls=[x.replace('/blob','') for x in urls]\n",
    "\n",
    "#df=[]\n",
    "#for link in urls:\n",
    "#    print('processing file: '+link)\n",
    "#    df.append(pd.read_csv(link,encoding='utf-8'))\n",
    "#df=pd.concat(df)"
   ]
  },
  {
   "cell_type": "code",
   "execution_count": 91,
   "metadata": {},
   "outputs": [],
   "source": [
    "#OUR WORLD IN DATA\n",
    "url='https://github.com/owid/covid-19-data/raw/master/public/data/owid-covid-data.csv'\n",
    "owid=pd.read_csv(url,encoding='utf-8')\n",
    "owid_list=owid.fillna('').values.tolist()\n",
    "owid_list.insert(0,owid.columns.to_list())"
   ]
  },
  {
   "cell_type": "code",
   "execution_count": 92,
   "metadata": {},
   "outputs": [
    {
     "data": {
      "text/plain": [
       "{'spreadsheetId': '1h7b4rgNIAwdf1lqjF2B3rb5v1TCPEHrkU9--hVkpuNQ',\n",
       " 'updatedRange': 'DATA!A1:BC59948',\n",
       " 'updatedRows': 59948,\n",
       " 'updatedColumns': 55,\n",
       " 'updatedCells': 3297140}"
      ]
     },
     "execution_count": 92,
     "metadata": {},
     "output_type": "execute_result"
    }
   ],
   "source": [
    "sheet.update('A1', owid_list)"
   ]
  }
 ],
 "metadata": {
  "kernelspec": {
   "display_name": "Python 3",
   "language": "python",
   "name": "python3"
  },
  "language_info": {
   "codemirror_mode": {
    "name": "ipython",
    "version": 3
   },
   "file_extension": ".py",
   "mimetype": "text/x-python",
   "name": "python",
   "nbconvert_exporter": "python",
   "pygments_lexer": "ipython3",
   "version": "3.8.6"
  }
 },
 "nbformat": 4,
 "nbformat_minor": 4
}
