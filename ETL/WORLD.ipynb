{
 "cells": [
  {
   "cell_type": "code",
   "execution_count": 1,
   "metadata": {},
   "outputs": [],
   "source": [
    "import gspread\n",
    "from oauth2client.service_account import ServiceAccountCredentials\n",
    "import pandas as pd\n",
    "import sqlalchemy \n",
    "import psycopg2\n",
    "import os\n",
    "import numpy as np\n",
    "import requests\n",
    "import re\n",
    "import copy\n",
    "from pandas.api.types import is_numeric_dtype\n",
    "from sklearn.linear_model import LinearRegression\n",
    "from sqlalchemy import create_engine\n",
    "import datetime\n",
    "from datetime import datetime as dt\n",
    "import sys\n",
    "import importlib\n",
    "from bs4 import BeautifulSoup"
   ]
  },
  {
   "cell_type": "code",
   "execution_count": 2,
   "metadata": {},
   "outputs": [],
   "source": [
    "sys.path.append('..')"
   ]
  },
  {
   "cell_type": "code",
   "execution_count": 3,
   "metadata": {},
   "outputs": [],
   "source": [
    "# use creds to create a client to interact with the Google Drive API\n",
    "scope = ['https://www.googleapis.com/auth/drive']\n",
    "creds = ServiceAccountCredentials.from_json_keyfile_name('dynamo-covid-3c488865a4a3.json', scope)\n",
    "client = gspread.authorize(creds)"
   ]
  },
  {
   "cell_type": "code",
   "execution_count": 4,
   "metadata": {},
   "outputs": [],
   "source": [
    "#files=[x['name'] for x in client.list_spreadsheet_files()]"
   ]
  },
  {
   "cell_type": "code",
   "execution_count": 5,
   "metadata": {},
   "outputs": [],
   "source": [
    "#files"
   ]
  },
  {
   "cell_type": "code",
   "execution_count": 6,
   "metadata": {},
   "outputs": [],
   "source": [
    "#file_metadata = {\n",
    "#    'name': 'DYNAMO-COVID-TAIL',\n",
    "#    'mimeType': 'application/vnd.google-apps.spreadsheet',\n",
    "#}\n",
    "#client.create('DYNAMO-COVID-TAIL')"
   ]
  },
  {
   "cell_type": "code",
   "execution_count": 7,
   "metadata": {},
   "outputs": [],
   "source": [
    "#data_id=client.open(\"DYNAMO-COVID\").worksheets()[0].id\n",
    "#countries_id=client.open(\"DYNAMO-COVID\").worksheets()[1].id"
   ]
  },
  {
   "cell_type": "code",
   "execution_count": 8,
   "metadata": {},
   "outputs": [],
   "source": [
    "# Find a workbook by name and open the first sheet\n",
    "# Make sure you use the right name here.\n",
    "data = client.open(\"DYNAMO-COVID\").get_worksheet(0)\n",
    "countries=client.open(\"DYNAMO-COVID\").get_worksheet(1)\n",
    "tail=client.open(\"DYNAMO-COVID-TAIL\").get_worksheet(0)\n",
    "\n",
    "# Extract and print all of the values\n",
    "#list_of_hashes = sheet.get_all_records()\n",
    "#print(list_of_hashes)"
   ]
  },
  {
   "cell_type": "code",
   "execution_count": 9,
   "metadata": {},
   "outputs": [],
   "source": [
    "#JOHNS HOPKINS\n",
    "\n",
    "#url='https://github.com/CSSEGISandData/COVID-19/tree/master/csse_covid_19_data/csse_covid_19_daily_reports'\n",
    "\n",
    "#html=requests.get(url).text\n",
    "#soup = BeautifulSoup(html, 'html.parser')\n",
    "#urls=[]\n",
    "#for a in soup.find_all('a', href=True):\n",
    "#    urls.append(a['href'])\n",
    "#urls=['https://raw.githubusercontent.com'+x for x in urls if x[-4:]=='.csv']\n",
    "#urls=[x.replace('/blob','') for x in urls]\n",
    "\n",
    "#df=[]\n",
    "#for link in urls:\n",
    "#    print('processing file: '+link)\n",
    "#    df.append(pd.read_csv(link,encoding='utf-8'))\n",
    "#df=pd.concat(df)"
   ]
  },
  {
   "cell_type": "code",
   "execution_count": 10,
   "metadata": {},
   "outputs": [],
   "source": [
    "#OUR WORLD IN DATA\n",
    "url='https://github.com/owid/covid-19-data/raw/master/public/data/owid-covid-data.csv'\n",
    "owid=pd.read_csv(url,encoding='utf-8')"
   ]
  },
  {
   "cell_type": "code",
   "execution_count": 11,
   "metadata": {},
   "outputs": [],
   "source": [
    "#countries attributes reduced table\n",
    "countries_cols=['iso_code', 'continent', 'location',\n",
    "       'population', 'population_density', 'median_age', 'aged_65_older',\n",
    "       'aged_70_older', 'gdp_per_capita', 'extreme_poverty',\n",
    "       'cardiovasc_death_rate', 'diabetes_prevalence', 'female_smokers',\n",
    "       'male_smokers', 'handwashing_facilities', 'hospital_beds_per_thousand',\n",
    "       'life_expectancy', 'human_development_index']\n",
    "owid_countries=owid[countries_cols]\n",
    "owid_countries=owid_countries.drop_duplicates(subset=['location'],keep='first')\n",
    "owid_countries_list=owid_countries.fillna('').values.tolist()\n",
    "owid_countries_list.insert(0,owid_countries.columns.to_list())"
   ]
  },
  {
   "cell_type": "code",
   "execution_count": 12,
   "metadata": {},
   "outputs": [],
   "source": [
    "#remove countries data from main table\n",
    "countries_cols.remove('iso_code')\n",
    "owid=owid.drop(countries_cols,axis=1)\n",
    "owid=owid.sort_values(by=['date','iso_code'],ascending=False)"
   ]
  },
  {
   "cell_type": "code",
   "execution_count": 13,
   "metadata": {},
   "outputs": [],
   "source": [
    "#----TO BE IMPLEMENTED---SPLIT DATA AND UNION ON TABLEAU (for not exceeding sheet size 10 mb limit)\n",
    "last_dates=owid['date'].unique()[:250]\n",
    "owid_tail=owid[~owid['date'].isin(last_dates)]\n",
    "owid=owid[owid['date'].isin(last_dates)]"
   ]
  },
  {
   "cell_type": "code",
   "execution_count": 14,
   "metadata": {},
   "outputs": [],
   "source": [
    "owid_list=owid.fillna('').values.tolist()\n",
    "owid_list.insert(0,owid.columns.to_list())\n",
    "\n",
    "#----TO BE IMPLEMENTED---SPLIT DATA AND UNION ON TABLEAU (for not exceeding sheet size 10 mb limit)\n",
    "owid_tail_list=owid_tail.fillna('').values.tolist()\n",
    "owid_tail_list.insert(0,owid.columns.to_list())"
   ]
  },
  {
   "cell_type": "code",
   "execution_count": 15,
   "metadata": {},
   "outputs": [
    {
     "data": {
      "text/plain": [
       "{'spreadsheetId': '1h7b4rgNIAwdf1lqjF2B3rb5v1TCPEHrkU9--hVkpuNQ',\n",
       " 'updatedRange': 'DATA!A1:AP47033',\n",
       " 'updatedRows': 47033,\n",
       " 'updatedColumns': 42,\n",
       " 'updatedCells': 1975386}"
      ]
     },
     "execution_count": 15,
     "metadata": {},
     "output_type": "execute_result"
    }
   ],
   "source": [
    "data.update('A1', owid_list)"
   ]
  },
  {
   "cell_type": "code",
   "execution_count": 16,
   "metadata": {},
   "outputs": [
    {
     "data": {
      "text/plain": [
       "{'spreadsheetId': '1NBzye4JNEzX4qPf_Cq66pQSsSN0uZl6ip_am_uoZEUk',\n",
       " 'updatedRange': \"'DATA-TAIL'!A1:AP16171\",\n",
       " 'updatedRows': 16171,\n",
       " 'updatedColumns': 42,\n",
       " 'updatedCells': 679182}"
      ]
     },
     "execution_count": 16,
     "metadata": {},
     "output_type": "execute_result"
    }
   ],
   "source": [
    "#----TO BE IMPLEMENTED---SPLIT DATA AND UNION ON TABLEAU\n",
    "tail.update('A1', owid_tail_list)"
   ]
  },
  {
   "cell_type": "code",
   "execution_count": 17,
   "metadata": {},
   "outputs": [
    {
     "data": {
      "text/plain": [
       "{'spreadsheetId': '1h7b4rgNIAwdf1lqjF2B3rb5v1TCPEHrkU9--hVkpuNQ',\n",
       " 'updatedRange': 'COUNTRIES!A1:R194',\n",
       " 'updatedRows': 194,\n",
       " 'updatedColumns': 18,\n",
       " 'updatedCells': 3492}"
      ]
     },
     "execution_count": 17,
     "metadata": {},
     "output_type": "execute_result"
    }
   ],
   "source": [
    "countries.update('A1', owid_countries_list)"
   ]
  },
  {
   "cell_type": "code",
   "execution_count": 18,
   "metadata": {},
   "outputs": [
    {
     "data": {
      "text/plain": [
       "0"
      ]
     },
     "execution_count": 18,
     "metadata": {},
     "output_type": "execute_result"
    }
   ],
   "source": [
    "os.system('jupyter nbconvert --output /home/jovyan/work/ETLdocs/' + 'ETL_WORLD.html' + ' --to html ' + \n",
    "          '/home/jovyan/work/ETL/WORLD.ipynb')"
   ]
  }
 ],
 "metadata": {
  "kernelspec": {
   "display_name": "Python 3",
   "language": "python",
   "name": "python3"
  },
  "language_info": {
   "codemirror_mode": {
    "name": "ipython",
    "version": 3
   },
   "file_extension": ".py",
   "mimetype": "text/x-python",
   "name": "python",
   "nbconvert_exporter": "python",
   "pygments_lexer": "ipython3",
   "version": "3.8.6"
  }
 },
 "nbformat": 4,
 "nbformat_minor": 4
}
