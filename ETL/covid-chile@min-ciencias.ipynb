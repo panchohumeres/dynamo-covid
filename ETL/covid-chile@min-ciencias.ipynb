{
 "cells": [
  {
   "cell_type": "code",
   "execution_count": 1,
   "metadata": {},
   "outputs": [],
   "source": [
    "import pandas as pd\n",
    "import sqlalchemy \n",
    "import psycopg2\n",
    "import os\n",
    "import numpy as np\n",
    "import requests\n",
    "import re\n",
    "import copy\n",
    "from pandas.api.types import is_numeric_dtype\n",
    "from sklearn.linear_model import LinearRegression\n",
    "from sqlalchemy import create_engine\n",
    "import datetime\n",
    "from datetime import datetime as dt\n",
    "import sys\n",
    "import importlib"
   ]
  },
  {
   "cell_type": "code",
   "execution_count": 2,
   "metadata": {},
   "outputs": [],
   "source": [
    "sys.path.append('..')"
   ]
  },
  {
   "cell_type": "code",
   "execution_count": 3,
   "metadata": {},
   "outputs": [],
   "source": [
    "import modules.transforms"
   ]
  },
  {
   "cell_type": "code",
   "execution_count": 4,
   "metadata": {},
   "outputs": [
    {
     "data": {
      "text/plain": [
       "<module 'modules.transforms' from '../modules/transforms.py'>"
      ]
     },
     "execution_count": 4,
     "metadata": {},
     "output_type": "execute_result"
    }
   ],
   "source": [
    "importlib.reload(modules.transforms)"
   ]
  },
  {
   "cell_type": "code",
   "execution_count": 5,
   "metadata": {},
   "outputs": [],
   "source": [
    "from modules.transforms import *"
   ]
  },
  {
   "cell_type": "code",
   "execution_count": 6,
   "metadata": {},
   "outputs": [],
   "source": [
    "DBname=os.environ['DB_NAME']\n",
    "postgres_psswd=os.environ['POSTGRES_PASSWORD']\n",
    "postgres_user=os.environ['POSTGRES_USER']\n",
    "postgres_port=str(os.environ['POSTGRES_PORT'])"
   ]
  },
  {
   "cell_type": "code",
   "execution_count": 7,
   "metadata": {},
   "outputs": [],
   "source": [
    "# A long string that contains the necessary Postgres login information\n",
    "postgres_str = ('postgresql://'+postgres_user+':'+postgres_psswd+'@'+DBname+':'+postgres_port+'/superset')\n",
    "# Create the connection\n",
    "cnx = create_engine(postgres_str)"
   ]
  },
  {
   "cell_type": "code",
   "execution_count": 8,
   "metadata": {},
   "outputs": [],
   "source": [
    "#guardar paso en csv\n",
    "path='/data/ETLcache/'\n",
    "now = dt.now()\n",
    "timestamp = now.strftime(\"_%d%m%Y_%H%M%S\")"
   ]
  },
  {
   "cell_type": "code",
   "execution_count": 9,
   "metadata": {},
   "outputs": [],
   "source": [
    "#OBTENER RUTAS DE CARPETAS DISPONIBLES EN REPO COVID DE MINISTERIO DE CIENCIAS DE CHILE\n",
    "url=\"https://github.com/MinCiencia/Datos-COVID19/tree/master/output/\"\n",
    "request=requests.get(url)\n",
    "root=url.split('github.com')[1]\n",
    "prefix=url.split('/Min')[0]\n",
    "folders=request.text.split(root)\n",
    "\n",
    "#product folders\n",
    "for idx in range(len(folders)):\n",
    "    f=folders[idx]\n",
    "    f=f.split('\">')[0]\n",
    "    folders[idx]=f\n",
    "folders=[prefix+root+f for f in folders if 'producto' in f]"
   ]
  },
  {
   "cell_type": "code",
   "execution_count": 10,
   "metadata": {},
   "outputs": [],
   "source": [
    "#DEFINIR LISTADO DE PRODUCTOS QUE SE VAN A CONSULTAR DE REPO DE MINISTERIO DE CIENCIAS\n",
    "\n",
    "productos=['producto5','producto3','producto13','producto25','producto14','producto19','producto53','producto54','producto52','producto48','producto24'\n",
    "    \n",
    "]"
   ]
  },
  {
   "cell_type": "code",
   "execution_count": 11,
   "metadata": {},
   "outputs": [],
   "source": [
    "#LISTADO DE CARPETAS (RUTAS) FILTRADO, SEGÚN PRODUCTOS A CONSULTAR\n",
    "fs=[]\n",
    "for p in productos:\n",
    "    fs.extend([ x for x in folders if p==x.rsplit('/',1)[1]])"
   ]
  },
  {
   "cell_type": "code",
   "execution_count": 12,
   "metadata": {},
   "outputs": [],
   "source": [
    "#guardar listado de productos consultados en DF (para posteriormente guardar en BD POstgres)\n",
    "productos=pd.DataFrame(productos)"
   ]
  },
  {
   "cell_type": "code",
   "execution_count": 13,
   "metadata": {},
   "outputs": [
    {
     "name": "stdout",
     "output_type": "stream",
     "text": [
      "schema tracking exists, will not be created\n"
     ]
    }
   ],
   "source": [
    "#crear esquema \"tracking\" si es que no existe en BD Postgres (para llevar registro de los productos consultados)\n",
    "k='tracking'\n",
    "if not cnx.dialect.has_schema(cnx, k):\n",
    "    print('schema '+k+' does not exist, creating it')\n",
    "    cnx.execute(sqlalchemy.schema.CreateSchema(k))\n",
    "else:\n",
    "    print('schema '+k+' exists, will not be created')\n",
    "\n",
    "productos.to_sql('min_ciencias_products',con=cnx,schema=k,if_exists='replace')"
   ]
  },
  {
   "cell_type": "code",
   "execution_count": 14,
   "metadata": {},
   "outputs": [
    {
     "name": "stdout",
     "output_type": "stream",
     "text": [
      "reading file: https://raw.githubusercontent.com/MinCiencia/Datos-COVID19/master/output/producto5/TotalesNacionales.csv\n",
      "reading file: https://raw.githubusercontent.com/MinCiencia/Datos-COVID19/master/output/producto5/TotalesNacionales_T.csv\n",
      "reading file: https://raw.githubusercontent.com/MinCiencia/Datos-COVID19/master/output/producto5/TotalesNacionales_std.csv\n",
      "reading file: https://raw.githubusercontent.com/MinCiencia/Datos-COVID19/master/output/producto3/CasosTotalesCumulativo.csv\n",
      "reading file: https://raw.githubusercontent.com/MinCiencia/Datos-COVID19/master/output/producto3/CasosTotalesCumulativo_T.csv\n",
      "reading file: https://raw.githubusercontent.com/MinCiencia/Datos-COVID19/master/output/producto3/CasosTotalesCumulativo_std.csv\n",
      "reading file: https://raw.githubusercontent.com/MinCiencia/Datos-COVID19/master/output/producto3/TotalesPorRegion.csv\n",
      "reading file: https://raw.githubusercontent.com/MinCiencia/Datos-COVID19/master/output/producto3/TotalesPorRegion_T.csv\n",
      "reading file: https://raw.githubusercontent.com/MinCiencia/Datos-COVID19/master/output/producto3/TotalesPorRegion_std.csv\n",
      "reading file: https://raw.githubusercontent.com/MinCiencia/Datos-COVID19/master/output/producto13/CasosNuevosCumulativo.csv\n",
      "reading file: https://raw.githubusercontent.com/MinCiencia/Datos-COVID19/master/output/producto13/CasosNuevosCumulativo_T.csv\n",
      "reading file: https://raw.githubusercontent.com/MinCiencia/Datos-COVID19/master/output/producto13/CasosNuevosCumulativo_std.csv\n",
      "reading file: https://raw.githubusercontent.com/MinCiencia/Datos-COVID19/master/output/producto25/CasosActualesPorComuna.csv\n",
      "reading file: https://raw.githubusercontent.com/MinCiencia/Datos-COVID19/master/output/producto25/CasosActualesPorComuna_T.csv\n",
      "reading file: https://raw.githubusercontent.com/MinCiencia/Datos-COVID19/master/output/producto25/CasosActualesPorComuna_std.csv\n",
      "reading file: https://raw.githubusercontent.com/MinCiencia/Datos-COVID19/master/output/producto14/FallecidosCumulativo.csv\n",
      "reading file: https://raw.githubusercontent.com/MinCiencia/Datos-COVID19/master/output/producto14/FallecidosCumulativo_T.csv\n",
      "reading file: https://raw.githubusercontent.com/MinCiencia/Datos-COVID19/master/output/producto14/FallecidosCumulativo_std.csv\n",
      "reading file: https://raw.githubusercontent.com/MinCiencia/Datos-COVID19/master/output/producto19/CasosActivosPorComuna.csv\n",
      "reading file: https://raw.githubusercontent.com/MinCiencia/Datos-COVID19/master/output/producto19/CasosActivosPorComuna_T.csv\n",
      "reading file: https://raw.githubusercontent.com/MinCiencia/Datos-COVID19/master/output/producto19/CasosActivosPorComuna_std.csv\n",
      "reading file: https://raw.githubusercontent.com/MinCiencia/Datos-COVID19/master/output/producto53/confirmados_nacional.csv\n",
      "reading file: https://raw.githubusercontent.com/MinCiencia/Datos-COVID19/master/output/producto53/confirmados_provinciales.csv\n",
      "reading file: https://raw.githubusercontent.com/MinCiencia/Datos-COVID19/master/output/producto53/confirmados_regionales.csv\n",
      "reading file: https://raw.githubusercontent.com/MinCiencia/Datos-COVID19/master/output/producto53/confirmados_ss.csv\n",
      "reading file: https://raw.githubusercontent.com/MinCiencia/Datos-COVID19/master/output/producto54/r.nacional.csv\n",
      "reading file: https://raw.githubusercontent.com/MinCiencia/Datos-COVID19/master/output/producto54/r.provincial.csv\n",
      "reading file: https://raw.githubusercontent.com/MinCiencia/Datos-COVID19/master/output/producto54/r.provincial_copy.csv\n",
      "reading file: https://raw.githubusercontent.com/MinCiencia/Datos-COVID19/master/output/producto54/r.regional.csv\n",
      "reading file: https://raw.githubusercontent.com/MinCiencia/Datos-COVID19/master/output/producto54/r.ss.csv\n",
      "reading file: https://raw.githubusercontent.com/MinCiencia/Datos-COVID19/master/output/producto52/Camas_UCI.csv\n",
      "reading file: https://raw.githubusercontent.com/MinCiencia/Datos-COVID19/master/output/producto52/Camas_UCI_std.csv\n",
      "reading file: https://raw.githubusercontent.com/MinCiencia/Datos-COVID19/master/output/producto52/Camas_UCI_t.csv\n",
      "reading file: https://raw.githubusercontent.com/MinCiencia/Datos-COVID19/master/output/producto48/SOCHIMI.csv\n",
      "reading file: https://raw.githubusercontent.com/MinCiencia/Datos-COVID19/master/output/producto48/SOCHIMI_T.csv\n",
      "reading file: https://raw.githubusercontent.com/MinCiencia/Datos-COVID19/master/output/producto48/SOCHIMI_std.csv\n",
      "reading file: https://raw.githubusercontent.com/MinCiencia/Datos-COVID19/master/output/producto24/CamasHospital_Diario.csv\n",
      "reading file: https://raw.githubusercontent.com/MinCiencia/Datos-COVID19/master/output/producto24/CamasHospital_Diario_T.csv\n",
      "reading file: https://raw.githubusercontent.com/MinCiencia/Datos-COVID19/master/output/producto24/CamasHospital_Diario_std.csv\n"
     ]
    }
   ],
   "source": [
    "#LEER ARCHIVOS DENTRO DE RUTAS CORRESPONDIENTES A PRODUCTOS, GUARDARLOS EN DICCIONARIO \"TABLES\"\n",
    "tables={}\n",
    "for f in fs:\n",
    "    files_folder=f.rsplit('/')[-1]\n",
    "    files_folder_prefix='/MinCiencia/Datos-COVID19/blob/master/output/'+files_folder+'/'\n",
    "    tables[files_folder]={}\n",
    "    raw_path='https://raw.githubusercontent.com/MinCiencia/Datos-COVID19/master/output/'+files_folder+'/'\n",
    "    req=requests.get(f)\n",
    "    files=req.text.split(files_folder_prefix)\n",
    "    for idx in range(len(files)):\n",
    "        files[idx]=files[idx].split('\">')[0]\n",
    "    files=[raw_path+f for f in files if '.csv' in f]\n",
    "    for fl in files:\n",
    "        try:\n",
    "            print('reading file: '+fl)\n",
    "            table=pd.read_csv(fl)\n",
    "            table_name='_'.join(fl.rsplit('/',2)[-2:]).strip('.csv')\n",
    "            tables[files_folder][table_name]=table\n",
    "        except Exception as e:\n",
    "            print(str(e))\n",
    "            pass"
   ]
  },
  {
   "cell_type": "code",
   "execution_count": 15,
   "metadata": {},
   "outputs": [],
   "source": [
    "#crear \"producto11\" como caso especial de producto 4\n",
    "tables['producto11']={}\n",
    "tables['producto11']['producto4']=pd.read_csv('https://raw.githubusercontent.com/MinCiencia/Datos-COVID19/master/output/producto11/bulk/producto4.csv')\n",
    "tables['producto11']['producto4'].columns=[x.replace('*','x').replace('%','porcentaje_') for x in tables['producto11']['producto4'].columns]"
   ]
  },
  {
   "cell_type": "code",
   "execution_count": 16,
   "metadata": {},
   "outputs": [],
   "source": [
    "ortables=copy.deepcopy(tables)"
   ]
  },
  {
   "cell_type": "code",
   "execution_count": 17,
   "metadata": {},
   "outputs": [
    {
     "name": "stdout",
     "output_type": "stream",
     "text": [
      "fixing transposed table: producto5_TotalesNacionales_T\n",
      "fixing transposed table: producto3_CasosTotalesCumulativo_T\n",
      "fixing transposed table: producto3_TotalesPorRegion_T\n",
      "fixing transposed table: producto13_CasosNuevosCumulativo_T\n",
      "fixing transposed table: producto25_CasosActualesPorComuna_T\n",
      "fixing transposed table: producto14_FallecidosCumulativo_T\n",
      "fixing transposed table: producto19_CasosActivosPorComuna_T\n",
      "fixing transposed table: producto48_SOCHIMI_T\n",
      "fixing transposed table: producto24_CamasHospital_Diario_T\n",
      "converting to date in table: producto5_TotalesNacionale\n",
      "converting to date in table: producto5_TotalesNacionales_T\n",
      "converting to date in table: producto5_TotalesNacionales_std\n",
      "converting to date in table: producto3_CasosTotalesCumulativo_T\n",
      "converting to date in table: producto3_CasosTotalesCumulativo_std\n",
      "converting to date in table: producto3_TotalesPorRegion_T\n",
      "converting to date in table: producto3_TotalesPorRegion_std\n",
      "converting to date in table: producto13_CasosNuevosCumulativo_T\n",
      "converting to date in table: producto13_CasosNuevosCumulativo_std\n",
      "converting to date in table: producto25_CasosActualesPorComuna_T\n",
      "converting to date in table: producto25_CasosActualesPorComuna_std\n",
      "converting to date in table: producto14_FallecidosCumulativo_T\n",
      "converting to date in table: producto14_FallecidosCumulativo_std\n",
      "converting to date in table: producto19_CasosActivosPorComuna_T\n",
      "converting to date in table: producto19_CasosActivosPorComuna_std\n",
      "converting to date in table: producto53_confirmados_nacional\n",
      "converting to date in table: producto53_confirmados_provinciale\n",
      "converting to date in table: producto53_confirmados_regionale\n",
      "converting to date in table: producto53_confirmados_\n",
      "converting to date in table: producto54_r.nacional\n",
      "converting to date in table: producto54_r.provincial\n",
      "converting to date in table: producto54_r.provincial_copy\n",
      "converting to date in table: producto54_r.regional\n",
      "converting to date in table: producto54_r\n",
      "converting to date in table: producto52_Camas_UCI_std\n",
      "converting to date in table: producto48_SOCHIMI_std\n",
      "converting to date in table: producto24_CamasHospital_Diario_std\n",
      "converting to date in table: producto4\n"
     ]
    }
   ],
   "source": [
    "#normalizar tablas transpuestas \n",
    "for s in tables.keys():\n",
    "    for n in tables[s].keys():\n",
    "        #print(n)\n",
    "        if '_T' in n[-2:]:\n",
    "            print('fixing transposed table: '+n)\n",
    "            tables[s][n]=transpose(tables[s][n])\n",
    "#y cambiar campos \"fecha\" (donde haya) a tipo datetime           \n",
    "for s in tables.keys():\n",
    "    for n in tables[s].keys():\n",
    "        if 'fecha' in [str(x).lower() for x in tables[s][n].columns]:\n",
    "            print('converting to date in table: '+n)\n",
    "            tables[s][n]=to_datetime(tables[s][n])\n",
    "        elif 'Fecha' in [str(x).lower() for x in tables[s][n].columns]:\n",
    "            print('converting to date in table: '+n)\n",
    "            tables[s][n]=to_datetime(tables[s][n])\n",
    "            "
   ]
  },
  {
   "cell_type": "code",
   "execution_count": 18,
   "metadata": {},
   "outputs": [],
   "source": [
    "#tables['producto5']['producto5_TotalesNacionales_T']['Fecha']=pd.to_datetime(tables['producto5']['producto5_TotalesNacionales_T']['Fecha'])"
   ]
  },
  {
   "cell_type": "code",
   "execution_count": 19,
   "metadata": {},
   "outputs": [
    {
     "name": "stdout",
     "output_type": "stream",
     "text": [
      "calculating reverse index and date field in table: producto54 : producto54_r.nacional\n",
      "calculating reverse index and date field in table: producto53 : producto53_confirmados_nacional\n",
      "calculating reverse index and date field in table: producto53 : producto53_confirmados_regionale\n",
      "calculating reverse index and date field in table: producto5 : producto5_TotalesNacionales_T\n"
     ]
    }
   ],
   "source": [
    "#calcular índice y fechas invertidos para tablas en que se desea extraer último dato\n",
    "\n",
    "to_reverse_idx=[{'producto54':'producto54_r.nacional'},{'producto53':'producto53_confirmados_nacional'},\n",
    "                {'producto53':'producto53_confirmados_regionale'}]\n",
    "\n",
    "for n in to_reverse_idx:\n",
    "    k,i=list(n.items())[0]\n",
    "    print('calculating reverse index and date field in table: '+str(k)+' : '+str(i))\n",
    "    tables[k][i]=reverse_idx(tables[k][i],date_field='fecha')\n",
    "    \n",
    "to_reverse_idx=[{'producto5':'producto5_TotalesNacionales_T'}]\n",
    "\n",
    "for n in to_reverse_idx:\n",
    "    k,i=list(n.items())[0]\n",
    "    print('calculating reverse index and date field in table: '+str(k)+' : '+str(i))\n",
    "    tables[k][i]=reverse_idx(tables[k][i],date_field='Fecha')"
   ]
  },
  {
   "cell_type": "code",
   "execution_count": 20,
   "metadata": {},
   "outputs": [
    {
     "name": "stdout",
     "output_type": "stream",
     "text": [
      "creando variable dummy para región metropolitana en tabla: producto3_CasosTotalesCumulativo\n",
      "creando variable dummy para región metropolitana en tabla: producto3_CasosTotalesCumulativo_std\n",
      "creando variable dummy para región metropolitana en tabla: producto3_TotalesPorRegion\n",
      "creando variable dummy para región metropolitana en tabla: producto3_TotalesPorRegion_std\n",
      "creando variable dummy para región metropolitana en tabla: producto13_CasosNuevosCumulativo\n",
      "creando variable dummy para región metropolitana en tabla: producto13_CasosNuevosCumulativo_std\n",
      "creando variable dummy para región metropolitana en tabla: producto25_CasosActualesPorComuna\n",
      "creando variable dummy para región metropolitana en tabla: producto25_CasosActualesPorComuna_std\n",
      "creando variable dummy para región metropolitana en tabla: producto14_FallecidosCumulativo\n",
      "creando variable dummy para región metropolitana en tabla: producto14_FallecidosCumulativo_std\n",
      "creando variable dummy para región metropolitana en tabla: producto19_CasosActivosPorComuna\n",
      "creando variable dummy para región metropolitana en tabla: producto19_CasosActivosPorComuna_std\n",
      "creando variable dummy para región metropolitana en tabla: producto53_confirmados_provinciale\n",
      "creando variable dummy para región metropolitana en tabla: producto53_confirmados_regionale\n",
      "creando variable dummy para región metropolitana en tabla: producto53_confirmados_\n",
      "creando variable dummy para región metropolitana en tabla: producto54_r.provincial\n",
      "creando variable dummy para región metropolitana en tabla: producto54_r.provincial_copy\n",
      "creando variable dummy para región metropolitana en tabla: producto54_r.regional\n",
      "creando variable dummy para región metropolitana en tabla: producto54_r\n",
      "creando variable dummy para región metropolitana en tabla: producto52_Camas_UCI\n",
      "creando variable dummy para región metropolitana en tabla: producto52_Camas_UCI_std\n",
      "creando variable dummy para región metropolitana en tabla: producto52_Camas_UCI_t\n",
      "creando variable dummy para región metropolitana en tabla: producto48_SOCHIMI\n",
      "creando variable dummy para región metropolitana en tabla: producto48_SOCHIMI_std\n",
      "creando variable dummy para región metropolitana en tabla: producto4\n"
     ]
    }
   ],
   "source": [
    "#agregar variable dummy para región metropolitana\n",
    "for s in tables.keys():\n",
    "    for n in tables[s].keys():\n",
    "        #print(n)\n",
    "        if 'region' in [x.lower() for x in tables[s][n].columns]:\n",
    "            print('creando variable dummy para región metropolitana en tabla: '+n)\n",
    "            tables[s][n]=make_dummies(tables[s][n],fields=['region'],keep_strings=['metropolitana'],value_map={'metropolitana':{0:'Resto de Chile',1:'Región Metropolitana'}})"
   ]
  },
  {
   "cell_type": "code",
   "execution_count": 21,
   "metadata": {},
   "outputs": [
    {
     "name": "stdout",
     "output_type": "stream",
     "text": [
      "schema producto5 exists, will not be created\n",
      "schema producto3 exists, will not be created\n",
      "schema producto13 exists, will not be created\n",
      "schema producto25 exists, will not be created\n",
      "schema producto14 exists, will not be created\n",
      "schema producto19 exists, will not be created\n",
      "schema producto53 exists, will not be created\n",
      "schema producto54 exists, will not be created\n",
      "schema producto52 exists, will not be created\n",
      "schema producto48 exists, will not be created\n",
      "schema producto24 exists, will not be created\n",
      "schema producto11 exists, will not be created\n"
     ]
    }
   ],
   "source": [
    "for k in tables.keys():\n",
    "    if not cnx.dialect.has_schema(cnx, k):\n",
    "        print('schema '+k+' does not exist, creating it')\n",
    "        cnx.execute(sqlalchemy.schema.CreateSchema(k))\n",
    "    else:\n",
    "        print('schema '+k+' exists, will not be created')"
   ]
  },
  {
   "cell_type": "code",
   "execution_count": 22,
   "metadata": {},
   "outputs": [
    {
     "name": "stdout",
     "output_type": "stream",
     "text": [
      "creating table producto5_TotalesNacionale ,schema: producto5\n",
      "saving table/data/ETLcache/producto5_TotalesNacionale_01022021_013829.csv in cache\n",
      "creating table producto5_TotalesNacionales_T ,schema: producto5\n",
      "saving table/data/ETLcache/producto5_TotalesNacionales_T_01022021_013829.csv in cache\n",
      "creating table producto5_TotalesNacionales_std ,schema: producto5\n",
      "saving table/data/ETLcache/producto5_TotalesNacionales_std_01022021_013829.csv in cache\n",
      "creating table producto3_CasosTotalesCumulativo ,schema: producto3\n",
      "saving table/data/ETLcache/producto3_CasosTotalesCumulativo_01022021_013829.csv in cache\n",
      "creating table producto3_CasosTotalesCumulativo_T ,schema: producto3\n",
      "saving table/data/ETLcache/producto3_CasosTotalesCumulativo_T_01022021_013829.csv in cache\n",
      "creating table producto3_CasosTotalesCumulativo_std ,schema: producto3\n",
      "saving table/data/ETLcache/producto3_CasosTotalesCumulativo_std_01022021_013829.csv in cache\n",
      "creating table producto3_TotalesPorRegion ,schema: producto3\n",
      "saving table/data/ETLcache/producto3_TotalesPorRegion_01022021_013829.csv in cache\n",
      "creating table producto3_TotalesPorRegion_T ,schema: producto3\n",
      "saving table/data/ETLcache/producto3_TotalesPorRegion_T_01022021_013829.csv in cache\n",
      "creating table producto3_TotalesPorRegion_std ,schema: producto3\n",
      "saving table/data/ETLcache/producto3_TotalesPorRegion_std_01022021_013829.csv in cache\n",
      "creating table producto13_CasosNuevosCumulativo ,schema: producto13\n",
      "saving table/data/ETLcache/producto13_CasosNuevosCumulativo_01022021_013829.csv in cache\n",
      "creating table producto13_CasosNuevosCumulativo_T ,schema: producto13\n",
      "saving table/data/ETLcache/producto13_CasosNuevosCumulativo_T_01022021_013829.csv in cache\n",
      "creating table producto13_CasosNuevosCumulativo_std ,schema: producto13\n",
      "saving table/data/ETLcache/producto13_CasosNuevosCumulativo_std_01022021_013829.csv in cache\n",
      "creating table producto25_CasosActualesPorComuna ,schema: producto25\n",
      "saving table/data/ETLcache/producto25_CasosActualesPorComuna_01022021_013829.csv in cache\n",
      "creating table producto25_CasosActualesPorComuna_T ,schema: producto25\n",
      "saving table/data/ETLcache/producto25_CasosActualesPorComuna_T_01022021_013829.csv in cache\n",
      "creating table producto25_CasosActualesPorComuna_std ,schema: producto25\n",
      "saving table/data/ETLcache/producto25_CasosActualesPorComuna_std_01022021_013829.csv in cache\n",
      "creating table producto14_FallecidosCumulativo ,schema: producto14\n",
      "saving table/data/ETLcache/producto14_FallecidosCumulativo_01022021_013829.csv in cache\n",
      "creating table producto14_FallecidosCumulativo_T ,schema: producto14\n",
      "saving table/data/ETLcache/producto14_FallecidosCumulativo_T_01022021_013829.csv in cache\n",
      "creating table producto14_FallecidosCumulativo_std ,schema: producto14\n",
      "saving table/data/ETLcache/producto14_FallecidosCumulativo_std_01022021_013829.csv in cache\n",
      "creating table producto19_CasosActivosPorComuna ,schema: producto19\n",
      "saving table/data/ETLcache/producto19_CasosActivosPorComuna_01022021_013829.csv in cache\n",
      "creating table producto19_CasosActivosPorComuna_T ,schema: producto19\n",
      "saving table/data/ETLcache/producto19_CasosActivosPorComuna_T_01022021_013829.csv in cache\n",
      "creating table producto19_CasosActivosPorComuna_std ,schema: producto19\n",
      "saving table/data/ETLcache/producto19_CasosActivosPorComuna_std_01022021_013829.csv in cache\n",
      "creating table producto53_confirmados_nacional ,schema: producto53\n",
      "saving table/data/ETLcache/producto53_confirmados_nacional_01022021_013829.csv in cache\n",
      "creating table producto53_confirmados_provinciale ,schema: producto53\n",
      "saving table/data/ETLcache/producto53_confirmados_provinciale_01022021_013829.csv in cache\n",
      "creating table producto53_confirmados_regionale ,schema: producto53\n",
      "saving table/data/ETLcache/producto53_confirmados_regionale_01022021_013829.csv in cache\n",
      "creating table producto53_confirmados_ ,schema: producto53\n",
      "saving table/data/ETLcache/producto53_confirmados__01022021_013829.csv in cache\n",
      "creating table producto54_r.nacional ,schema: producto54\n",
      "saving table/data/ETLcache/producto54_r.nacional_01022021_013829.csv in cache\n",
      "creating table producto54_r.provincial ,schema: producto54\n",
      "saving table/data/ETLcache/producto54_r.provincial_01022021_013829.csv in cache\n",
      "creating table producto54_r.provincial_copy ,schema: producto54\n",
      "saving table/data/ETLcache/producto54_r.provincial_copy_01022021_013829.csv in cache\n",
      "creating table producto54_r.regional ,schema: producto54\n",
      "saving table/data/ETLcache/producto54_r.regional_01022021_013829.csv in cache\n",
      "creating table producto54_r ,schema: producto54\n",
      "saving table/data/ETLcache/producto54_r_01022021_013829.csv in cache\n",
      "creating table producto52_Camas_UCI ,schema: producto52\n",
      "saving table/data/ETLcache/producto52_Camas_UCI_01022021_013829.csv in cache\n",
      "creating table producto52_Camas_UCI_std ,schema: producto52\n",
      "saving table/data/ETLcache/producto52_Camas_UCI_std_01022021_013829.csv in cache\n",
      "creating table producto52_Camas_UCI_t ,schema: producto52\n",
      "saving table/data/ETLcache/producto52_Camas_UCI_t_01022021_013829.csv in cache\n",
      "creating table producto48_SOCHIMI ,schema: producto48\n",
      "saving table/data/ETLcache/producto48_SOCHIMI_01022021_013829.csv in cache\n",
      "creating table producto48_SOCHIMI_T ,schema: producto48\n",
      "saving table/data/ETLcache/producto48_SOCHIMI_T_01022021_013829.csv in cache\n",
      "creating table producto48_SOCHIMI_std ,schema: producto48\n",
      "saving table/data/ETLcache/producto48_SOCHIMI_std_01022021_013829.csv in cache\n",
      "creating table producto24_CamasHospital_Diario ,schema: producto24\n",
      "saving table/data/ETLcache/producto24_CamasHospital_Diario_01022021_013829.csv in cache\n",
      "creating table producto24_CamasHospital_Diario_T ,schema: producto24\n",
      "saving table/data/ETLcache/producto24_CamasHospital_Diario_T_01022021_013829.csv in cache\n",
      "creating table producto24_CamasHospital_Diario_std ,schema: producto24\n",
      "saving table/data/ETLcache/producto24_CamasHospital_Diario_std_01022021_013829.csv in cache\n",
      "creating table producto4 ,schema: producto11\n",
      "saving table/data/ETLcache/producto4_01022021_013829.csv in cache\n"
     ]
    }
   ],
   "source": [
    "for schema in tables.keys():\n",
    "    for name in tables[schema].keys():\n",
    "        try:\n",
    "            df=tables[schema][name]\n",
    "            name=name.replace('-','_')\n",
    "            print(\"creating table \"+name+' ,schema: '+schema)\n",
    "            df.to_sql(name, schema=schema,con=cnx,if_exists='replace')\n",
    "            print(\"saving table\"+path+name+timestamp+'.csv in cache')\n",
    "            df.to_csv(path+name+timestamp+'.csv',encoding='utf-8')\n",
    "        except Exception as e: \n",
    "            print(str(e))\n",
    "            pass"
   ]
  },
  {
   "cell_type": "code",
   "execution_count": 23,
   "metadata": {},
   "outputs": [
    {
     "data": {
      "text/plain": [
       "65280"
      ]
     },
     "execution_count": 23,
     "metadata": {},
     "output_type": "execute_result"
    }
   ],
   "source": [
    "os.system('jupyter nbconvert --output /home/jovyan/work/ETLdocs/' + 'ETL_covid-chile.html' + ' --to html ' + \n",
    "          '/home/jovyan/work/ETL/covid-chile.ipynb')"
   ]
  }
 ],
 "metadata": {
  "kernelspec": {
   "display_name": "Python 3",
   "language": "python",
   "name": "python3"
  },
  "language_info": {
   "codemirror_mode": {
    "name": "ipython",
    "version": 3
   },
   "file_extension": ".py",
   "mimetype": "text/x-python",
   "name": "python",
   "nbconvert_exporter": "python",
   "pygments_lexer": "ipython3",
   "version": "3.8.6"
  }
 },
 "nbformat": 4,
 "nbformat_minor": 4
}
