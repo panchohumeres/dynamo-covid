{
 "cells": [
  {
   "cell_type": "code",
   "execution_count": 1,
   "metadata": {},
   "outputs": [],
   "source": [
    "import pandas as pd\n",
    "import sqlalchemy \n",
    "import psycopg2\n",
    "import os\n",
    "import numpy as np\n",
    "import requests\n",
    "import re\n",
    "import copy\n",
    "from pandas.api.types import is_numeric_dtype\n",
    "from sklearn.linear_model import LinearRegression\n",
    "from sqlalchemy import create_engine\n",
    "import datetime\n",
    "from datetime import datetime as dt\n",
    "import sys\n",
    "import importlib"
   ]
  },
  {
   "cell_type": "code",
   "execution_count": 2,
   "metadata": {},
   "outputs": [],
   "source": [
    "sys.path.append('..')"
   ]
  },
  {
   "cell_type": "code",
   "execution_count": 3,
   "metadata": {},
   "outputs": [],
   "source": [
    "import modules.transforms"
   ]
  },
  {
   "cell_type": "code",
   "execution_count": 4,
   "metadata": {},
   "outputs": [
    {
     "data": {
      "text/plain": [
       "<module 'modules.transforms' from '../modules/transforms.py'>"
      ]
     },
     "execution_count": 4,
     "metadata": {},
     "output_type": "execute_result"
    }
   ],
   "source": [
    "importlib.reload(modules.transforms)"
   ]
  },
  {
   "cell_type": "code",
   "execution_count": 5,
   "metadata": {},
   "outputs": [],
   "source": [
    "from modules.transforms import *"
   ]
  },
  {
   "cell_type": "code",
   "execution_count": 6,
   "metadata": {},
   "outputs": [],
   "source": [
    "DBname=os.environ['DB_NAME']\n",
    "postgres_psswd=os.environ['POSTGRES_PASSWORD']\n",
    "postgres_user=os.environ['POSTGRES_USER']\n",
    "postgres_port=str(os.environ['POSTGRES_PORT'])"
   ]
  },
  {
   "cell_type": "code",
   "execution_count": 7,
   "metadata": {},
   "outputs": [],
   "source": [
    "# A long string that contains the necessary Postgres login information\n",
    "postgres_str = ('postgresql://'+postgres_user+':'+postgres_psswd+'@'+DBname+':'+postgres_port+'/superset')\n",
    "# Create the connection\n",
    "cnx = create_engine(postgres_str)"
   ]
  },
  {
   "cell_type": "code",
   "execution_count": 8,
   "metadata": {},
   "outputs": [],
   "source": [
    "#guardar paso en csv\n",
    "path='/data/ETLcache/'\n",
    "now = dt.now()\n",
    "timestamp = now.strftime(\"_%d%m%Y_%H%M%S\")"
   ]
  },
  {
   "cell_type": "code",
   "execution_count": 9,
   "metadata": {},
   "outputs": [],
   "source": [
    "url=\"https://github.com/MinCiencia/Datos-COVID19/tree/master/output/\"\n",
    "request=requests.get(url)\n",
    "root=url.split('github.com')[1]\n",
    "prefix=url.split('/Min')[0]\n",
    "folders=request.text.split(root)\n",
    "\n",
    "#product folders\n",
    "for idx in range(len(folders)):\n",
    "    f=folders[idx]\n",
    "    f=f.split('\">')[0]\n",
    "    folders[idx]=f\n",
    "folders=[prefix+root+f for f in folders if 'producto' in f]"
   ]
  },
  {
   "cell_type": "code",
   "execution_count": 10,
   "metadata": {},
   "outputs": [],
   "source": [
    "productos=['producto14','producto19','producto53','producto54','producto52','producto48','producto24'\n",
    "    \n",
    "]"
   ]
  },
  {
   "cell_type": "code",
   "execution_count": 11,
   "metadata": {},
   "outputs": [],
   "source": [
    "fs=[]\n",
    "for p in productos:\n",
    "    fs.extend([ x for x in folders if p in x])"
   ]
  },
  {
   "cell_type": "code",
   "execution_count": 12,
   "metadata": {},
   "outputs": [],
   "source": [
    "productos=pd.DataFrame(productos)"
   ]
  },
  {
   "cell_type": "code",
   "execution_count": 17,
   "metadata": {},
   "outputs": [
    {
     "name": "stdout",
     "output_type": "stream",
     "text": [
      "schema tracking exists, will not be created\n"
     ]
    }
   ],
   "source": [
    "k='tracking'\n",
    "if not cnx.dialect.has_schema(cnx, k):\n",
    "    print('schema '+k+' does not exist, creating it')\n",
    "    cnx.execute(sqlalchemy.schema.CreateSchema(k))\n",
    "else:\n",
    "    print('schema '+k+' exists, will not be created')\n",
    "\n",
    "productos.to_sql('min_ciencias_products',con=cnx,schema=k,if_exists='replace')"
   ]
  },
  {
   "cell_type": "code",
   "execution_count": 14,
   "metadata": {},
   "outputs": [
    {
     "name": "stdout",
     "output_type": "stream",
     "text": [
      "reading file: https://raw.githubusercontent.com/MinCiencia/Datos-COVID19/master/output/producto14/FallecidosCumulativo.csv\n",
      "reading file: https://raw.githubusercontent.com/MinCiencia/Datos-COVID19/master/output/producto14/FallecidosCumulativo_T.csv\n",
      "reading file: https://raw.githubusercontent.com/MinCiencia/Datos-COVID19/master/output/producto14/FallecidosCumulativo_std.csv\n",
      "reading file: https://raw.githubusercontent.com/MinCiencia/Datos-COVID19/master/output/producto19/CasosActivosPorComuna.csv\n",
      "reading file: https://raw.githubusercontent.com/MinCiencia/Datos-COVID19/master/output/producto19/CasosActivosPorComuna_T.csv\n",
      "reading file: https://raw.githubusercontent.com/MinCiencia/Datos-COVID19/master/output/producto19/CasosActivosPorComuna_std.csv\n",
      "reading file: https://raw.githubusercontent.com/MinCiencia/Datos-COVID19/master/output/producto53/confirmados_nacional.csv\n",
      "reading file: https://raw.githubusercontent.com/MinCiencia/Datos-COVID19/master/output/producto53/confirmados_provinciales.csv\n",
      "reading file: https://raw.githubusercontent.com/MinCiencia/Datos-COVID19/master/output/producto53/confirmados_regionales.csv\n",
      "reading file: https://raw.githubusercontent.com/MinCiencia/Datos-COVID19/master/output/producto53/confirmados_ss.csv\n",
      "reading file: https://raw.githubusercontent.com/MinCiencia/Datos-COVID19/master/output/producto54/r.nacional.csv\n",
      "reading file: https://raw.githubusercontent.com/MinCiencia/Datos-COVID19/master/output/producto54/r.provincial.csv\n",
      "reading file: https://raw.githubusercontent.com/MinCiencia/Datos-COVID19/master/output/producto54/r.provincial_copy.csv\n",
      "reading file: https://raw.githubusercontent.com/MinCiencia/Datos-COVID19/master/output/producto54/r.regional.csv\n",
      "reading file: https://raw.githubusercontent.com/MinCiencia/Datos-COVID19/master/output/producto54/r.ss.csv\n",
      "reading file: https://raw.githubusercontent.com/MinCiencia/Datos-COVID19/master/output/producto52/Camas_UCI.csv\n",
      "reading file: https://raw.githubusercontent.com/MinCiencia/Datos-COVID19/master/output/producto52/Camas_UCI_std.csv\n",
      "reading file: https://raw.githubusercontent.com/MinCiencia/Datos-COVID19/master/output/producto52/Camas_UCI_t.csv\n",
      "reading file: https://raw.githubusercontent.com/MinCiencia/Datos-COVID19/master/output/producto48/SOCHIMI.csv\n",
      "reading file: https://raw.githubusercontent.com/MinCiencia/Datos-COVID19/master/output/producto48/SOCHIMI_T.csv\n",
      "reading file: https://raw.githubusercontent.com/MinCiencia/Datos-COVID19/master/output/producto48/SOCHIMI_std.csv\n",
      "reading file: https://raw.githubusercontent.com/MinCiencia/Datos-COVID19/master/output/producto24/CamasHospital_Diario.csv\n",
      "reading file: https://raw.githubusercontent.com/MinCiencia/Datos-COVID19/master/output/producto24/CamasHospital_Diario_T.csv\n",
      "reading file: https://raw.githubusercontent.com/MinCiencia/Datos-COVID19/master/output/producto24/CamasHospital_Diario_std.csv\n"
     ]
    }
   ],
   "source": [
    "tables={}\n",
    "for f in fs:\n",
    "    files_folder=f.rsplit('/')[-1]\n",
    "    files_folder_prefix='/MinCiencia/Datos-COVID19/blob/master/output/'+files_folder+'/'\n",
    "    tables[files_folder]={}\n",
    "    raw_path='https://raw.githubusercontent.com/MinCiencia/Datos-COVID19/master/output/'+files_folder+'/'\n",
    "    req=requests.get(f)\n",
    "    files=req.text.split(files_folder_prefix)\n",
    "    for idx in range(len(files)):\n",
    "        files[idx]=files[idx].split('\">')[0]\n",
    "    files=[raw_path+f for f in files if '.csv' in f]\n",
    "    for fl in files:\n",
    "        try:\n",
    "            print('reading file: '+fl)\n",
    "            table=pd.read_csv(fl)\n",
    "            table_name='_'.join(fl.rsplit('/',2)[-2:]).strip('.csv')\n",
    "            tables[files_folder][table_name]=table\n",
    "        except Exception as e:\n",
    "            print(str(e))\n",
    "            pass"
   ]
  },
  {
   "cell_type": "code",
   "execution_count": 15,
   "metadata": {},
   "outputs": [],
   "source": [
    "tables['producto11']={}\n",
    "tables['producto11']['producto4']=pd.read_csv('https://raw.githubusercontent.com/MinCiencia/Datos-COVID19/master/output/producto11/bulk/producto4.csv')\n",
    "tables['producto11']['producto4'].columns=[x.replace('*','x').replace('%','porcentaje_') for x in tables['producto11']['producto4'].columns]"
   ]
  },
  {
   "cell_type": "code",
   "execution_count": 16,
   "metadata": {},
   "outputs": [],
   "source": [
    "ortables=copy.deepcopy(tables)"
   ]
  },
  {
   "cell_type": "code",
   "execution_count": 17,
   "metadata": {},
   "outputs": [
    {
     "name": "stdout",
     "output_type": "stream",
     "text": [
      "fixing transposed table: producto14_FallecidosCumulativo_T\n",
      "converting to date in table: producto14_FallecidosCumulativo_std\n",
      "fixing transposed table: producto19_CasosActivosPorComuna_T\n",
      "converting to date in table: producto19_CasosActivosPorComuna_std\n",
      "converting to date in table: producto53_confirmados_nacional\n",
      "converting to date in table: producto53_confirmados_provinciale\n",
      "converting to date in table: producto53_confirmados_regionale\n",
      "converting to date in table: producto53_confirmados_\n",
      "converting to date in table: producto54_r.nacional\n",
      "converting to date in table: producto54_r.provincial\n",
      "converting to date in table: producto54_r.provincial_copy\n",
      "converting to date in table: producto54_r.regional\n",
      "converting to date in table: producto54_r\n",
      "converting to date in table: producto52_Camas_UCI_std\n",
      "fixing transposed table: producto48_SOCHIMI_T\n",
      "converting to date in table: producto48_SOCHIMI_std\n",
      "fixing transposed table: producto24_CamasHospital_Diario_T\n",
      "converting to date in table: producto24_CamasHospital_Diario_std\n",
      "converting to date in table: producto4\n"
     ]
    }
   ],
   "source": [
    "#normalizar tablas transpuestas y cambiar campos \"fecha\" (donde haya) a tipo datetime\n",
    "for s in tables.keys():\n",
    "    for n in tables[s].keys():\n",
    "        #print(n)\n",
    "        if '_T' in n[-2:]:\n",
    "            print('fixing transposed table: '+n)\n",
    "            tables[s][n]=transpose(tables[s][n])\n",
    "        elif 'fecha' in [str(x).lower() for x in tables[s][n].columns]:\n",
    "            print('converting to date in table: '+n)\n",
    "            tables[s][n]=to_datetime(tables[s][n])\n",
    "            "
   ]
  },
  {
   "cell_type": "code",
   "execution_count": 18,
   "metadata": {},
   "outputs": [
    {
     "name": "stdout",
     "output_type": "stream",
     "text": [
      "creando variable dummy para región metropolitana en tabla: producto14_FallecidosCumulativo\n",
      "creando variable dummy para región metropolitana en tabla: producto14_FallecidosCumulativo_std\n",
      "creando variable dummy para región metropolitana en tabla: producto19_CasosActivosPorComuna\n",
      "creando variable dummy para región metropolitana en tabla: producto19_CasosActivosPorComuna_std\n",
      "creando variable dummy para región metropolitana en tabla: producto53_confirmados_provinciale\n",
      "creando variable dummy para región metropolitana en tabla: producto53_confirmados_regionale\n",
      "creando variable dummy para región metropolitana en tabla: producto53_confirmados_\n",
      "creando variable dummy para región metropolitana en tabla: producto54_r.provincial\n",
      "creando variable dummy para región metropolitana en tabla: producto54_r.provincial_copy\n",
      "creando variable dummy para región metropolitana en tabla: producto54_r.regional\n",
      "creando variable dummy para región metropolitana en tabla: producto54_r\n",
      "creando variable dummy para región metropolitana en tabla: producto52_Camas_UCI\n",
      "creando variable dummy para región metropolitana en tabla: producto52_Camas_UCI_std\n",
      "creando variable dummy para región metropolitana en tabla: producto52_Camas_UCI_t\n",
      "creando variable dummy para región metropolitana en tabla: producto48_SOCHIMI\n",
      "creando variable dummy para región metropolitana en tabla: producto48_SOCHIMI_std\n",
      "creando variable dummy para región metropolitana en tabla: producto4\n"
     ]
    }
   ],
   "source": [
    "#agregar variable dummy para región metropolitana\n",
    "for s in tables.keys():\n",
    "    for n in tables[s].keys():\n",
    "        #print(n)\n",
    "        if 'region' in [x.lower() for x in tables[s][n].columns]:\n",
    "            print('creando variable dummy para región metropolitana en tabla: '+n)\n",
    "            tables[s][n]=make_dummies(tables[s][n],fields=['region'],keep_strings=['metropolitana'],value_map={'metropolitana':{0:'Resto de Chile',1:'Región Metropolitana'}})"
   ]
  },
  {
   "cell_type": "code",
   "execution_count": 19,
   "metadata": {},
   "outputs": [
    {
     "name": "stdout",
     "output_type": "stream",
     "text": [
      "schema producto14 exists, will not be created\n",
      "schema producto19 exists, will not be created\n",
      "schema producto53 exists, will not be created\n",
      "schema producto54 exists, will not be created\n",
      "schema producto52 exists, will not be created\n",
      "schema producto48 exists, will not be created\n",
      "schema producto24 exists, will not be created\n",
      "schema producto11 exists, will not be created\n"
     ]
    }
   ],
   "source": [
    "for k in tables.keys():\n",
    "    if not cnx.dialect.has_schema(cnx, k):\n",
    "        print('schema '+k+' does not exist, creating it')\n",
    "        cnx.execute(sqlalchemy.schema.CreateSchema(k))\n",
    "    else:\n",
    "        print('schema '+k+' exists, will not be created')"
   ]
  },
  {
   "cell_type": "code",
   "execution_count": 20,
   "metadata": {},
   "outputs": [
    {
     "name": "stdout",
     "output_type": "stream",
     "text": [
      "creating table producto14_FallecidosCumulativo ,schema: producto14\n",
      "saving table/data/ETLcache/producto14_FallecidosCumulativo_23012021_223640.csv in cache\n",
      "creating table producto14_FallecidosCumulativo_T ,schema: producto14\n",
      "saving table/data/ETLcache/producto14_FallecidosCumulativo_T_23012021_223640.csv in cache\n",
      "creating table producto14_FallecidosCumulativo_std ,schema: producto14\n",
      "saving table/data/ETLcache/producto14_FallecidosCumulativo_std_23012021_223640.csv in cache\n",
      "creating table producto19_CasosActivosPorComuna ,schema: producto19\n",
      "saving table/data/ETLcache/producto19_CasosActivosPorComuna_23012021_223640.csv in cache\n",
      "creating table producto19_CasosActivosPorComuna_T ,schema: producto19\n",
      "saving table/data/ETLcache/producto19_CasosActivosPorComuna_T_23012021_223640.csv in cache\n",
      "creating table producto19_CasosActivosPorComuna_std ,schema: producto19\n",
      "saving table/data/ETLcache/producto19_CasosActivosPorComuna_std_23012021_223640.csv in cache\n",
      "creating table producto53_confirmados_nacional ,schema: producto53\n",
      "saving table/data/ETLcache/producto53_confirmados_nacional_23012021_223640.csv in cache\n",
      "creating table producto53_confirmados_provinciale ,schema: producto53\n",
      "saving table/data/ETLcache/producto53_confirmados_provinciale_23012021_223640.csv in cache\n",
      "creating table producto53_confirmados_regionale ,schema: producto53\n",
      "saving table/data/ETLcache/producto53_confirmados_regionale_23012021_223640.csv in cache\n",
      "creating table producto53_confirmados_ ,schema: producto53\n",
      "saving table/data/ETLcache/producto53_confirmados__23012021_223640.csv in cache\n",
      "creating table producto54_r.nacional ,schema: producto54\n",
      "saving table/data/ETLcache/producto54_r.nacional_23012021_223640.csv in cache\n",
      "creating table producto54_r.provincial ,schema: producto54\n",
      "saving table/data/ETLcache/producto54_r.provincial_23012021_223640.csv in cache\n",
      "creating table producto54_r.provincial_copy ,schema: producto54\n",
      "saving table/data/ETLcache/producto54_r.provincial_copy_23012021_223640.csv in cache\n",
      "creating table producto54_r.regional ,schema: producto54\n",
      "saving table/data/ETLcache/producto54_r.regional_23012021_223640.csv in cache\n",
      "creating table producto54_r ,schema: producto54\n",
      "saving table/data/ETLcache/producto54_r_23012021_223640.csv in cache\n",
      "creating table producto52_Camas_UCI ,schema: producto52\n",
      "saving table/data/ETLcache/producto52_Camas_UCI_23012021_223640.csv in cache\n",
      "creating table producto52_Camas_UCI_std ,schema: producto52\n",
      "saving table/data/ETLcache/producto52_Camas_UCI_std_23012021_223640.csv in cache\n",
      "creating table producto52_Camas_UCI_t ,schema: producto52\n",
      "saving table/data/ETLcache/producto52_Camas_UCI_t_23012021_223640.csv in cache\n",
      "creating table producto48_SOCHIMI ,schema: producto48\n",
      "saving table/data/ETLcache/producto48_SOCHIMI_23012021_223640.csv in cache\n",
      "creating table producto48_SOCHIMI_T ,schema: producto48\n",
      "saving table/data/ETLcache/producto48_SOCHIMI_T_23012021_223640.csv in cache\n",
      "creating table producto48_SOCHIMI_std ,schema: producto48\n",
      "saving table/data/ETLcache/producto48_SOCHIMI_std_23012021_223640.csv in cache\n",
      "creating table producto24_CamasHospital_Diario ,schema: producto24\n",
      "saving table/data/ETLcache/producto24_CamasHospital_Diario_23012021_223640.csv in cache\n",
      "creating table producto24_CamasHospital_Diario_T ,schema: producto24\n",
      "saving table/data/ETLcache/producto24_CamasHospital_Diario_T_23012021_223640.csv in cache\n",
      "creating table producto24_CamasHospital_Diario_std ,schema: producto24\n",
      "saving table/data/ETLcache/producto24_CamasHospital_Diario_std_23012021_223640.csv in cache\n",
      "creating table producto4 ,schema: producto11\n",
      "saving table/data/ETLcache/producto4_23012021_223640.csv in cache\n"
     ]
    }
   ],
   "source": [
    "for schema in tables.keys():\n",
    "    for name in tables[schema].keys():\n",
    "        try:\n",
    "            df=tables[schema][name]\n",
    "            name=name.replace('-','_')\n",
    "            print(\"creating table \"+name+' ,schema: '+schema)\n",
    "            df.to_sql(name, schema=schema,con=cnx,if_exists='replace')\n",
    "            print(\"saving table\"+path+name+timestamp+'.csv in cache')\n",
    "            df.to_csv(path+name+timestamp+'.csv',encoding='utf-8')\n",
    "        except Exception as e: \n",
    "            print(str(e))\n",
    "            pass"
   ]
  },
  {
   "cell_type": "code",
   "execution_count": 22,
   "metadata": {},
   "outputs": [
    {
     "data": {
      "text/plain": [
       "65280"
      ]
     },
     "execution_count": 22,
     "metadata": {},
     "output_type": "execute_result"
    }
   ],
   "source": [
    "os.system('jupyter nbconvert --output /home/jovyan/work/ETLdocs/' + 'ETL_covid-chile.html' + ' --to html ' + \n",
    "          '/home/jovyan/work/ETL/covid-chile.ipynb')"
   ]
  }
 ],
 "metadata": {
  "kernelspec": {
   "display_name": "Python 3",
   "language": "python",
   "name": "python3"
  },
  "language_info": {
   "codemirror_mode": {
    "name": "ipython",
    "version": 3
   },
   "file_extension": ".py",
   "mimetype": "text/x-python",
   "name": "python",
   "nbconvert_exporter": "python",
   "pygments_lexer": "ipython3",
   "version": "3.8.6"
  }
 },
 "nbformat": 4,
 "nbformat_minor": 4
}
