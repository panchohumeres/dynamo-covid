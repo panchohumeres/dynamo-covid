{
 "cells": [
  {
   "cell_type": "code",
   "execution_count": 1,
   "metadata": {},
   "outputs": [],
   "source": [
    "import pandas as pd\n",
    "import sqlalchemy \n",
    "import psycopg2\n",
    "import os\n",
    "import numpy as np\n",
    "from sklearn.linear_model import LinearRegression\n",
    "import seaborn as sns; sns.set()\n",
    "import matplotlib.pyplot as plt\n",
    "from sqlalchemy import create_engine\n",
    "from datetime import datetime as dt\n",
    "import sys\n",
    "import boto3\n",
    "import os\n",
    "import plotly.graph_objects as go\n",
    "from plotly.subplots import make_subplots\n",
    "from plotly.graph_objs.layout import YAxis,XAxis,Margin"
   ]
  },
  {
   "cell_type": "code",
   "execution_count": 2,
   "metadata": {},
   "outputs": [],
   "source": [
    "sys.path.append('..')"
   ]
  },
  {
   "cell_type": "code",
   "execution_count": 3,
   "metadata": {},
   "outputs": [],
   "source": [
    "from modules.stats import *"
   ]
  },
  {
   "cell_type": "code",
   "execution_count": 4,
   "metadata": {},
   "outputs": [],
   "source": [
    "#guardar paso en csv\n",
    "path='/data/ETLcache/'\n",
    "now = dt.now()\n",
    "timestamp = now.strftime(\"_%d%m%Y_%H%M%S\")"
   ]
  },
  {
   "cell_type": "code",
   "execution_count": 5,
   "metadata": {},
   "outputs": [],
   "source": [
    "DBname=os.environ['DB_NAME']\n",
    "postgres_psswd=os.environ['POSTGRES_PASSWORD']\n",
    "postgres_user=os.environ['POSTGRES_USER']\n",
    "postgres_port=str(os.environ['POSTGRES_PORT'])\n",
    "# A long string that contains the necessary Postgres login information\n",
    "postgres_str = ('postgresql://'+postgres_user+':'+postgres_psswd+'@'+DBname+':'+postgres_port+'/superset')\n",
    "# Create the connection\n",
    "cnx = create_engine(postgres_str)"
   ]
  },
  {
   "cell_type": "code",
   "execution_count": 6,
   "metadata": {},
   "outputs": [],
   "source": [
    "s=\"nacional\"\n",
    "n=\"consolidado_nacional\"\n",
    "df=pd.read_sql_table(n, con=cnx,schema=s)"
   ]
  },
  {
   "cell_type": "code",
   "execution_count": 7,
   "metadata": {},
   "outputs": [],
   "source": [
    "def loglog(df,x,y,z,dpi=150,filename=''):\n",
    "    df=df.loc[~df[x].isnull(),(x,y,z)]\n",
    "    df[[x,y]]=df[[x,y]].rolling(7).mean()\n",
    "    \n",
    "    xlog_range=10**np.arange(np.log10(df[x].min()),np.log10(df[x].max()),0.3)\n",
    "    \n",
    "    fechas=[]\n",
    "    for xtick in xlog_range:\n",
    "        #print(xtick)\n",
    "        idx=(df[x].fillna(0)-xtick).abs().argsort()[:2].iloc[1]\n",
    "        #print(idx)\n",
    "        #[1]\n",
    "        #fechas.append(nacional.loc[idx,'Fecha'])\n",
    "        fechas.append(idx)\n",
    "        \n",
    "    dates=df[z].dt.date.astype(str)\n",
    "    fechas=dates.iloc[fechas].values\n",
    "    \n",
    "    layout = go.Layout(showlegend=False,\n",
    "        xaxis=XAxis(\n",
    "            title=x,\n",
    "            type='log'\n",
    "        ),\n",
    "        xaxis2 = XAxis(\n",
    "            title=\"Fecha\",\n",
    "            overlaying= 'x', \n",
    "            type='log',\n",
    "            side= 'top',\n",
    "            tickmode = 'array',\n",
    "            tickangle=315,\n",
    "        tickvals = xlog_range,\n",
    "        ticktext = fechas\n",
    "        ),\n",
    "        yaxis=dict(\n",
    "            title=y,\n",
    "            type='log'\n",
    "        ),\n",
    "    )\n",
    "\n",
    "    # Create figure with secondary x-axis\n",
    "    fig = go.Figure(layout=layout)\n",
    "\n",
    "    # Add traces\n",
    "    fig.add_trace(\n",
    "        go.Scatter(x=df[x], y=df[y]),\n",
    "    )\n",
    "\n",
    "    fig.add_trace(\n",
    "        go.Scatter(x=df[x], y=df[y], xaxis='x2'),\n",
    "    )\n",
    "\n",
    "    fig.write_html(filename)"
   ]
  },
  {
   "cell_type": "code",
   "execution_count": 8,
   "metadata": {},
   "outputs": [],
   "source": [
    "loglog(df,'Fallecidos DEIS Acumulado','Fallecidos DEIS Diarios','Fecha',dpi=100,filename=path+'Muertes_DEIS.html')"
   ]
  },
  {
   "cell_type": "code",
   "execution_count": 9,
   "metadata": {},
   "outputs": [],
   "source": [
    "loglog(df,'Casos Acumulados ICOVID','Casos Nuevos ICOVID','Fecha',dpi=100,filename=path+'Contagios_ICOVID.html')"
   ]
  },
  {
   "cell_type": "code",
   "execution_count": 10,
   "metadata": {},
   "outputs": [],
   "source": [
    "ACCESS_KEY = os.environ['S3_ACCESS_KEY']\n",
    "SECRET_KEY = os.environ['S3_SECRET_KEY']\n",
    "bucket=os.environ['S3_BUCKET']"
   ]
  },
  {
   "cell_type": "code",
   "execution_count": 11,
   "metadata": {},
   "outputs": [],
   "source": [
    "s3 = boto3.client('s3', aws_access_key_id=ACCESS_KEY,\n",
    "                      aws_secret_access_key=SECRET_KEY)"
   ]
  },
  {
   "cell_type": "code",
   "execution_count": 12,
   "metadata": {},
   "outputs": [],
   "source": [
    "filelist= [file for file in os.listdir(path) if file.endswith('.html')]"
   ]
  },
  {
   "cell_type": "code",
   "execution_count": 13,
   "metadata": {},
   "outputs": [
    {
     "data": {
      "text/plain": [
       "['Contagios_ICOVID.html', 'Muertes_DEIS.html', 'index.html']"
      ]
     },
     "execution_count": 13,
     "metadata": {},
     "output_type": "execute_result"
    }
   ],
   "source": [
    "filelist"
   ]
  },
  {
   "cell_type": "code",
   "execution_count": 14,
   "metadata": {},
   "outputs": [],
   "source": [
    "for f in filelist:\n",
    "    s3.upload_file(path+'/'+f, bucket, f, ExtraArgs={'ACL':'public-read','ContentType':'text/html'})"
   ]
  },
  {
   "cell_type": "code",
   "execution_count": 15,
   "metadata": {},
   "outputs": [
    {
     "data": {
      "text/plain": [
       "0"
      ]
     },
     "execution_count": 15,
     "metadata": {},
     "output_type": "execute_result"
    }
   ],
   "source": [
    "os.system('jupyter nbconvert --output /home/jovyan/work/ETLdocs/' + 'ETL_LOGLOG.html' + ' --to html ' + \n",
    "          '/home/jovyan/work/ETL/LOGLOG.ipynb')"
   ]
  }
 ],
 "metadata": {
  "kernelspec": {
   "display_name": "Python 3",
   "language": "python",
   "name": "python3"
  },
  "language_info": {
   "codemirror_mode": {
    "name": "ipython",
    "version": 3
   },
   "file_extension": ".py",
   "mimetype": "text/x-python",
   "name": "python",
   "nbconvert_exporter": "python",
   "pygments_lexer": "ipython3",
   "version": "3.8.6"
  }
 },
 "nbformat": 4,
 "nbformat_minor": 4
}
