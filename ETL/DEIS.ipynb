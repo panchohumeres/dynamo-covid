{
 "cells": [
  {
   "cell_type": "code",
   "execution_count": 1,
   "metadata": {},
   "outputs": [],
   "source": [
    "import requests\n",
    "import datetime\n",
    "from datetime import datetime as dt\n",
    "import patoolib\n",
    "import os\n",
    "import pandas as pd\n",
    "import sqlalchemy \n",
    "import psycopg2\n",
    "from sqlalchemy import create_engine\n",
    "import numpy as np\n",
    "from datetime import timedelta"
   ]
  },
  {
   "cell_type": "code",
   "execution_count": 2,
   "metadata": {},
   "outputs": [],
   "source": [
    "DBname=os.environ['DB_NAME']\n",
    "postgres_psswd=os.environ['POSTGRES_PASSWORD']\n",
    "postgres_user=os.environ['POSTGRES_USER']\n",
    "postgres_port=str(os.environ['POSTGRES_PORT'])"
   ]
  },
  {
   "cell_type": "code",
   "execution_count": 3,
   "metadata": {},
   "outputs": [],
   "source": [
    "# A long string that contains the necessary Postgres login information\n",
    "postgres_str = ('postgresql://'+postgres_user+':'+postgres_psswd+'@'+DBname+':'+postgres_port+'/superset')\n",
    "# Create the connection\n",
    "cnx = create_engine(postgres_str)"
   ]
  },
  {
   "cell_type": "code",
   "execution_count": 4,
   "metadata": {},
   "outputs": [
    {
     "name": "stdout",
     "output_type": "stream",
     "text": [
      "testing date:2020-10-11 00:59:35.681864\n",
      "url: http://deis.minsal.cl/wp-content/uploads/2020/10/DEFUNCIONES_FUENTE_DEIS_2016_2020_11102020.rar\n",
      "404\n",
      "failure, trying previous date\n",
      "testing date:2020-10-10 00:59:35.681864\n",
      "url: http://deis.minsal.cl/wp-content/uploads/2020/10/DEFUNCIONES_FUENTE_DEIS_2016_2020_10102020.rar\n",
      "404\n",
      "failure, trying previous date\n",
      "testing date:2020-10-09 00:59:35.681864\n",
      "url: http://deis.minsal.cl/wp-content/uploads/2020/10/DEFUNCIONES_FUENTE_DEIS_2016_2020_09102020.rar\n",
      "404\n",
      "failure, trying previous date\n",
      "testing date:2020-10-08 00:59:35.681864\n",
      "url: http://deis.minsal.cl/wp-content/uploads/2020/10/DEFUNCIONES_FUENTE_DEIS_2016_2020_08102020.rar\n",
      "200\n",
      "success\n"
     ]
    }
   ],
   "source": [
    "now = dt.now()\n",
    "delta=0\n",
    "status=400\n",
    "while status!=200:\n",
    "    date=now- timedelta(days=delta)\n",
    "    print('testing date:'+str(date))\n",
    "    dia=date.strftime(\"%d\")\n",
    "    mes=date.strftime(\"%m\")\n",
    "    year=str(date.year)\n",
    "    url='http://deis.minsal.cl/wp-content/uploads/'+year+'/'+mes+'/DEFUNCIONES_FUENTE_DEIS_2016_'+year+'_'+dia+mes+year+'.rar'\n",
    "    print('url: '+url)\n",
    "    req = requests.get(url)\n",
    "    status=req.status_code\n",
    "    print(status)\n",
    "    if status==200:\n",
    "        print('success')\n",
    "    else:\n",
    "        print('failure, trying previous date')\n",
    "        delta+=1"
   ]
  },
  {
   "cell_type": "code",
   "execution_count": 5,
   "metadata": {},
   "outputs": [],
   "source": [
    "path='/data/ETLcache/'\n",
    "now = dt.now()\n",
    "timestamp = now.strftime(\"_%d%m%Y_%H%M%S\")"
   ]
  },
  {
   "cell_type": "code",
   "execution_count": 6,
   "metadata": {},
   "outputs": [
    {
     "data": {
      "text/plain": [
       "4105656"
      ]
     },
     "execution_count": 6,
     "metadata": {},
     "output_type": "execute_result"
    }
   ],
   "source": [
    "open(path+'DEIS.rar', 'wb').write(req.content)"
   ]
  },
  {
   "cell_type": "code",
   "execution_count": 7,
   "metadata": {},
   "outputs": [
    {
     "name": "stdout",
     "output_type": "stream",
     "text": [
      "patool: Extracting /data/ETLcache/DEIS.rar ...\n",
      "patool: running /usr/bin/rar x -- /data/ETLcache/DEIS.rar\n",
      "patool:     with cwd='/data/ETLcache/DEIS_11102020_005943'\n",
      "patool: ... /data/ETLcache/DEIS.rar extracted to `/data/ETLcache/DEIS_11102020_005943'.\n"
     ]
    }
   ],
   "source": [
    "if not os.path.exists(path+'DEIS'+timestamp):\n",
    "    os.makedirs(path+'DEIS'+timestamp)\n",
    "    patoolib.extract_archive(path+'DEIS.rar', outdir=path+'DEIS'+timestamp)"
   ]
  },
  {
   "cell_type": "code",
   "execution_count": 21,
   "metadata": {},
   "outputs": [
    {
     "name": "stderr",
     "output_type": "stream",
     "text": [
      "/opt/conda/lib/python3.8/site-packages/IPython/core/interactiveshell.py:3145: DtypeWarning: Columns (16,17,18,19,20,21,22,23,24) have mixed types.Specify dtype option on import or set low_memory=False.\n",
      "  has_raised = await self.run_ast_nodes(code_ast.body, cell_name,\n"
     ]
    }
   ],
   "source": [
    "for f in os.listdir(path+'DEIS'+timestamp):\n",
    "    if '.csv' in f:\n",
    "        deis=pd.read_csv(path+'DEIS'+timestamp+'/'+f,sep=';',encoding='latin1',header=0)\n",
    "    if '.xlsx' in f:\n",
    "        headers=pd.read_excel(path+'DEIS'+timestamp+'/'+f,header=3,index_col=1)"
   ]
  },
  {
   "cell_type": "code",
   "execution_count": 22,
   "metadata": {},
   "outputs": [],
   "source": [
    "headers=headers['Nombre de la variable']"
   ]
  },
  {
   "cell_type": "code",
   "execution_count": 23,
   "metadata": {},
   "outputs": [],
   "source": [
    "headers=headers[1:]\n",
    "deis.columns=headers"
   ]
  },
  {
   "cell_type": "code",
   "execution_count": 24,
   "metadata": {},
   "outputs": [],
   "source": [
    "deis['Metropolitana']=0\n",
    "deis.loc[deis['GLOSA_REG_RES']=='Metropolitana de Santiago','Metropolitana']=1\n",
    "deis['Metropolitana']=deis['Metropolitana'].replace({0:'Resto de Chile',1:'Región Metropolitana'})"
   ]
  },
  {
   "cell_type": "code",
   "execution_count": 25,
   "metadata": {},
   "outputs": [],
   "source": [
    "deis['FECHA_DEF']=pd.to_datetime(deis['FECHA_DEF'],format='%d-%m-%Y')\n",
    "deis['FECHA_DEF']=deis['FECHA_DEF'].dt.to_pydatetime()"
   ]
  },
  {
   "cell_type": "code",
   "execution_count": 26,
   "metadata": {},
   "outputs": [],
   "source": [
    "deis['FECHA_STR']=deis['FECHA_DEF'].dt.strftime('%d-%m-%Y')"
   ]
  },
  {
   "cell_type": "code",
   "execution_count": 27,
   "metadata": {},
   "outputs": [],
   "source": [
    "deis['COVID']=deis['DIAG1'].replace({'U071':'Covid PCR+','U072':'Covid Sospechoso'})\n",
    "deis.loc[~deis['DIAG1'].isin(['U071','U072']),'COVID']=np.nan"
   ]
  },
  {
   "cell_type": "code",
   "execution_count": 28,
   "metadata": {},
   "outputs": [
    {
     "data": {
      "text/plain": [
       "Covid PCR+          13272\n",
       "Covid Sospechoso     4684\n",
       "Name: COVID, dtype: int64"
      ]
     },
     "execution_count": 28,
     "metadata": {},
     "output_type": "execute_result"
    }
   ],
   "source": [
    "deis['COVID'].value_counts()"
   ]
  },
  {
   "cell_type": "code",
   "execution_count": 29,
   "metadata": {},
   "outputs": [
    {
     "name": "stdout",
     "output_type": "stream",
     "text": [
      "creando columna: ANO_DEF\n"
     ]
    }
   ],
   "source": [
    "if not 'ANO_DEF' in deis.columns:\n",
    "    print('creando columna: ANO_DEF')\n",
    "    deis['ANO_DEF']=deis['FECHA_DEF'].dt.year"
   ]
  },
  {
   "cell_type": "code",
   "execution_count": 31,
   "metadata": {},
   "outputs": [
    {
     "name": "stdout",
     "output_type": "stream",
     "text": [
      "schema DEIS exists, will not be created\n"
     ]
    }
   ],
   "source": [
    "for k in ['DEIS']:\n",
    "    if not cnx.dialect.has_schema(cnx, k):\n",
    "        print('schema '+k+' does not exist, creating it')\n",
    "        cnx.execute(sqlalchemy.schema.CreateSchema(k))\n",
    "    else:\n",
    "        print('schema '+k+' exists, will not be created')"
   ]
  },
  {
   "cell_type": "code",
   "execution_count": 32,
   "metadata": {},
   "outputs": [],
   "source": [
    "edad_fecha=deis.loc[(deis['ANO_DEF']==2020) & (deis['COVID'].notnull())]\n",
    "edad_fecha=edad_fecha.groupby(['FECHA_DEF','EDAD_CANT'])['COVID'].count().reset_index()\n",
    "edad_fecha=edad_fecha.set_index('FECHA_DEF').groupby('EDAD_CANT').rolling('7d',min_periods=1)['COVID'].mean()\n",
    "edad_fecha=edad_fecha.reset_index()\n",
    "edad_fecha.to_sql('DEIS_EDAD_FECHA_ROLLING', schema='DEIS',con=cnx,if_exists='replace')"
   ]
  },
  {
   "cell_type": "code",
   "execution_count": 34,
   "metadata": {},
   "outputs": [
    {
     "name": "stdout",
     "output_type": "stream",
     "text": [
      "creating table DEIS_2020 ,schema: DEIS\n",
      "saving table/data/ETLcache/DEIS_2020_11102020_005943.csv in cache\n",
      "creating table DEIS_2018 ,schema: DEIS\n",
      "saving table/data/ETLcache/DEIS_2018_11102020_005943.csv in cache\n",
      "creating table DEIS_2019 ,schema: DEIS\n",
      "saving table/data/ETLcache/DEIS_2019_11102020_005943.csv in cache\n",
      "creating table DEIS_2016 ,schema: DEIS\n",
      "saving table/data/ETLcache/DEIS_2016_11102020_005943.csv in cache\n",
      "creating table DEIS_2017 ,schema: DEIS\n",
      "saving table/data/ETLcache/DEIS_2017_11102020_005943.csv in cache\n"
     ]
    }
   ],
   "source": [
    "schema='DEIS'\n",
    "for y in deis['ANO_DEF'].unique():\n",
    "    name='DEIS_'+str(y).split('.')[0]\n",
    "    df=deis[deis['ANO_DEF']==y]\n",
    "    print(\"creating table \"+name+' ,schema: '+schema)\n",
    "    df.to_sql(name, schema=schema,con=cnx,if_exists='replace')\n",
    "    print(\"saving table\"+path+name+timestamp+'.csv in cache')\n",
    "    df.to_csv(path+name+timestamp+'.csv',encoding='utf-8')"
   ]
  },
  {
   "cell_type": "code",
   "execution_count": 41,
   "metadata": {},
   "outputs": [
    {
     "data": {
      "text/plain": [
       "0"
      ]
     },
     "execution_count": 41,
     "metadata": {},
     "output_type": "execute_result"
    }
   ],
   "source": [
    "os.system('jupyter nbconvert --output /home/jovyan/work/ETLdocs/' + 'ETL_covid-chile.html' + ' --to html ' + \n",
    "          '/home/jovyan/work/ETL/covid-chile.ipynb')"
   ]
  }
 ],
 "metadata": {
  "kernelspec": {
   "display_name": "Python 3",
   "language": "python",
   "name": "python3"
  },
  "language_info": {
   "codemirror_mode": {
    "name": "ipython",
    "version": 3
   },
   "file_extension": ".py",
   "mimetype": "text/x-python",
   "name": "python",
   "nbconvert_exporter": "python",
   "pygments_lexer": "ipython3",
   "version": "3.8.5"
  }
 },
 "nbformat": 4,
 "nbformat_minor": 4
}
