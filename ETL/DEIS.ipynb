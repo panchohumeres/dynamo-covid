{
 "cells": [
  {
   "cell_type": "code",
   "execution_count": 1,
   "metadata": {},
   "outputs": [],
   "source": [
    "import requests\n",
    "import datetime\n",
    "from datetime import datetime as dt\n",
    "import patoolib\n",
    "import os\n",
    "import pandas as pd\n",
    "import sqlalchemy \n",
    "import psycopg2\n",
    "from sqlalchemy import create_engine\n",
    "import numpy as np\n",
    "from datetime import timedelta"
   ]
  },
  {
   "cell_type": "code",
   "execution_count": 2,
   "metadata": {},
   "outputs": [],
   "source": [
    "DBname=os.environ['DB_NAME']\n",
    "postgres_psswd=os.environ['POSTGRES_PASSWORD']\n",
    "postgres_user=os.environ['POSTGRES_USER']\n",
    "postgres_port=str(os.environ['POSTGRES_PORT'])"
   ]
  },
  {
   "cell_type": "code",
   "execution_count": 3,
   "metadata": {},
   "outputs": [],
   "source": [
    "# A long string that contains the necessary Postgres login information\n",
    "postgres_str = ('postgresql://'+postgres_user+':'+postgres_psswd+'@'+DBname+':'+postgres_port+'/superset')\n",
    "# Create the connection\n",
    "cnx = create_engine(postgres_str)"
   ]
  },
  {
   "cell_type": "code",
   "execution_count": 4,
   "metadata": {},
   "outputs": [
    {
     "name": "stdout",
     "output_type": "stream",
     "text": [
      "testing date:2020-12-06 23:59:14.129326\n",
      "url: http://deis.minsal.cl/wp-content/uploads/2020/12/DEFUNCIONES_FUENTE_DEIS_2016_2020_06122020.rar\n",
      "404\n",
      "failure, trying previous date\n",
      "testing date:2020-12-05 23:59:14.129326\n",
      "url: http://deis.minsal.cl/wp-content/uploads/2020/12/DEFUNCIONES_FUENTE_DEIS_2016_2020_05122020.rar\n",
      "404\n",
      "failure, trying previous date\n",
      "testing date:2020-12-04 23:59:14.129326\n",
      "url: http://deis.minsal.cl/wp-content/uploads/2020/12/DEFUNCIONES_FUENTE_DEIS_2016_2020_04122020.rar\n",
      "404\n",
      "failure, trying previous date\n",
      "testing date:2020-12-03 23:59:14.129326\n",
      "url: http://deis.minsal.cl/wp-content/uploads/2020/12/DEFUNCIONES_FUENTE_DEIS_2016_2020_03122020.rar\n",
      "200\n",
      "success\n"
     ]
    }
   ],
   "source": [
    "now = dt.now()\n",
    "delta=0\n",
    "status=400\n",
    "while status!=200:\n",
    "    date=now- timedelta(days=delta)\n",
    "    print('testing date:'+str(date))\n",
    "    dia=date.strftime(\"%d\")\n",
    "    mes=date.strftime(\"%m\")\n",
    "    year=str(date.year)\n",
    "    url='http://deis.minsal.cl/wp-content/uploads/'+year+'/'+mes+'/DEFUNCIONES_FUENTE_DEIS_2016_'+year+'_'+dia+mes+year+'.rar'\n",
    "    print('url: '+url)\n",
    "    req = requests.get(url)\n",
    "    status=req.status_code\n",
    "    print(status)\n",
    "    if status==200:\n",
    "        print('success')\n",
    "    else:\n",
    "        print('failure, trying previous date')\n",
    "        delta+=1"
   ]
  },
  {
   "cell_type": "code",
   "execution_count": 5,
   "metadata": {},
   "outputs": [],
   "source": [
    "path='/data/ETLcache/'\n",
    "now = dt.now()\n",
    "timestamp = now.strftime(\"_%d%m%Y_%H%M%S\")"
   ]
  },
  {
   "cell_type": "code",
   "execution_count": 6,
   "metadata": {},
   "outputs": [
    {
     "data": {
      "text/plain": [
       "4783749"
      ]
     },
     "execution_count": 6,
     "metadata": {},
     "output_type": "execute_result"
    }
   ],
   "source": [
    "open(path+'DEIS.rar', 'wb').write(req.content)"
   ]
  },
  {
   "cell_type": "code",
   "execution_count": 7,
   "metadata": {},
   "outputs": [
    {
     "name": "stdout",
     "output_type": "stream",
     "text": [
      "patool: Extracting /data/ETLcache/DEIS.rar ...\n",
      "patool: running /usr/bin/rar x -- /data/ETLcache/DEIS.rar\n",
      "patool:     with cwd='/data/ETLcache/DEIS_06122020_235946'\n",
      "patool: ... /data/ETLcache/DEIS.rar extracted to `/data/ETLcache/DEIS_06122020_235946'.\n"
     ]
    }
   ],
   "source": [
    "if not os.path.exists(path+'DEIS'+timestamp):\n",
    "    os.makedirs(path+'DEIS'+timestamp)\n",
    "    patoolib.extract_archive(path+'DEIS.rar', outdir=path+'DEIS'+timestamp)"
   ]
  },
  {
   "cell_type": "code",
   "execution_count": 8,
   "metadata": {},
   "outputs": [],
   "source": [
    "for f in os.listdir(path+'DEIS'+timestamp):\n",
    "    if '.csv' in f:\n",
    "        deis=pd.read_csv(path+'DEIS'+timestamp+'/'+f,sep=';',encoding='latin1',header=0)\n",
    "    if '.xlsx' in f:\n",
    "        headers=pd.read_excel(path+'DEIS'+timestamp+'/'+f,header=3,index_col=1)"
   ]
  },
  {
   "cell_type": "code",
   "execution_count": 9,
   "metadata": {},
   "outputs": [
    {
     "data": {
      "text/html": [
       "<div>\n",
       "<style scoped>\n",
       "    .dataframe tbody tr th:only-of-type {\n",
       "        vertical-align: middle;\n",
       "    }\n",
       "\n",
       "    .dataframe tbody tr th {\n",
       "        vertical-align: top;\n",
       "    }\n",
       "\n",
       "    .dataframe thead th {\n",
       "        text-align: right;\n",
       "    }\n",
       "</style>\n",
       "<table border=\"1\" class=\"dataframe\">\n",
       "  <thead>\n",
       "    <tr style=\"text-align: right;\">\n",
       "      <th></th>\n",
       "      <th>2020</th>\n",
       "      <th>2020-11-10</th>\n",
       "      <th>Hombre</th>\n",
       "      <th>1</th>\n",
       "      <th>114</th>\n",
       "      <th>13114</th>\n",
       "      <th>Las Condes</th>\n",
       "      <th>Metropolitana de Santiago</th>\n",
       "      <th>I259</th>\n",
       "      <th>I00-I99</th>\n",
       "      <th>...</th>\n",
       "      <th>ENFERMEDAD ISQUEMICA CRONICA DEL CORAZÓN NO ESPECIFICADA</th>\n",
       "      <th>Unnamed: 17</th>\n",
       "      <th>Unnamed: 18</th>\n",
       "      <th>Unnamed: 19</th>\n",
       "      <th>Unnamed: 20</th>\n",
       "      <th>Unnamed: 21</th>\n",
       "      <th>Unnamed: 22</th>\n",
       "      <th>Unnamed: 23</th>\n",
       "      <th>Unnamed: 24</th>\n",
       "      <th>Unnamed: 25</th>\n",
       "    </tr>\n",
       "  </thead>\n",
       "  <tbody>\n",
       "    <tr>\n",
       "      <th>0</th>\n",
       "      <td>2020</td>\n",
       "      <td>2020-07-21</td>\n",
       "      <td>Hombre</td>\n",
       "      <td>1</td>\n",
       "      <td>75</td>\n",
       "      <td>6115</td>\n",
       "      <td>Rengo</td>\n",
       "      <td>Del Libertador B. O'Higgins</td>\n",
       "      <td>I678</td>\n",
       "      <td>I00-I99</td>\n",
       "      <td>...</td>\n",
       "      <td>OTRAS ENFERMEDADES CEREBROVASCULARES ESPECIFIC...</td>\n",
       "      <td></td>\n",
       "      <td>NaN</td>\n",
       "      <td>NaN</td>\n",
       "      <td>NaN</td>\n",
       "      <td>NaN</td>\n",
       "      <td>NaN</td>\n",
       "      <td>NaN</td>\n",
       "      <td>NaN</td>\n",
       "      <td>NaN</td>\n",
       "    </tr>\n",
       "    <tr>\n",
       "      <th>1</th>\n",
       "      <td>2020</td>\n",
       "      <td>2020-02-13</td>\n",
       "      <td>Hombre</td>\n",
       "      <td>1</td>\n",
       "      <td>92</td>\n",
       "      <td>5101</td>\n",
       "      <td>Valparaíso</td>\n",
       "      <td>De Valparaíso</td>\n",
       "      <td>F03X</td>\n",
       "      <td>F00-F99</td>\n",
       "      <td>...</td>\n",
       "      <td>DEMENCIA NO ESPECIFICADA</td>\n",
       "      <td>NaN</td>\n",
       "      <td>NaN</td>\n",
       "      <td>NaN</td>\n",
       "      <td>NaN</td>\n",
       "      <td>NaN</td>\n",
       "      <td>NaN</td>\n",
       "      <td>NaN</td>\n",
       "      <td>NaN</td>\n",
       "      <td>NaN</td>\n",
       "    </tr>\n",
       "    <tr>\n",
       "      <th>2</th>\n",
       "      <td>2020</td>\n",
       "      <td>2020-01-31</td>\n",
       "      <td>Mujer</td>\n",
       "      <td>1</td>\n",
       "      <td>85</td>\n",
       "      <td>13130</td>\n",
       "      <td>San Miguel</td>\n",
       "      <td>Metropolitana de Santiago</td>\n",
       "      <td>J189</td>\n",
       "      <td>J00-J99</td>\n",
       "      <td>...</td>\n",
       "      <td>NEUMONIA NO ESPECIFICADA</td>\n",
       "      <td></td>\n",
       "      <td>NaN</td>\n",
       "      <td>NaN</td>\n",
       "      <td>NaN</td>\n",
       "      <td>NaN</td>\n",
       "      <td>NaN</td>\n",
       "      <td>NaN</td>\n",
       "      <td>NaN</td>\n",
       "      <td>NaN</td>\n",
       "    </tr>\n",
       "    <tr>\n",
       "      <th>3</th>\n",
       "      <td>2020</td>\n",
       "      <td>2020-10-13</td>\n",
       "      <td>Hombre</td>\n",
       "      <td>1</td>\n",
       "      <td>91</td>\n",
       "      <td>7101</td>\n",
       "      <td>Talca</td>\n",
       "      <td>Del Maule</td>\n",
       "      <td>U072</td>\n",
       "      <td>U00-U99</td>\n",
       "      <td>...</td>\n",
       "      <td>COVID-19 virus no identificado</td>\n",
       "      <td>NaN</td>\n",
       "      <td>NaN</td>\n",
       "      <td>NaN</td>\n",
       "      <td>NaN</td>\n",
       "      <td>NaN</td>\n",
       "      <td>NaN</td>\n",
       "      <td>NaN</td>\n",
       "      <td>NaN</td>\n",
       "      <td>NaN</td>\n",
       "    </tr>\n",
       "    <tr>\n",
       "      <th>4</th>\n",
       "      <td>2020</td>\n",
       "      <td>2020-09-12</td>\n",
       "      <td>Hombre</td>\n",
       "      <td>1</td>\n",
       "      <td>89</td>\n",
       "      <td>13109</td>\n",
       "      <td>La Cisterna</td>\n",
       "      <td>Metropolitana de Santiago</td>\n",
       "      <td>U072</td>\n",
       "      <td>U00-U99</td>\n",
       "      <td>...</td>\n",
       "      <td>COVID-19 virus no identificado</td>\n",
       "      <td>NaN</td>\n",
       "      <td>NaN</td>\n",
       "      <td>NaN</td>\n",
       "      <td>NaN</td>\n",
       "      <td>NaN</td>\n",
       "      <td>NaN</td>\n",
       "      <td>NaN</td>\n",
       "      <td>NaN</td>\n",
       "      <td>NaN</td>\n",
       "    </tr>\n",
       "    <tr>\n",
       "      <th>...</th>\n",
       "      <td>...</td>\n",
       "      <td>...</td>\n",
       "      <td>...</td>\n",
       "      <td>...</td>\n",
       "      <td>...</td>\n",
       "      <td>...</td>\n",
       "      <td>...</td>\n",
       "      <td>...</td>\n",
       "      <td>...</td>\n",
       "      <td>...</td>\n",
       "      <td>...</td>\n",
       "      <td>...</td>\n",
       "      <td>...</td>\n",
       "      <td>...</td>\n",
       "      <td>...</td>\n",
       "      <td>...</td>\n",
       "      <td>...</td>\n",
       "      <td>...</td>\n",
       "      <td>...</td>\n",
       "      <td>...</td>\n",
       "      <td>...</td>\n",
       "    </tr>\n",
       "    <tr>\n",
       "      <th>542708</th>\n",
       "      <td>2016</td>\n",
       "      <td>2016-08-28</td>\n",
       "      <td>Mujer</td>\n",
       "      <td>1</td>\n",
       "      <td>74</td>\n",
       "      <td>10103</td>\n",
       "      <td>Cochamó</td>\n",
       "      <td>De Los Lagos</td>\n",
       "      <td>E119</td>\n",
       "      <td>E00-E90</td>\n",
       "      <td>...</td>\n",
       "      <td>DIABETES MELLITUS NO INSULINODEPENDIENTE SIN M...</td>\n",
       "      <td>NaN</td>\n",
       "      <td>NaN</td>\n",
       "      <td>NaN</td>\n",
       "      <td>NaN</td>\n",
       "      <td>NaN</td>\n",
       "      <td>NaN</td>\n",
       "      <td>NaN</td>\n",
       "      <td>NaN</td>\n",
       "      <td>NaN</td>\n",
       "    </tr>\n",
       "    <tr>\n",
       "      <th>542709</th>\n",
       "      <td>2016</td>\n",
       "      <td>2016-08-30</td>\n",
       "      <td>Mujer</td>\n",
       "      <td>1</td>\n",
       "      <td>86</td>\n",
       "      <td>10209</td>\n",
       "      <td>Quemchi</td>\n",
       "      <td>De Los Lagos</td>\n",
       "      <td>J449</td>\n",
       "      <td>J00-J99</td>\n",
       "      <td>...</td>\n",
       "      <td>ENFERMEDAD PULMÓNAR OBSTRUCTIVA CRONICA NO ESP...</td>\n",
       "      <td>NaN</td>\n",
       "      <td>NaN</td>\n",
       "      <td>NaN</td>\n",
       "      <td>NaN</td>\n",
       "      <td>NaN</td>\n",
       "      <td>NaN</td>\n",
       "      <td>NaN</td>\n",
       "      <td>NaN</td>\n",
       "      <td>NaN</td>\n",
       "    </tr>\n",
       "    <tr>\n",
       "      <th>542710</th>\n",
       "      <td>2016</td>\n",
       "      <td>2016-08-26</td>\n",
       "      <td>Hombre</td>\n",
       "      <td>1</td>\n",
       "      <td>84</td>\n",
       "      <td>10205</td>\n",
       "      <td>Dalcahue</td>\n",
       "      <td>De Los Lagos</td>\n",
       "      <td>C61X</td>\n",
       "      <td>C00-D48</td>\n",
       "      <td>...</td>\n",
       "      <td>TUMOR MALIGNO DE LA PRÓSTATA</td>\n",
       "      <td>NaN</td>\n",
       "      <td>NaN</td>\n",
       "      <td>NaN</td>\n",
       "      <td>NaN</td>\n",
       "      <td>NaN</td>\n",
       "      <td>NaN</td>\n",
       "      <td>NaN</td>\n",
       "      <td>NaN</td>\n",
       "      <td>NaN</td>\n",
       "    </tr>\n",
       "    <tr>\n",
       "      <th>542711</th>\n",
       "      <td>2016</td>\n",
       "      <td>2016-09-02</td>\n",
       "      <td>Mujer</td>\n",
       "      <td>1</td>\n",
       "      <td>90</td>\n",
       "      <td>10205</td>\n",
       "      <td>Dalcahue</td>\n",
       "      <td>De Los Lagos</td>\n",
       "      <td>J459</td>\n",
       "      <td>J00-J99</td>\n",
       "      <td>...</td>\n",
       "      <td>ASMA NO ESPECIFICADO</td>\n",
       "      <td>NaN</td>\n",
       "      <td>NaN</td>\n",
       "      <td>NaN</td>\n",
       "      <td>NaN</td>\n",
       "      <td>NaN</td>\n",
       "      <td>NaN</td>\n",
       "      <td>NaN</td>\n",
       "      <td>NaN</td>\n",
       "      <td>NaN</td>\n",
       "    </tr>\n",
       "    <tr>\n",
       "      <th>542712</th>\n",
       "      <td>2016</td>\n",
       "      <td>2016-08-26</td>\n",
       "      <td>Hombre</td>\n",
       "      <td>1</td>\n",
       "      <td>53</td>\n",
       "      <td>10201</td>\n",
       "      <td>Castro</td>\n",
       "      <td>De Los Lagos</td>\n",
       "      <td>S069</td>\n",
       "      <td>S00-T98</td>\n",
       "      <td>...</td>\n",
       "      <td>TRAUMATISMO INTRACRANEAL NO ESPECIFICADO</td>\n",
       "      <td>W179</td>\n",
       "      <td>V01-Y98</td>\n",
       "      <td>Causas externas de morbilidad y de mortalidad</td>\n",
       "      <td>W00-W19</td>\n",
       "      <td>Caídas</td>\n",
       "      <td>W17</td>\n",
       "      <td>Otras caídas de un nivel a otro</td>\n",
       "      <td>W179</td>\n",
       "      <td>OTRA CAÍDA DESDE UN NIVEL A OTRO OCURRIDA EN U...</td>\n",
       "    </tr>\n",
       "  </tbody>\n",
       "</table>\n",
       "<p>542713 rows × 26 columns</p>\n",
       "</div>"
      ],
      "text/plain": [
       "        2020  2020-11-10  Hombre  1  114  13114   Las Condes  \\\n",
       "0       2020  2020-07-21  Hombre  1   75   6115        Rengo   \n",
       "1       2020  2020-02-13  Hombre  1   92   5101   Valparaíso   \n",
       "2       2020  2020-01-31   Mujer  1   85  13130   San Miguel   \n",
       "3       2020  2020-10-13  Hombre  1   91   7101        Talca   \n",
       "4       2020  2020-09-12  Hombre  1   89  13109  La Cisterna   \n",
       "...      ...         ...     ... ..  ...    ...          ...   \n",
       "542708  2016  2016-08-28   Mujer  1   74  10103      Cochamó   \n",
       "542709  2016  2016-08-30   Mujer  1   86  10209      Quemchi   \n",
       "542710  2016  2016-08-26  Hombre  1   84  10205     Dalcahue   \n",
       "542711  2016  2016-09-02   Mujer  1   90  10205     Dalcahue   \n",
       "542712  2016  2016-08-26  Hombre  1   53  10201       Castro   \n",
       "\n",
       "          Metropolitana de Santiago  I259  I00-I99  ...  \\\n",
       "0       Del Libertador B. O'Higgins  I678  I00-I99  ...   \n",
       "1                     De Valparaíso  F03X  F00-F99  ...   \n",
       "2         Metropolitana de Santiago  J189  J00-J99  ...   \n",
       "3                         Del Maule  U072  U00-U99  ...   \n",
       "4         Metropolitana de Santiago  U072  U00-U99  ...   \n",
       "...                             ...   ...      ...  ...   \n",
       "542708                 De Los Lagos  E119  E00-E90  ...   \n",
       "542709                 De Los Lagos  J449  J00-J99  ...   \n",
       "542710                 De Los Lagos  C61X  C00-D48  ...   \n",
       "542711                 De Los Lagos  J459  J00-J99  ...   \n",
       "542712                 De Los Lagos  S069  S00-T98  ...   \n",
       "\n",
       "       ENFERMEDAD ISQUEMICA CRONICA DEL CORAZÓN NO ESPECIFICADA Unnamed: 17  \\\n",
       "0       OTRAS ENFERMEDADES CEREBROVASCULARES ESPECIFIC...                     \n",
       "1                                DEMENCIA NO ESPECIFICADA               NaN   \n",
       "2                                NEUMONIA NO ESPECIFICADA                     \n",
       "3                          COVID-19 virus no identificado               NaN   \n",
       "4                          COVID-19 virus no identificado               NaN   \n",
       "...                                                   ...               ...   \n",
       "542708  DIABETES MELLITUS NO INSULINODEPENDIENTE SIN M...               NaN   \n",
       "542709  ENFERMEDAD PULMÓNAR OBSTRUCTIVA CRONICA NO ESP...               NaN   \n",
       "542710                       TUMOR MALIGNO DE LA PRÓSTATA               NaN   \n",
       "542711                               ASMA NO ESPECIFICADO               NaN   \n",
       "542712           TRAUMATISMO INTRACRANEAL NO ESPECIFICADO              W179   \n",
       "\n",
       "       Unnamed: 18                                    Unnamed: 19 Unnamed: 20  \\\n",
       "0              NaN                                            NaN         NaN   \n",
       "1              NaN                                            NaN         NaN   \n",
       "2              NaN                                            NaN         NaN   \n",
       "3              NaN                                            NaN         NaN   \n",
       "4              NaN                                            NaN         NaN   \n",
       "...            ...                                            ...         ...   \n",
       "542708         NaN                                            NaN         NaN   \n",
       "542709         NaN                                            NaN         NaN   \n",
       "542710         NaN                                            NaN         NaN   \n",
       "542711         NaN                                            NaN         NaN   \n",
       "542712     V01-Y98  Causas externas de morbilidad y de mortalidad     W00-W19   \n",
       "\n",
       "       Unnamed: 21 Unnamed: 22                      Unnamed: 23 Unnamed: 24  \\\n",
       "0              NaN         NaN                              NaN         NaN   \n",
       "1              NaN         NaN                              NaN         NaN   \n",
       "2              NaN         NaN                              NaN         NaN   \n",
       "3              NaN         NaN                              NaN         NaN   \n",
       "4              NaN         NaN                              NaN         NaN   \n",
       "...            ...         ...                              ...         ...   \n",
       "542708         NaN         NaN                              NaN         NaN   \n",
       "542709         NaN         NaN                              NaN         NaN   \n",
       "542710         NaN         NaN                              NaN         NaN   \n",
       "542711         NaN         NaN                              NaN         NaN   \n",
       "542712      Caídas         W17  Otras caídas de un nivel a otro        W179   \n",
       "\n",
       "                                              Unnamed: 25  \n",
       "0                                                     NaN  \n",
       "1                                                     NaN  \n",
       "2                                                     NaN  \n",
       "3                                                     NaN  \n",
       "4                                                     NaN  \n",
       "...                                                   ...  \n",
       "542708                                                NaN  \n",
       "542709                                                NaN  \n",
       "542710                                                NaN  \n",
       "542711                                                NaN  \n",
       "542712  OTRA CAÍDA DESDE UN NIVEL A OTRO OCURRIDA EN U...  \n",
       "\n",
       "[542713 rows x 26 columns]"
      ]
     },
     "execution_count": 9,
     "metadata": {},
     "output_type": "execute_result"
    }
   ],
   "source": [
    "deis"
   ]
  },
  {
   "cell_type": "code",
   "execution_count": 10,
   "metadata": {},
   "outputs": [],
   "source": [
    "headers=headers['Nombre de la variable']"
   ]
  },
  {
   "cell_type": "code",
   "execution_count": 11,
   "metadata": {},
   "outputs": [],
   "source": [
    "#headers=headers[1:]\n",
    "deis.columns=headers"
   ]
  },
  {
   "cell_type": "code",
   "execution_count": 13,
   "metadata": {},
   "outputs": [],
   "source": [
    "deis['Metropolitana']=0\n",
    "deis.loc[deis['GLOSA_REG_RES']=='Metropolitana de Santiago','Metropolitana']=1\n",
    "deis['Metropolitana']=deis['Metropolitana'].replace({0:'Resto de Chile',1:'Región Metropolitana'})"
   ]
  },
  {
   "cell_type": "code",
   "execution_count": 19,
   "metadata": {},
   "outputs": [],
   "source": [
    "deis['FECHA_DEF']=pd.to_datetime(deis['FECHA_DEF'],format='%Y-%m-%d',errors='coerce')\n",
    "deis['FECHA_DEF']=deis['FECHA_DEF'].dt.to_pydatetime()"
   ]
  },
  {
   "cell_type": "code",
   "execution_count": 21,
   "metadata": {},
   "outputs": [],
   "source": [
    "deis['FECHA_STR']=deis['FECHA_DEF'].dt.strftime('%d-%m-%Y')"
   ]
  },
  {
   "cell_type": "code",
   "execution_count": 22,
   "metadata": {},
   "outputs": [],
   "source": [
    "deis['COVID']=deis['DIAG1'].replace({'U071':'Covid PCR+','U072':'Covid Sospechoso'})\n",
    "deis.loc[~deis['DIAG1'].isin(['U071','U072']),'COVID']=np.nan"
   ]
  },
  {
   "cell_type": "code",
   "execution_count": 23,
   "metadata": {},
   "outputs": [
    {
     "data": {
      "text/plain": [
       "Covid PCR+          15592\n",
       "Covid Sospechoso     5175\n",
       "Name: COVID, dtype: int64"
      ]
     },
     "execution_count": 23,
     "metadata": {},
     "output_type": "execute_result"
    }
   ],
   "source": [
    "deis['COVID'].value_counts()"
   ]
  },
  {
   "cell_type": "code",
   "execution_count": 24,
   "metadata": {},
   "outputs": [],
   "source": [
    "if not 'ANO_DEF' in deis.columns:\n",
    "    print('creando columna: ANO_DEF')\n",
    "    deis['ANO_DEF']=deis['FECHA_DEF'].dt.year"
   ]
  },
  {
   "cell_type": "code",
   "execution_count": 25,
   "metadata": {},
   "outputs": [
    {
     "name": "stdout",
     "output_type": "stream",
     "text": [
      "schema DEIS exists, will not be created\n"
     ]
    }
   ],
   "source": [
    "for k in ['DEIS']:\n",
    "    if not cnx.dialect.has_schema(cnx, k):\n",
    "        print('schema '+k+' does not exist, creating it')\n",
    "        cnx.execute(sqlalchemy.schema.CreateSchema(k))\n",
    "    else:\n",
    "        print('schema '+k+' exists, will not be created')"
   ]
  },
  {
   "cell_type": "code",
   "execution_count": 26,
   "metadata": {},
   "outputs": [],
   "source": [
    "edad_fecha=deis.loc[(deis['ANO_DEF']==2020) & (deis['COVID'].notnull())]\n",
    "edad_fecha=edad_fecha.groupby(['FECHA_DEF','EDAD_CANT'])['COVID'].count().reset_index()\n",
    "edad_fecha=edad_fecha.set_index('FECHA_DEF').groupby('EDAD_CANT').rolling('7d',min_periods=1)['COVID'].mean()\n",
    "edad_fecha=edad_fecha.reset_index()\n",
    "edad_fecha.to_sql('DEIS_EDAD_FECHA_ROLLING', schema='DEIS',con=cnx,if_exists='replace')"
   ]
  },
  {
   "cell_type": "code",
   "execution_count": 27,
   "metadata": {},
   "outputs": [
    {
     "name": "stdout",
     "output_type": "stream",
     "text": [
      "creating table DEIS_2020 ,schema: DEIS\n",
      "saving table/data/ETLcache/DEIS_2020_06122020_235946.csv in cache\n",
      "creating table DEIS_2019 ,schema: DEIS\n",
      "saving table/data/ETLcache/DEIS_2019_06122020_235946.csv in cache\n",
      "creating table DEIS_2018 ,schema: DEIS\n",
      "saving table/data/ETLcache/DEIS_2018_06122020_235946.csv in cache\n",
      "creating table DEIS_2017 ,schema: DEIS\n",
      "saving table/data/ETLcache/DEIS_2017_06122020_235946.csv in cache\n",
      "creating table DEIS_2016 ,schema: DEIS\n",
      "saving table/data/ETLcache/DEIS_2016_06122020_235946.csv in cache\n"
     ]
    }
   ],
   "source": [
    "schema='DEIS'\n",
    "for y in deis['ANO_DEF'].unique():\n",
    "    name='DEIS_'+str(y).split('.')[0]\n",
    "    df=deis[deis['ANO_DEF']==y]\n",
    "    print(\"creating table \"+name+' ,schema: '+schema)\n",
    "    df.to_sql(name, schema=schema,con=cnx,if_exists='replace')\n",
    "    print(\"saving table\"+path+name+timestamp+'.csv in cache')\n",
    "    df.to_csv(path+name+timestamp+'.csv',encoding='utf-8')"
   ]
  },
  {
   "cell_type": "code",
   "execution_count": 35,
   "metadata": {},
   "outputs": [
    {
     "data": {
      "text/plain": [
       "65280"
      ]
     },
     "execution_count": 35,
     "metadata": {},
     "output_type": "execute_result"
    }
   ],
   "source": [
    "os.system('jupyter nbconvert --output /home/jovyan/work/ETLdocs/' + 'ETL_covid-chile.html' + ' --to html ' + \n",
    "          '/home/jovyan/work/ETL/covid-chile.ipynb')"
   ]
  }
 ],
 "metadata": {
  "kernelspec": {
   "display_name": "Python 3",
   "language": "python",
   "name": "python3"
  },
  "language_info": {
   "codemirror_mode": {
    "name": "ipython",
    "version": 3
   },
   "file_extension": ".py",
   "mimetype": "text/x-python",
   "name": "python",
   "nbconvert_exporter": "python",
   "pygments_lexer": "ipython3",
   "version": "3.8.6"
  }
 },
 "nbformat": 4,
 "nbformat_minor": 4
}
