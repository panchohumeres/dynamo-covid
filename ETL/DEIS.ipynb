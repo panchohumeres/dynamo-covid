{
 "cells": [
  {
   "cell_type": "code",
   "execution_count": 1,
   "metadata": {},
   "outputs": [],
   "source": [
    "import requests\n",
    "import datetime\n",
    "from datetime import datetime as dt\n",
    "import patoolib\n",
    "import os\n",
    "import pandas as pd\n",
    "import sqlalchemy \n",
    "import psycopg2\n",
    "from sqlalchemy import create_engine\n",
    "import numpy as np\n",
    "from datetime import timedelta\n",
    "import os.path\n",
    "from datetime import datetime\n",
    "#from sqlalchemy.sql import text"
   ]
  },
  {
   "cell_type": "code",
   "execution_count": 2,
   "metadata": {},
   "outputs": [],
   "source": [
    "DBname=os.environ['DB_NAME']\n",
    "postgres_psswd=os.environ['POSTGRES_PASSWORD']\n",
    "postgres_user=os.environ['POSTGRES_USER']\n",
    "postgres_port=str(os.environ['POSTGRES_PORT'])"
   ]
  },
  {
   "cell_type": "code",
   "execution_count": 3,
   "metadata": {},
   "outputs": [],
   "source": [
    "# A long string that contains the necessary Postgres login information\n",
    "postgres_str = ('postgresql://'+postgres_user+':'+postgres_psswd+'@'+DBname+':'+postgres_port+'/superset')\n",
    "# Create the connection\n",
    "cnx = create_engine(postgres_str)"
   ]
  },
  {
   "cell_type": "code",
   "execution_count": 4,
   "metadata": {},
   "outputs": [
    {
     "name": "stdout",
     "output_type": "stream",
     "text": [
      "schema DEIS exists, will not be created\n"
     ]
    }
   ],
   "source": [
    "for k in ['DEIS']:\n",
    "    if not cnx.dialect.has_schema(cnx, k):\n",
    "        print('schema '+k+' does not exist, creating it')\n",
    "        cnx.execute(sqlalchemy.schema.CreateSchema(k))\n",
    "    else:\n",
    "        print('schema '+k+' exists, will not be created')"
   ]
  },
  {
   "cell_type": "code",
   "execution_count": 5,
   "metadata": {},
   "outputs": [
    {
     "name": "stdout",
     "output_type": "stream",
     "text": [
      "testing date:2021-02-04 03:27:03.845120\n",
      "url: http://deis.minsal.cl/wp-content/uploads/2021/02/DEFUNCIONES_FUENTE_DEIS_2016_2021_04022021.rar\n",
      "404\n",
      "failure, trying previous date\n",
      "testing date:2021-02-03 03:27:03.845120\n",
      "url: http://deis.minsal.cl/wp-content/uploads/2021/02/DEFUNCIONES_FUENTE_DEIS_2016_2021_03022021.rar\n",
      "404\n",
      "failure, trying previous date\n",
      "testing date:2021-02-02 03:27:03.845120\n",
      "url: http://deis.minsal.cl/wp-content/uploads/2021/02/DEFUNCIONES_FUENTE_DEIS_2016_2021_02022021.rar\n",
      "404\n",
      "failure, trying previous date\n",
      "testing date:2021-02-01 03:27:03.845120\n",
      "url: http://deis.minsal.cl/wp-content/uploads/2021/02/DEFUNCIONES_FUENTE_DEIS_2016_2021_01022021.rar\n",
      "404\n",
      "failure, trying previous date\n",
      "testing date:2021-01-31 03:27:03.845120\n",
      "url: http://deis.minsal.cl/wp-content/uploads/2021/01/DEFUNCIONES_FUENTE_DEIS_2016_2021_31012021.rar\n",
      "404\n",
      "failure, trying previous date\n",
      "testing date:2021-01-30 03:27:03.845120\n",
      "url: http://deis.minsal.cl/wp-content/uploads/2021/01/DEFUNCIONES_FUENTE_DEIS_2016_2021_30012021.rar\n",
      "404\n",
      "failure, trying previous date\n",
      "testing date:2021-01-29 03:27:03.845120\n",
      "url: http://deis.minsal.cl/wp-content/uploads/2021/01/DEFUNCIONES_FUENTE_DEIS_2016_2021_29012021.rar\n",
      "404\n",
      "failure, trying previous date\n",
      "testing date:2021-01-28 03:27:03.845120\n",
      "url: http://deis.minsal.cl/wp-content/uploads/2021/01/DEFUNCIONES_FUENTE_DEIS_2016_2021_28012021.rar\n",
      "Date exists on archive\n"
     ]
    }
   ],
   "source": [
    "now = dt.now()\n",
    "delta=0\n",
    "status=400\n",
    "while status!=200:\n",
    "    date=now- timedelta(days=delta)\n",
    "    print('testing date:'+str(date))\n",
    "    dia=date.strftime(\"%d\")\n",
    "    mes=date.strftime(\"%m\")\n",
    "    year=str(date.year)\n",
    "    url='http://deis.minsal.cl/wp-content/uploads/'+year+'/'+mes+'/DEFUNCIONES_FUENTE_DEIS_2016_'+year+'_'+dia+mes+year+'.rar'\n",
    "    print('url: '+url)\n",
    "    path='/data/ETLcache/'\n",
    "    file=url.split(mes+'/')[1]\n",
    "\n",
    "\n",
    "    if os.path.isfile(path+file):\n",
    "        print (\"Date exists on archive\")\n",
    "        flag=False\n",
    "        break\n",
    "    else:\n",
    "        req = requests.get(url)\n",
    "        status=req.status_code\n",
    "        print(status)\n",
    "        if status==200:\n",
    "            print('success')\n",
    "            print (\"Creating file \"+path+file)\n",
    "            open(path+file, 'wb').write(req.content)\n",
    "            flag=True\n",
    "        else:\n",
    "            print('failure, trying previous date')\n",
    "            delta+=1"
   ]
  },
  {
   "cell_type": "code",
   "execution_count": 6,
   "metadata": {},
   "outputs": [
    {
     "name": "stdout",
     "output_type": "stream",
     "text": [
      "/data/ETLcache/DEFUNCIONES_FUENTE_DEIS_2016_2021_28012021.rar already in archive, no unpacking\n"
     ]
    }
   ],
   "source": [
    "if not os.path.exists(path+file.rsplit('.rar')[0]):\n",
    "    print('unpacking RAR file')\n",
    "    os.mkdir(path+file.rsplit('.rar')[0])\n",
    "    patoolib.extract_archive(path+file, outdir=path+file.rsplit('.rar')[0])\n",
    "else:\n",
    "    print(path+file+' already in archive, no unpacking')"
   ]
  },
  {
   "cell_type": "code",
   "execution_count": 7,
   "metadata": {},
   "outputs": [],
   "source": [
    "current_year = dt.now().year"
   ]
  },
  {
   "cell_type": "code",
   "execution_count": 8,
   "metadata": {},
   "outputs": [],
   "source": [
    "DBlast_date=cnx.execute('SELECT max(\"FECHA_DEF\") FROM \"DEIS\".\"DEIS_'+str(current_year)+'\";')\n",
    "DBlast_date=DBlast_date.first()[0]"
   ]
  },
  {
   "cell_type": "code",
   "execution_count": 9,
   "metadata": {},
   "outputs": [
    {
     "data": {
      "text/plain": [
       "datetime.datetime(2021, 1, 27, 0, 0)"
      ]
     },
     "execution_count": 9,
     "metadata": {},
     "output_type": "execute_result"
    }
   ],
   "source": [
    "DBlast_date"
   ]
  },
  {
   "cell_type": "code",
   "execution_count": 10,
   "metadata": {},
   "outputs": [],
   "source": [
    "file_last_date=file.rsplit('.rar')[0].rsplit('_',1)[1]\n",
    "file_last_date=file_last_date[:2]+'-'+file_last_date[2:4]+'-'+file_last_date[4:]\n",
    "file_last_date=datetime.strptime(file_last_date, '%d-%m-%Y')"
   ]
  },
  {
   "cell_type": "code",
   "execution_count": 11,
   "metadata": {},
   "outputs": [
    {
     "data": {
      "text/plain": [
       "datetime.datetime(2021, 1, 28, 0, 0)"
      ]
     },
     "execution_count": 11,
     "metadata": {},
     "output_type": "execute_result"
    }
   ],
   "source": [
    "file_last_date"
   ]
  },
  {
   "cell_type": "code",
   "execution_count": 12,
   "metadata": {},
   "outputs": [],
   "source": [
    "db_flag=file_last_date>DBlast_date"
   ]
  },
  {
   "cell_type": "code",
   "execution_count": 13,
   "metadata": {},
   "outputs": [
    {
     "data": {
      "text/plain": [
       "True"
      ]
     },
     "execution_count": 13,
     "metadata": {},
     "output_type": "execute_result"
    }
   ],
   "source": [
    "db_flag"
   ]
  },
  {
   "cell_type": "code",
   "execution_count": 14,
   "metadata": {},
   "outputs": [],
   "source": [
    "def csvs_to_sql(deis,headers):\n",
    "    schema='DEIS'\n",
    "    headers=headers['Nombre de la variable']\n",
    "    #headers=headers[1:]\n",
    "    deis.columns=headers\n",
    "    deis['Metropolitana']=0\n",
    "    deis.loc[deis['GLOSA_REG_RES']=='Metropolitana de Santiago','Metropolitana']=1\n",
    "    deis['Metropolitana']=deis['Metropolitana'].replace({0:'Resto de Chile',1:'Región Metropolitana'})\n",
    "    deis['FECHA_DEF']=pd.to_datetime(deis['FECHA_DEF'],format='%Y-%m-%d',errors='coerce')\n",
    "    deis['FECHA_DEF']=deis['FECHA_DEF'].dt.to_pydatetime()\n",
    "    deis['FECHA_STR']=deis['FECHA_DEF'].dt.strftime('%d-%m-%Y')\n",
    "    deis['COVID']=deis['DIAG1'].replace({'U071':'Covid PCR+','U072':'Covid Sospechoso'})\n",
    "    deis.loc[~deis['DIAG1'].isin(['U071','U072']),'COVID']=np.nan\n",
    "\n",
    "    if not 'ANO_DEF' in deis.columns:\n",
    "        print('creando columna: ANO_DEF')\n",
    "        deis['ANO_DEF']=deis['FECHA_DEF'].dt.year\n",
    "        \n",
    "    for y in deis['ANO_DEF'].unique():\n",
    "        name='DEIS_'+str(y).split('.')[0]\n",
    "        df=deis[deis['ANO_DEF']==y]\n",
    "        if y==current_year:\n",
    "            print(\"creating table \"+name+' ,schema: '+schema)\n",
    "            df.to_sql(name, schema=schema,con=cnx,if_exists='replace')\n",
    "        else:\n",
    "            try:\n",
    "                print(\"creating table (not overwrite mode)\"+name+' ,schema: '+schema)\n",
    "                df.to_sql(name, schema=schema,con=cnx,if_exists='fail')\n",
    "            except:\n",
    "                print('table '+name+' ,schema: '+schema+' already exists')\n",
    "                \n",
    "            \n",
    "    deis_covid=deis[deis['COVID'].notnull()]\n",
    "    name='DEIS_COVID'\n",
    "    print(\"creating table \"+name+' ,schema: '+schema)\n",
    "    deis_covid.to_sql(name, schema=schema,con=cnx,if_exists='replace')\n",
    "    \n",
    "    edad_fecha=deis.loc[(deis['ANO_DEF']==2020) & (deis['COVID'].notnull())]\n",
    "    edad_fecha=edad_fecha.groupby(['FECHA_DEF','EDAD_CANT'])['COVID'].count().reset_index()\n",
    "    edad_fecha=edad_fecha.set_index('FECHA_DEF').groupby('EDAD_CANT').rolling('7d',min_periods=1)['COVID'].mean()\n",
    "    edad_fecha=edad_fecha.reset_index()\n",
    "    name='DEIS_EDAD_FECHA_ROLLING'\n",
    "    print(\"creating table \"+name+' ,schema: '+schema)\n",
    "    edad_fecha.to_sql(name, schema=schema,con=cnx,if_exists='replace')"
   ]
  },
  {
   "cell_type": "code",
   "execution_count": 15,
   "metadata": {},
   "outputs": [
    {
     "name": "stdout",
     "output_type": "stream",
     "text": [
      "Reading files\n"
     ]
    },
    {
     "name": "stderr",
     "output_type": "stream",
     "text": [
      "<ipython-input-15-134013f5df97>:7: FutureWarning: Your version of xlrd is 1.2.0. In xlrd >= 2.0, only the xls format is supported. As a result, the openpyxl engine will be used if it is installed and the engine argument is not specified. Install openpyxl instead.\n",
      "  headers=pd.read_excel(path+file.rsplit('.rar')[0]+'/'+f,header=3,index_col=1)\n"
     ]
    },
    {
     "name": "stdout",
     "output_type": "stream",
     "text": [
      "creating table DEIS_2021 ,schema: DEIS\n",
      "creating table (not overwrite mode)DEIS_2020 ,schema: DEIS\n",
      "table DEIS_2020 ,schema: DEIS already exists\n",
      "creating table (not overwrite mode)DEIS_2019 ,schema: DEIS\n",
      "table DEIS_2019 ,schema: DEIS already exists\n",
      "creating table (not overwrite mode)DEIS_2018 ,schema: DEIS\n",
      "table DEIS_2018 ,schema: DEIS already exists\n",
      "creating table (not overwrite mode)DEIS_2017 ,schema: DEIS\n",
      "table DEIS_2017 ,schema: DEIS already exists\n",
      "creating table (not overwrite mode)DEIS_2016 ,schema: DEIS\n",
      "table DEIS_2016 ,schema: DEIS already exists\n",
      "creating table DEIS_COVID ,schema: DEIS\n",
      "creating table DEIS_EDAD_FECHA_ROLLING ,schema: DEIS\n"
     ]
    }
   ],
   "source": [
    "if db_flag==True:\n",
    "    print('Reading files')\n",
    "    for f in os.listdir(path+file.rsplit('.rar')[0]):\n",
    "        if '.csv' in f:\n",
    "            deis=pd.read_csv(path+file.rsplit('.rar')[0]+'/'+f,sep=';',encoding='latin1',header=0)\n",
    "        if '.xlsx' in f:\n",
    "            headers=pd.read_excel(path+file.rsplit('.rar')[0]+'/'+f,header=3,index_col=1)\n",
    "    csvs_to_sql(deis,headers)\n",
    "else:\n",
    "    print('Files already loaded into DBASE, not reading')"
   ]
  },
  {
   "cell_type": "code",
   "execution_count": 16,
   "metadata": {},
   "outputs": [
    {
     "data": {
      "text/plain": [
       "0"
      ]
     },
     "execution_count": 16,
     "metadata": {},
     "output_type": "execute_result"
    }
   ],
   "source": [
    "os.system('jupyter nbconvert --output /home/jovyan/work/ETLdocs/' + 'ETL_DEIS.html' + ' --to html ' + \n",
    "          '/home/jovyan/work/ETL/DEIS.ipynb')"
   ]
  }
 ],
 "metadata": {
  "kernelspec": {
   "display_name": "Python 3",
   "language": "python",
   "name": "python3"
  },
  "language_info": {
   "codemirror_mode": {
    "name": "ipython",
    "version": 3
   },
   "file_extension": ".py",
   "mimetype": "text/x-python",
   "name": "python",
   "nbconvert_exporter": "python",
   "pygments_lexer": "ipython3",
   "version": "3.8.6"
  }
 },
 "nbformat": 4,
 "nbformat_minor": 4
}
