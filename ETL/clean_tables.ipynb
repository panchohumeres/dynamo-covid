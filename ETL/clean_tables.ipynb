{
 "cells": [
  {
   "cell_type": "code",
   "execution_count": 8,
   "metadata": {},
   "outputs": [],
   "source": [
    "import pandas as pd\n",
    "import sqlalchemy \n",
    "import psycopg2\n",
    "import os\n",
    "import numpy as np\n",
    "import requests\n",
    "import re\n",
    "import copy\n",
    "from pandas.api.types import is_numeric_dtype\n",
    "from sklearn.linear_model import LinearRegression\n",
    "from sqlalchemy import create_engine\n",
    "import datetime\n",
    "from datetime import datetime as dt\n",
    "import sys\n",
    "from sqlalchemy import MetaData\n",
    "from sqlalchemy import inspect\n",
    "from pandas.io import sql"
   ]
  },
  {
   "cell_type": "code",
   "execution_count": 9,
   "metadata": {},
   "outputs": [],
   "source": [
    "DBname=os.environ['DB_NAME']\n",
    "postgres_psswd=os.environ['POSTGRES_PASSWORD']\n",
    "postgres_user=os.environ['POSTGRES_USER']\n",
    "postgres_port=str(os.environ['POSTGRES_PORT'])"
   ]
  },
  {
   "cell_type": "code",
   "execution_count": 10,
   "metadata": {},
   "outputs": [],
   "source": [
    "# A long string that contains the necessary Postgres login information\n",
    "postgres_str = ('postgresql://'+postgres_user+':'+postgres_psswd+'@'+DBname+':'+postgres_port+'/superset')\n",
    "# Create the connection\n",
    "cnx = create_engine(postgres_str)"
   ]
  },
  {
   "cell_type": "code",
   "execution_count": 11,
   "metadata": {},
   "outputs": [],
   "source": [
    "\n",
    "metadata = MetaData(cnx,schema='producto53')"
   ]
  },
  {
   "cell_type": "code",
   "execution_count": 12,
   "metadata": {},
   "outputs": [],
   "source": [
    "inspector = inspect(cnx)\n",
    "tables={}\n",
    "schemas=['producto53']\n",
    "for schema in schemas:\n",
    "    #print(\"schema: %s\" % schema)\n",
    "    tables[schema]=[]\n",
    "    for table_name in inspector.get_table_names(schema=schema):\n",
    "        #print(\"table: %s\" % table_name)\n",
    "        #tables[schema][table_name]=list(inspector.get_columns(table_name, schema=schema)[0].keys())\n",
    "        tables[schema].append(table_name)"
   ]
  },
  {
   "cell_type": "code",
   "execution_count": 13,
   "metadata": {},
   "outputs": [
    {
     "name": "stdout",
     "output_type": "stream",
     "text": [
      "executing query: DROP TABLE producto53.producto53_confirmados_nacional \n",
      "executing query: DROP TABLE producto53.producto53_confirmados_provinciale \n",
      "executing query: DROP TABLE producto53.producto53_confirmados_regionale \n",
      "executing query: DROP TABLE producto53.producto53_confirmados_ \n"
     ]
    }
   ],
   "source": [
    "for schema in tables.keys():\n",
    "    for table in tables[schema]:\n",
    "        try:\n",
    "            query='DROP TABLE '+schema+'.'+table+' '\n",
    "            print('executing query: '+query)\n",
    "            cnx.execute( query, schema=schema)\n",
    "        except Exception as e: \n",
    "            print(str(e))\n",
    "            pass"
   ]
  },
  {
   "cell_type": "code",
   "execution_count": 14,
   "metadata": {},
   "outputs": [
    {
     "data": {
      "text/plain": [
       "{'producto53': []}"
      ]
     },
     "execution_count": 14,
     "metadata": {},
     "output_type": "execute_result"
    }
   ],
   "source": [
    "#revisar que se hayan borrado las tablas\n",
    "inspector = inspect(cnx)\n",
    "tables={}\n",
    "schemas=['producto53']\n",
    "for schema in schemas:\n",
    "    #print(\"schema: %s\" % schema)\n",
    "    tables[schema]=[]\n",
    "    for table_name in inspector.get_table_names(schema=schema):\n",
    "        #print(\"table: %s\" % table_name)\n",
    "        #tables[schema][table_name]=list(inspector.get_columns(table_name, schema=schema)[0].keys())\n",
    "        tables[schema].append(table_name)\n",
    "tables"
   ]
  },
  {
   "cell_type": "code",
   "execution_count": null,
   "metadata": {},
   "outputs": [],
   "source": []
  }
 ],
 "metadata": {
  "kernelspec": {
   "display_name": "Python 3",
   "language": "python",
   "name": "python3"
  },
  "language_info": {
   "codemirror_mode": {
    "name": "ipython",
    "version": 3
   },
   "file_extension": ".py",
   "mimetype": "text/x-python",
   "name": "python",
   "nbconvert_exporter": "python",
   "pygments_lexer": "ipython3",
   "version": "3.8.5"
  }
 },
 "nbformat": 4,
 "nbformat_minor": 4
}
