{
 "cells": [
  {
   "cell_type": "code",
   "execution_count": 1,
   "metadata": {},
   "outputs": [],
   "source": [
    "import pandas as pd\n",
    "import sqlalchemy \n",
    "import psycopg2\n",
    "import os\n",
    "import numpy as np\n",
    "import requests\n",
    "import re\n",
    "import copy\n",
    "from pandas.api.types import is_numeric_dtype\n",
    "from sklearn.linear_model import LinearRegression\n",
    "from sqlalchemy import create_engine\n",
    "import datetime\n",
    "from datetime import datetime as dt\n",
    "from sqlalchemy import inspect\n",
    "import sys\n",
    "import sqlalchemy.ext.declarative as sqld\n",
    "import roman"
   ]
  },
  {
   "cell_type": "code",
   "execution_count": 2,
   "metadata": {},
   "outputs": [],
   "source": [
    "sys.path.append('..')"
   ]
  },
  {
   "cell_type": "code",
   "execution_count": 3,
   "metadata": {},
   "outputs": [],
   "source": [
    "from modules.transforms import *"
   ]
  },
  {
   "cell_type": "code",
   "execution_count": 4,
   "metadata": {},
   "outputs": [],
   "source": [
    "DBname=os.environ['DB_NAME']\n",
    "postgres_psswd=os.environ['POSTGRES_PASSWORD']\n",
    "postgres_user=os.environ['POSTGRES_USER']\n",
    "postgres_port=str(os.environ['POSTGRES_PORT'])"
   ]
  },
  {
   "cell_type": "code",
   "execution_count": 5,
   "metadata": {},
   "outputs": [],
   "source": [
    "# A long string that contains the necessary Postgres login information\n",
    "postgres_str = ('postgresql://'+postgres_user+':'+postgres_psswd+'@'+DBname+':'+postgres_port+'/superset')\n",
    "# Create the connection\n",
    "cnx = create_engine(postgres_str)"
   ]
  },
  {
   "cell_type": "code",
   "execution_count": 6,
   "metadata": {},
   "outputs": [],
   "source": [
    "#guardar paso en csv\n",
    "path='/data/ETLcache/'\n",
    "now = dt.now()\n",
    "timestamp = now.strftime(\"_%d%m%Y_%H%M%S\")"
   ]
  },
  {
   "cell_type": "code",
   "execution_count": 7,
   "metadata": {},
   "outputs": [],
   "source": [
    "inspector = inspect(cnx)\n",
    "schemas = inspector.get_schema_names()"
   ]
  },
  {
   "cell_type": "code",
   "execution_count": 8,
   "metadata": {},
   "outputs": [],
   "source": [
    "tables={}\n",
    "for schema in schemas:\n",
    "    #print(\"schema: %s\" % schema)\n",
    "    tables[schema]=[]\n",
    "    for table_name in inspector.get_table_names(schema=schema):\n",
    "        #print(\"table: %s\" % table_name)\n",
    "        #tables[schema][table_name]=list(inspector.get_columns(table_name, schema=schema)[0].keys())\n",
    "        tables[schema].append(table_name)"
   ]
  },
  {
   "cell_type": "code",
   "execution_count": 9,
   "metadata": {},
   "outputs": [],
   "source": [
    "#productos que se están trabajando\n",
    "productos=pd.read_sql_table('min_ciencias_products', con=cnx,schema='tracking')['0'].to_list()"
   ]
  },
  {
   "cell_type": "code",
   "execution_count": 10,
   "metadata": {},
   "outputs": [
    {
     "data": {
      "text/plain": [
       "['producto5',\n",
       " 'producto3',\n",
       " 'producto13',\n",
       " 'producto25',\n",
       " 'producto14',\n",
       " 'producto19',\n",
       " 'producto53',\n",
       " 'producto54',\n",
       " 'producto52',\n",
       " 'producto48',\n",
       " 'producto24']"
      ]
     },
     "execution_count": 10,
     "metadata": {},
     "output_type": "execute_result"
    }
   ],
   "source": [
    "productos"
   ]
  },
  {
   "cell_type": "code",
   "execution_count": 11,
   "metadata": {},
   "outputs": [],
   "source": [
    "tbs={}\n",
    "for p in productos:\n",
    "    tbs[p]=tables[p]\n",
    "tables=tbs"
   ]
  },
  {
   "cell_type": "code",
   "execution_count": 12,
   "metadata": {},
   "outputs": [],
   "source": [
    "#información comunal\n",
    "INFO_COMUNAL=pd.read_sql_table('info_comunal@ivanMSC', con=cnx,schema='@ivanMSC') \n",
    "INFO_COMUNAL=INFO_COMUNAL.rename(columns={'Nombre':'Comuna'})\n",
    "INFO_COMUNAL['Codigo region']=INFO_COMUNAL['Codigo region'].astype(int)"
   ]
  },
  {
   "cell_type": "code",
   "execution_count": 13,
   "metadata": {},
   "outputs": [],
   "source": [
    "#códigos iso\n",
    "iso=pd.read_sql_table('iso', con=cnx,schema='geo') \n",
    "iso=iso.loc[iso['Country Name']=='Chile',('Country Code','Subdivision Name Used','Code','Number',\n",
    "                                      'Latitude','Longitude')]\n",
    "iso['Number']=iso['Number'].apply(lambda x: roman.fromRoman(x))\n",
    "iso=iso.rename(columns={'Number':'Codigo region','Subdivision Name Used':'Region'})\n",
    "#población regional\n",
    "popREG=pd.DataFrame(INFO_COMUNAL.groupby('Codigo region')['Poblacion'].sum().reset_index())\n",
    "#apendizar población regional a códigos ISO\n",
    "iso=iso.merge(popREG,on='Codigo region')\n",
    "iso=iso.drop('Region',axis=1)"
   ]
  },
  {
   "cell_type": "code",
   "execution_count": 14,
   "metadata": {},
   "outputs": [],
   "source": [
    "#defunciones deis comunal (confirmado y sospechoso)\n",
    "x=pd.read_sql_table('producto50_DefuncionesDEIS_confirmadosPorComuna_std', con=cnx,schema='producto50')\n",
    "x['Status']='Confirmado'\n",
    "y=pd.read_sql_table('producto50_DefuncionesDEIS_sospechososPorComuna_std', con=cnx,schema='producto50')\n",
    "y['Status']='Sospechoso'\n",
    "x=pd.concat([x,y])\n",
    "x=x.fillna(0)\n",
    "x=x[x['Comuna']!='Total']"
   ]
  },
  {
   "cell_type": "code",
   "execution_count": 15,
   "metadata": {},
   "outputs": [],
   "source": [
    "#agregar dummies a UCI\n",
    "uci=pd.read_sql_table('producto52_Camas_UCI_std', con=cnx,schema='producto52')\n",
    "dummies=pd.get_dummies(uci['Serie'])\n",
    "for d in dummies.columns:\n",
    "    dummies[d]=dummies[d]*uci['Casos']\n",
    "dummies['Camas UCI Desocupadas']=dummies['Camas UCI habilitadas']-dummies['Camas UCI ocupadas COVID-19']-dummies['Camas UCI ocupadas no COVID-19']\n",
    "uci=pd.concat([uci,dummies],axis=1)\n",
    "cols=[]\n",
    "for c in uci.columns:\n",
    "    cols.append(c.replace('(','').replace(')',''))\n",
    "uci=uci.drop('Camas base (2019)',axis=1)"
   ]
  },
  {
   "cell_type": "code",
   "execution_count": 16,
   "metadata": {},
   "outputs": [
    {
     "name": "stdout",
     "output_type": "stream",
     "text": [
      "reading table producto3_CasosTotalesCumulativofrom schema producto3\n",
      "generating diff table for cumulative table: producto3_CasosTotalesCumulativo\n",
      "new name: producto3_casostotales_diff_\n",
      "reading table producto3_CasosTotalesCumulativo_Tfrom schema producto3\n",
      "generating diff table for cumulative table: producto3_CasosTotalesCumulativo_T\n",
      "new name: producto3_casostotales_diff__t\n",
      "reading table producto3_CasosTotalesCumulativo_stdfrom schema producto3\n",
      "generating diff table for cumulative table: producto3_CasosTotalesCumulativo_std\n",
      "new name: producto3_casostotales_diff__std\n",
      "standard form with linear regression\n"
     ]
    },
    {
     "name": "stderr",
     "output_type": "stream",
     "text": [
      "/opt/conda/lib/python3.8/site-packages/pandas/core/arraylike.py:274: RuntimeWarning: invalid value encountered in log\n",
      "  result = getattr(ufunc, method)(*inputs, **kwargs)\n"
     ]
    },
    {
     "name": "stdout",
     "output_type": "stream",
     "text": [
      "reading table producto13_CasosNuevosCumulativofrom schema producto13\n",
      "generating diff table for cumulative table: producto13_CasosNuevosCumulativo\n",
      "new name: producto13_casosnuevos_diff_\n",
      "reading table producto13_CasosNuevosCumulativo_Tfrom schema producto13\n",
      "generating diff table for cumulative table: producto13_CasosNuevosCumulativo_T\n",
      "new name: producto13_casosnuevos_diff__t\n",
      "reading table producto13_CasosNuevosCumulativo_stdfrom schema producto13\n",
      "generating diff table for cumulative table: producto13_CasosNuevosCumulativo_std\n",
      "new name: producto13_casosnuevos_diff__std\n",
      "standard form with linear regression\n"
     ]
    },
    {
     "name": "stderr",
     "output_type": "stream",
     "text": [
      "/opt/conda/lib/python3.8/site-packages/pandas/core/arraylike.py:274: RuntimeWarning: invalid value encountered in log\n",
      "  result = getattr(ufunc, method)(*inputs, **kwargs)\n"
     ]
    },
    {
     "name": "stdout",
     "output_type": "stream",
     "text": [
      "reading table producto14_FallecidosCumulativofrom schema producto14\n",
      "generating diff table for cumulative table: producto14_FallecidosCumulativo\n",
      "new name: producto14_fallecidos_diff_\n",
      "reading table producto14_FallecidosCumulativo_Tfrom schema producto14\n",
      "generating diff table for cumulative table: producto14_FallecidosCumulativo_T\n",
      "new name: producto14_fallecidos_diff__t\n",
      "reading table producto14_FallecidosCumulativo_stdfrom schema producto14\n",
      "generating diff table for cumulative table: producto14_FallecidosCumulativo_std\n",
      "new name: producto14_fallecidos_diff__std\n",
      "standard form with linear regression\n"
     ]
    },
    {
     "name": "stderr",
     "output_type": "stream",
     "text": [
      "/opt/conda/lib/python3.8/site-packages/pandas/core/arraylike.py:274: RuntimeWarning: invalid value encountered in log\n",
      "  result = getattr(ufunc, method)(*inputs, **kwargs)\n"
     ]
    },
    {
     "name": "stdout",
     "output_type": "stream",
     "text": [
      "reading table producto19_CasosActivosPorComuna_std from schema producto19\n",
      "new name: producto19_CasosActivosPorComuna_std\n",
      "reading table producto53_confirmados_regionale_casos_activos from schema producto53\n",
      "adding descriptive stats to table: producto53_confirmados_regionale_casos_activos\n"
     ]
    },
    {
     "name": "stderr",
     "output_type": "stream",
     "text": [
      "../modules/transforms.py:61: SettingWithCopyWarning: \n",
      "A value is trying to be set on a copy of a slice from a DataFrame.\n",
      "Try using .loc[row_indexer,col_indexer] = value instead\n",
      "\n",
      "See the caveats in the documentation: https://pandas.pydata.org/pandas-docs/stable/user_guide/indexing.html#returning-a-view-versus-a-copy\n",
      "  nuevos['Promedio']=nuevos.mean(axis=1)\n",
      "../modules/transforms.py:62: SettingWithCopyWarning: \n",
      "A value is trying to be set on a copy of a slice from a DataFrame.\n",
      "Try using .loc[row_indexer,col_indexer] = value instead\n",
      "\n",
      "See the caveats in the documentation: https://pandas.pydata.org/pandas-docs/stable/user_guide/indexing.html#returning-a-view-versus-a-copy\n",
      "  nuevos['Min']=nuevos.min(axis=1)\n",
      "../modules/transforms.py:63: SettingWithCopyWarning: \n",
      "A value is trying to be set on a copy of a slice from a DataFrame.\n",
      "Try using .loc[row_indexer,col_indexer] = value instead\n",
      "\n",
      "See the caveats in the documentation: https://pandas.pydata.org/pandas-docs/stable/user_guide/indexing.html#returning-a-view-versus-a-copy\n",
      "  nuevos['Max']=nuevos.max(axis=1)\n"
     ]
    },
    {
     "name": "stdout",
     "output_type": "stream",
     "text": [
      "reading table producto53_confirmados_nacional from schema producto53\n",
      "adding descriptive stats to table: producto53_confirmados_nacional\n",
      "reading table producto53_confirmados_provinciale from schema producto53\n",
      "adding descriptive stats to table: producto53_confirmados_provinciale\n",
      "reading table producto53_confirmados_regionale from schema producto53\n",
      "adding descriptive stats to table: producto53_confirmados_regionale\n",
      "calculando casos activos con rolling avg de 14 días\n",
      "new name: producto53_confirmados_regionale_casos_activos\n",
      "reading table producto53_confirmados_ from schema producto53\n",
      "adding descriptive stats to table: producto53_confirmados_\n"
     ]
    }
   ],
   "source": [
    "derived_tables={}\n",
    "derived_tables['producto50']={}\n",
    "derived_tables['producto50']['producto50_DefuncionesDEIS_consolidadoPorComuna_std']=x\n",
    "derived_tables['producto52']={}\n",
    "derived_tables['producto52']['producto52_Camas_UCI_std']=uci\n",
    "for s in tables.keys():\n",
    "    for n in tables[s]:\n",
    "        #print(n)\n",
    "        if 'cumulativo' in n.lower():\n",
    "            print('reading table '+n+'from schema '+s)\n",
    "            table=pd.read_sql_table(n, con=cnx,schema=s) \n",
    "            print('generating diff table for cumulative table: '+n)\n",
    "            nn=n.lower().replace('cumulativo','_diff_')\n",
    "            if s not in derived_tables.keys():\n",
    "                derived_tables[s]={}\n",
    "            print('new name: '+nn)\n",
    "            if 'std' not in nn:\n",
    "                derived_tables[s][nn]=to_diff(table)\n",
    "            else:\n",
    "                print('standard form with linear regression')\n",
    "                derived_tables[s][nn]=to_diff_std(table)\n",
    "                derived_tables[s][nn]['Fecha']=derived_tables[s][nn]['Fecha'].dt.to_pydatetime()\n",
    "        \n",
    "        elif 'producto19_CasosActivosPorComuna_std' in n:\n",
    "            print('reading table '+n+' from schema '+s)\n",
    "            table=pd.read_sql_table(n, con=cnx,schema=s) \n",
    "            if s not in derived_tables.keys():\n",
    "                derived_tables[s]={}\n",
    "            nn=n\n",
    "            derived_tables[s][nn]=table\n",
    "            print('new name: '+nn)\n",
    "            derived_tables[s][nn]=derived_tables[s][nn].merge(INFO_COMUNAL[['Region','Comuna','Superficie','Lat','Lon','CUT','Provincia']],\n",
    "           on=['Region','Comuna'])\n",
    "            #derived_tables[s][nn]=derived_tables[s][nn].drop('level_0',axis=1)\n",
    "        \n",
    "        elif 'producto53' in n.lower():\n",
    "            print('reading table '+n+' from schema '+s)\n",
    "            table=pd.read_sql_table(n, con=cnx,schema=s) \n",
    "            if s not in derived_tables.keys():\n",
    "                derived_tables[s]={}\n",
    "                \n",
    "            print('adding descriptive stats to table: '+n)\n",
    "            derived_tables[s][n]=casos_nuevos_desc(table,numeric_col_string='confirmados',group_col='Region')\n",
    "            \n",
    "            nn=n.lower()+'_casos_activos'\n",
    "            #nn=n\n",
    "            \n",
    "            if ('producto53_confirmados_regionale' in n.lower()) & ('_casos_activos' not in n.lower()):\n",
    "                print('calculando casos activos con rolling avg de 14 días')\n",
    "                print('new name: '+nn)\n",
    "                derived_tables[s][n]=derived_tables[s][n].merge(iso,on='Codigo region',how='left')\n",
    "                derived_tables[s][nn]=casos_activos(table,numeric_col_string='confirmados',group_col='Region',window=14)\n",
    "                derived_tables[s][nn]=derived_tables[s][nn].merge(iso,on='Codigo region',how='left')\n",
    "                \n",
    "            #elif ('producto53_confirmados_nacional' in n.lower()) & ('_casos_activos' not in n.lower()):\n",
    "            #    print('calculando casos activos con rolling avg de 14 días')\n",
    "            #    print('new name: '+nn)\n",
    "            #    derived_tables[s][nn]=casos_activos(table,numeric_col_string='confirmados',group_col=None,window=14)\n",
    "            #elif ('confirmados_provinciale' in n.lower()) & ('_casos_activos' not in n.lower()):\n",
    "            #    print('calculando casos activos con rolling avg de 14 días')\n",
    "            #    print('new name: '+nn)\n",
    "            #    derived_tables[s][nn]=casos_activos(table,numeric_col_string='confirmados',group_col='Provincia',window=14)  \n",
    "            #elif ('producto53_confirmados_' in n.lower()) & ('_casos_activos' not in n.lower()):\n",
    "            #    print('calculando casos activos con rolling avg de 14 días')\n",
    "            #    print('new name: '+nn)\n",
    "            #    derived_tables[s][nn]=casos_activos(table,numeric_col_string='confirmados',group_col='servicio.salud',window=14)            "
   ]
  },
  {
   "cell_type": "code",
   "execution_count": 17,
   "metadata": {},
   "outputs": [],
   "source": [
    "#fix dtypes derived tables producto 14 ('región metropolitana' mezclada con valores numéricos)\n",
    "dates=[x for x in derived_tables['producto14']['producto14_fallecidos_diff_'].columns if x not in ['Region','Region_Metropolitana','index']]\n",
    "derived_tables['producto14']['producto14_fallecidos_diff_']=derived_tables['producto14']['producto14_fallecidos_diff_'][dates].apply(pd.to_numeric, errors='coerce')\n",
    "\n",
    "dates=[x for x in derived_tables['producto14']['producto14_fallecidos_diff__t'].columns if x not in ['Fecha','index']]\n",
    "derived_tables['producto14']['producto14_fallecidos_diff__t']=derived_tables['producto14']['producto14_fallecidos_diff__t'][dates].apply(pd.to_numeric, errors='coerce')"
   ]
  },
  {
   "cell_type": "code",
   "execution_count": 18,
   "metadata": {},
   "outputs": [],
   "source": [
    "dates=[x for x in derived_tables['producto3']['producto3_casostotales_diff_'].columns if x not in ['Fecha','index','Region_Metropolitana']]\n",
    "derived_tables['producto3']['producto3_casostotales_diff_']=derived_tables['producto3']['producto3_casostotales_diff_'][dates].apply(pd.to_numeric, errors='coerce')"
   ]
  },
  {
   "cell_type": "code",
   "execution_count": 19,
   "metadata": {},
   "outputs": [],
   "source": [
    "dates=[x for x in derived_tables['producto3']['producto3_casostotales_diff__t'].columns if x not in ['Fecha','index']]\n",
    "derived_tables['producto3']['producto3_casostotales_diff__t']=derived_tables['producto3']['producto3_casostotales_diff__t'][dates].apply(pd.to_numeric, errors='coerce')"
   ]
  },
  {
   "cell_type": "code",
   "execution_count": 20,
   "metadata": {},
   "outputs": [],
   "source": [
    "dates=[x for x in derived_tables['producto13']['producto13_casosnuevos_diff_'].columns if x not in ['Fecha','index','Region_Metropolitana']]\n",
    "derived_tables['producto13']['producto13_casosnuevos_diff_']=derived_tables['producto13']['producto13_casosnuevos_diff_'][dates].apply(pd.to_numeric, errors='coerce')"
   ]
  },
  {
   "cell_type": "code",
   "execution_count": 21,
   "metadata": {},
   "outputs": [],
   "source": [
    "dates=[x for x in derived_tables['producto13']['producto13_casosnuevos_diff__t'].columns if x not in ['Fecha','index']]\n",
    "derived_tables['producto13']['producto13_casosnuevos_diff__t']=derived_tables['producto13']['producto13_casosnuevos_diff__t'][dates].apply(pd.to_numeric, errors='coerce')"
   ]
  },
  {
   "cell_type": "code",
   "execution_count": 22,
   "metadata": {},
   "outputs": [
    {
     "name": "stdout",
     "output_type": "stream",
     "text": [
      "creating table producto50_DefuncionesDEIS_consolidadoPorComuna_std ,schema: producto50\n",
      "saving table/data/ETLcache/producto50_DefuncionesDEIS_consolidadoPorComuna_std_28012021_052023.csv in cache\n",
      "creating table producto52_Camas_UCI_std ,schema: producto52\n",
      "saving table/data/ETLcache/producto52_Camas_UCI_std_28012021_052023.csv in cache\n",
      "creating table producto3_casostotales_diff_ ,schema: producto3\n",
      "saving table/data/ETLcache/producto3_casostotales_diff__28012021_052023.csv in cache\n",
      "creating table producto3_casostotales_diff__t ,schema: producto3\n",
      "saving table/data/ETLcache/producto3_casostotales_diff__t_28012021_052023.csv in cache\n",
      "creating table producto3_casostotales_diff__std ,schema: producto3\n",
      "saving table/data/ETLcache/producto3_casostotales_diff__std_28012021_052023.csv in cache\n",
      "creating table producto13_casosnuevos_diff_ ,schema: producto13\n",
      "saving table/data/ETLcache/producto13_casosnuevos_diff__28012021_052023.csv in cache\n",
      "creating table producto13_casosnuevos_diff__t ,schema: producto13\n",
      "saving table/data/ETLcache/producto13_casosnuevos_diff__t_28012021_052023.csv in cache\n",
      "creating table producto13_casosnuevos_diff__std ,schema: producto13\n",
      "saving table/data/ETLcache/producto13_casosnuevos_diff__std_28012021_052023.csv in cache\n",
      "creating table producto14_fallecidos_diff_ ,schema: producto14\n",
      "saving table/data/ETLcache/producto14_fallecidos_diff__28012021_052023.csv in cache\n",
      "creating table producto14_fallecidos_diff__t ,schema: producto14\n",
      "saving table/data/ETLcache/producto14_fallecidos_diff__t_28012021_052023.csv in cache\n",
      "creating table producto14_fallecidos_diff__std ,schema: producto14\n",
      "saving table/data/ETLcache/producto14_fallecidos_diff__std_28012021_052023.csv in cache\n",
      "creating table producto19_CasosActivosPorComuna_std ,schema: producto19\n",
      "saving table/data/ETLcache/producto19_CasosActivosPorComuna_std_28012021_052023.csv in cache\n",
      "creating table producto53_confirmados_regionale_casos_activos ,schema: producto53\n",
      "saving table/data/ETLcache/producto53_confirmados_regionale_casos_activos_28012021_052023.csv in cache\n",
      "creating table producto53_confirmados_nacional ,schema: producto53\n",
      "saving table/data/ETLcache/producto53_confirmados_nacional_28012021_052023.csv in cache\n",
      "creating table producto53_confirmados_provinciale ,schema: producto53\n",
      "saving table/data/ETLcache/producto53_confirmados_provinciale_28012021_052023.csv in cache\n",
      "creating table producto53_confirmados_regionale ,schema: producto53\n",
      "saving table/data/ETLcache/producto53_confirmados_regionale_28012021_052023.csv in cache\n",
      "creating table producto53_confirmados_ ,schema: producto53\n",
      "saving table/data/ETLcache/producto53_confirmados__28012021_052023.csv in cache\n"
     ]
    }
   ],
   "source": [
    "for schema in derived_tables.keys():\n",
    "    for name in derived_tables[schema].keys():\n",
    "        try:\n",
    "            df=derived_tables[schema][name]\n",
    "            if 'level_0' in df.columns:\n",
    "                df=df.drop('level_0',axis=1)\n",
    "            name=name.replace('-','_')\n",
    "            print(\"creating table \"+name+' ,schema: '+schema)\n",
    "            df.to_sql(name, schema=schema,con=cnx,if_exists='replace')\n",
    "            print(\"saving table\"+path+name+timestamp+'.csv in cache')\n",
    "            df.to_csv(path+name+timestamp+'.csv',encoding='utf-8')\n",
    "        except Exception as e: \n",
    "            print(str(e))\n",
    "            pass"
   ]
  },
  {
   "cell_type": "code",
   "execution_count": 23,
   "metadata": {},
   "outputs": [
    {
     "data": {
      "text/plain": [
       "65280"
      ]
     },
     "execution_count": 23,
     "metadata": {},
     "output_type": "execute_result"
    }
   ],
   "source": [
    "os.system('jupyter nbconvert --output /home/jovyan/work/ETLdocs/' + 'ETL_covid-chile-derived.html' + ' --to html ' + \n",
    "          '/home/jovyan/work/ETL/covid-chile-derived@min-ciencias.ipynb')"
   ]
  }
 ],
 "metadata": {
  "kernelspec": {
   "display_name": "Python 3",
   "language": "python",
   "name": "python3"
  },
  "language_info": {
   "codemirror_mode": {
    "name": "ipython",
    "version": 3
   },
   "file_extension": ".py",
   "mimetype": "text/x-python",
   "name": "python",
   "nbconvert_exporter": "python",
   "pygments_lexer": "ipython3",
   "version": "3.8.6"
  }
 },
 "nbformat": 4,
 "nbformat_minor": 4
}
