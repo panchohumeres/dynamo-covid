{
 "cells": [
  {
   "cell_type": "code",
   "execution_count": 1,
   "metadata": {},
   "outputs": [],
   "source": [
    "import pandas as pd\n",
    "import sqlalchemy \n",
    "import psycopg2\n",
    "import os\n",
    "import numpy as np\n",
    "import requests\n",
    "import re\n",
    "import copy\n",
    "from pandas.api.types import is_numeric_dtype\n",
    "from sklearn.linear_model import LinearRegression\n",
    "from sqlalchemy import create_engine\n",
    "import datetime\n",
    "from datetime import datetime as dt\n",
    "import sys\n",
    "import dateparser"
   ]
  },
  {
   "cell_type": "code",
   "execution_count": 2,
   "metadata": {},
   "outputs": [],
   "source": [
    "sys.path.append('..')"
   ]
  },
  {
   "cell_type": "code",
   "execution_count": 3,
   "metadata": {},
   "outputs": [],
   "source": [
    "import modules.transforms"
   ]
  },
  {
   "cell_type": "code",
   "execution_count": 4,
   "metadata": {},
   "outputs": [],
   "source": [
    "from modules.transforms import *"
   ]
  },
  {
   "cell_type": "code",
   "execution_count": 5,
   "metadata": {},
   "outputs": [],
   "source": [
    "DBname=os.environ['DB_NAME']\n",
    "postgres_psswd=os.environ['POSTGRES_PASSWORD']\n",
    "postgres_user=os.environ['POSTGRES_USER']\n",
    "postgres_port=str(os.environ['POSTGRES_PORT'])"
   ]
  },
  {
   "cell_type": "code",
   "execution_count": 6,
   "metadata": {},
   "outputs": [],
   "source": [
    "# A long string that contains the necessary Postgres login information\n",
    "postgres_str = ('postgresql://'+postgres_user+':'+postgres_psswd+'@'+DBname+':'+postgres_port+'/superset')\n",
    "# Create the connection\n",
    "cnx = create_engine(postgres_str)"
   ]
  },
  {
   "cell_type": "code",
   "execution_count": 7,
   "metadata": {},
   "outputs": [],
   "source": [
    "#guardar paso en csv\n",
    "path='/data/ETLcache/'\n",
    "now = dt.now()\n",
    "timestamp = now.strftime(\"_%d%m%Y_%H%M%S\")"
   ]
  },
  {
   "cell_type": "code",
   "execution_count": 8,
   "metadata": {},
   "outputs": [
    {
     "name": "stdout",
     "output_type": "stream",
     "text": [
      "schema cuarentenas exists, will not be created\n"
     ]
    }
   ],
   "source": [
    "for k in ['cuarentenas']:\n",
    "    if not cnx.dialect.has_schema(cnx, k):\n",
    "        print('schema '+k+' does not exist, creating it')\n",
    "        cnx.execute(sqlalchemy.schema.CreateSchema(k))\n",
    "    else:\n",
    "        print('schema '+k+' exists, will not be created')"
   ]
  },
  {
   "cell_type": "code",
   "execution_count": 9,
   "metadata": {},
   "outputs": [],
   "source": [
    "#name='cordones'\n",
    "#schema='cuarentenas'\n",
    "#print(\"creating table \"+name+' ,schema: '+schema)\n",
    "#cordones.to_sql(name, schema=schema,con=cnx,if_exists='replace')\n",
    "#print(\"saving table\"+path+name+timestamp+'.csv in cache')\n",
    "#cordones.to_csv(path+name+timestamp+'.csv',encoding='utf-8')"
   ]
  },
  {
   "cell_type": "markdown",
   "metadata": {},
   "source": [
    "### Cuarentenas"
   ]
  },
  {
   "cell_type": "code",
   "execution_count": 10,
   "metadata": {},
   "outputs": [],
   "source": [
    "def reshape(df,cut_vars=['REG','CUT','COMUNA'],cut_var='CUT',non_date=['N°',\n",
    " 'COD REG',\n",
    " 'REG',\n",
    " 'ABR',\n",
    " 'COD PRO',\n",
    " 'PRO',\n",
    " 'CUT',\n",
    " 'COMUNA']):\n",
    "    cols=df.columns.to_list()\n",
    "    #print(cols)\n",
    "    cut=cols.index(cut_var)\n",
    "    cuts=df[cut_vars].drop_duplicates()\n",
    "    df=df.T.reset_index()\n",
    "    df.columns=df.iloc[cut]\n",
    "    locs=list(range(len(non_date)))\n",
    "    df=df.drop(locs).rename(columns={cut_var:'Fecha'})\n",
    "\n",
    "    df=df.melt(id_vars=['Fecha']).dropna()\n",
    "    idx=[x for x in df.columns if type(x)==int][0]\n",
    "    print(idx)\n",
    "    \n",
    "    df=df.rename(columns={idx:cut_var,'value':'COD_PASO'})\n",
    "    df=df.merge(cuts,on=cut_var,how='left')\n",
    "    \n",
    "    return df"
   ]
  },
  {
   "cell_type": "code",
   "execution_count": 11,
   "metadata": {},
   "outputs": [
    {
     "data": {
      "text/plain": [
       "123679"
      ]
     },
     "execution_count": 11,
     "metadata": {},
     "output_type": "execute_result"
    }
   ],
   "source": [
    "#cuarentenas\n",
    "url='https://docs.google.com/spreadsheets/d/1WieweYNSPdpmjUIyYcbKp1oaqwlnD61_/export?format=xlsx&gid=103561573'\n",
    "r = requests.get(url, allow_redirects=True)\n",
    "open(path+'cuarentenas.xlsx', 'wb').write(r.content)"
   ]
  },
  {
   "cell_type": "code",
   "execution_count": 12,
   "metadata": {},
   "outputs": [
    {
     "name": "stderr",
     "output_type": "stream",
     "text": [
      "<ipython-input-12-589cc3d77ed2>:1: FutureWarning: Your version of xlrd is 1.2.0. In xlrd >= 2.0, only the xls format is supported. As a result, the openpyxl engine will be used if it is installed and the engine argument is not specified. Install openpyxl instead.\n",
      "  cuarentenas=pd.read_excel(path+'cuarentenas.xlsx',index_col=None,nrows=348)\n"
     ]
    }
   ],
   "source": [
    "cuarentenas=pd.read_excel(path+'cuarentenas.xlsx',index_col=None,nrows=348)"
   ]
  },
  {
   "cell_type": "code",
   "execution_count": 13,
   "metadata": {},
   "outputs": [
    {
     "name": "stdout",
     "output_type": "stream",
     "text": [
      "6\n"
     ]
    }
   ],
   "source": [
    "cuarentenas=reshape(cuarentenas,cut_vars=['REG','CUT','COMUNA'])"
   ]
  },
  {
   "cell_type": "code",
   "execution_count": 14,
   "metadata": {},
   "outputs": [],
   "source": [
    "cuarentenas['COD_PASO']=cuarentenas['COD_PASO'].replace({0:np.nan,1:0})"
   ]
  },
  {
   "cell_type": "code",
   "execution_count": 15,
   "metadata": {},
   "outputs": [],
   "source": [
    "#name='cuarentenas'\n",
    "#schema='cuarentenas'\n",
    "#print(\"creating table \"+name+' ,schema: '+schema)\n",
    "#cuarentenas.to_sql(name, schema=schema,con=cnx,if_exists='replace')\n",
    "#print(\"saving table\"+path+name+timestamp+'.csv in cache')\n",
    "#cuarentenas.to_csv(path+name+timestamp+'.csv',encoding='utf-8')"
   ]
  },
  {
   "cell_type": "markdown",
   "metadata": {},
   "source": [
    "### Paso a Paso"
   ]
  },
  {
   "cell_type": "code",
   "execution_count": 16,
   "metadata": {},
   "outputs": [
    {
     "data": {
      "text/plain": [
       "47547"
      ]
     },
     "execution_count": 16,
     "metadata": {},
     "output_type": "execute_result"
    }
   ],
   "source": [
    "#PASO A PASO 2021\n",
    "url='https://docs.google.com/spreadsheets/d/1WieweYNSPdpmjUIyYcbKp1oaqwlnD61_/export?format=xlsx&gid=1282224748'\n",
    "r = requests.get(url, allow_redirects=True)\n",
    "open(path+'paso_a_paso_2021.xlsx', 'wb').write(r.content)"
   ]
  },
  {
   "cell_type": "code",
   "execution_count": 17,
   "metadata": {},
   "outputs": [
    {
     "name": "stderr",
     "output_type": "stream",
     "text": [
      "<ipython-input-17-8939608b1310>:1: FutureWarning: Your version of xlrd is 1.2.0. In xlrd >= 2.0, only the xls format is supported. As a result, the openpyxl engine will be used if it is installed and the engine argument is not specified. Install openpyxl instead.\n",
      "  paso2021=pd.read_excel(path+'paso_a_paso_2021.xlsx',index_col=None,nrows=348)\n"
     ]
    }
   ],
   "source": [
    "paso2021=pd.read_excel(path+'paso_a_paso_2021.xlsx',index_col=None,nrows=348)"
   ]
  },
  {
   "cell_type": "code",
   "execution_count": 18,
   "metadata": {},
   "outputs": [
    {
     "data": {
      "text/plain": [
       "142177"
      ]
     },
     "execution_count": 18,
     "metadata": {},
     "output_type": "execute_result"
    }
   ],
   "source": [
    "#PASO A PASO 2020\n",
    "url='https://docs.google.com/spreadsheets/d/1WieweYNSPdpmjUIyYcbKp1oaqwlnD61_/export?format=xlsx&gid=1670946549'\n",
    "r = requests.get(url, allow_redirects=True)\n",
    "open(path+'paso_a_paso_2020.xlsx', 'wb').write(r.content)"
   ]
  },
  {
   "cell_type": "code",
   "execution_count": 19,
   "metadata": {},
   "outputs": [
    {
     "name": "stderr",
     "output_type": "stream",
     "text": [
      "<ipython-input-19-f188ad4e4d56>:1: FutureWarning: Your version of xlrd is 1.2.0. In xlrd >= 2.0, only the xls format is supported. As a result, the openpyxl engine will be used if it is installed and the engine argument is not specified. Install openpyxl instead.\n",
      "  paso2020=pd.read_excel(path+'paso_a_paso_2020.xlsx',index_col=None,nrows=348)\n"
     ]
    }
   ],
   "source": [
    "paso2020=pd.read_excel(path+'paso_a_paso_2020.xlsx',index_col=None,nrows=348)"
   ]
  },
  {
   "cell_type": "code",
   "execution_count": 20,
   "metadata": {},
   "outputs": [
    {
     "name": "stdout",
     "output_type": "stream",
     "text": [
      "1\n",
      "1\n"
     ]
    }
   ],
   "source": [
    "pasopaso=pd.concat([reshape(paso2020),reshape(paso2021)])"
   ]
  },
  {
   "cell_type": "code",
   "execution_count": 21,
   "metadata": {},
   "outputs": [],
   "source": [
    "cuarentenas=pd.concat([pasopaso,cuarentenas]).dropna(subset=['COD_PASO'])"
   ]
  },
  {
   "cell_type": "code",
   "execution_count": 22,
   "metadata": {},
   "outputs": [
    {
     "name": "stderr",
     "output_type": "stream",
     "text": [
      "/opt/conda/lib/python3.8/site-packages/tzlocal/unix.py:158: UserWarning: Can not find any timezone configuration, defaulting to UTC.\n",
      "  warnings.warn('Can not find any timezone configuration, defaulting to UTC.')\n"
     ]
    }
   ],
   "source": [
    "cuarentenas['Fecha2']=cuarentenas['Fecha']\n",
    "cuarentenas['Fecha']=pd.to_datetime(cuarentenas['Fecha'],errors='coerce')\n",
    "fechas_mal=cuarentenas.loc[cuarentenas['Fecha'].isnull(),'Fecha2']\n",
    "fechas_mal=fechas_mal+'-2020'\n",
    "cuarentenas.loc[cuarentenas['Fecha'].isnull(),'Fecha']=fechas_mal.apply(lambda x: dateparser.parse(x))"
   ]
  },
  {
   "cell_type": "code",
   "execution_count": 23,
   "metadata": {},
   "outputs": [],
   "source": [
    "cuarentenas['CUT']=cuarentenas['CUT'].astype(str).str.strip()"
   ]
  },
  {
   "cell_type": "code",
   "execution_count": 24,
   "metadata": {},
   "outputs": [
    {
     "name": "stderr",
     "output_type": "stream",
     "text": [
      "/opt/conda/lib/python3.8/site-packages/sqlalchemy/dialects/postgresql/base.py:3198: SAWarning: Did not recognize type 'geometry' of column 'geometry'\n",
      "  util.warn(\n"
     ]
    }
   ],
   "source": [
    "comunas=pd.read_sql_table('comunas', schema='geo',con=cnx)\n",
    "comunas=comunas[['T_POB','COMUNA']].rename(columns={'COMUNA':'CUT'})\n",
    "comunas['CUT']=comunas['CUT'].astype(str).str.strip()"
   ]
  },
  {
   "cell_type": "code",
   "execution_count": 25,
   "metadata": {},
   "outputs": [],
   "source": [
    "cuarentenas=cuarentenas.merge(comunas,on='CUT',how='left')"
   ]
  },
  {
   "cell_type": "code",
   "execution_count": 26,
   "metadata": {},
   "outputs": [],
   "source": [
    "cuarentenas.to_sql('cuarentenas', schema='cuarentenas',con=cnx,if_exists='replace')"
   ]
  },
  {
   "cell_type": "code",
   "execution_count": 27,
   "metadata": {},
   "outputs": [
    {
     "data": {
      "text/plain": [
       "array(['Tarapacá', 'Antofagasta', 'Atacama', 'Coquimbo', 'Valparaíso',\n",
       "       \"Libertador General Bernardo O'Higgins\", 'Maule', 'Biobío',\n",
       "       'La Araucanía', 'Los Lagos',\n",
       "       'Aysén del General Carlos Ibáñez del Campo',\n",
       "       'Magallanes y de la Antártica Chilena',\n",
       "       'Metropolitana de Santiago', 'Los Ríos', 'Arica y Parinacota',\n",
       "       'Ñuble'], dtype=object)"
      ]
     },
     "execution_count": 27,
     "metadata": {},
     "output_type": "execute_result"
    }
   ],
   "source": [
    "cuarentenas['REG'].unique()"
   ]
  },
  {
   "cell_type": "code",
   "execution_count": 28,
   "metadata": {},
   "outputs": [
    {
     "data": {
      "text/html": [
       "<div>\n",
       "<style scoped>\n",
       "    .dataframe tbody tr th:only-of-type {\n",
       "        vertical-align: middle;\n",
       "    }\n",
       "\n",
       "    .dataframe tbody tr th {\n",
       "        vertical-align: top;\n",
       "    }\n",
       "\n",
       "    .dataframe thead th {\n",
       "        text-align: right;\n",
       "    }\n",
       "</style>\n",
       "<table border=\"1\" class=\"dataframe\">\n",
       "  <thead>\n",
       "    <tr style=\"text-align: right;\">\n",
       "      <th></th>\n",
       "      <th>Fecha</th>\n",
       "      <th>CUT</th>\n",
       "      <th>COD_PASO</th>\n",
       "      <th>REG</th>\n",
       "      <th>COMUNA</th>\n",
       "      <th>Fecha2</th>\n",
       "      <th>T_POB</th>\n",
       "    </tr>\n",
       "  </thead>\n",
       "  <tbody>\n",
       "    <tr>\n",
       "      <th>0</th>\n",
       "      <td>2020-07-24</td>\n",
       "      <td>1101</td>\n",
       "      <td>1</td>\n",
       "      <td>Tarapacá</td>\n",
       "      <td>Iquique</td>\n",
       "      <td>2020-07-24 00:00:00</td>\n",
       "      <td>191468.0</td>\n",
       "    </tr>\n",
       "    <tr>\n",
       "      <th>1</th>\n",
       "      <td>2020-07-25</td>\n",
       "      <td>1101</td>\n",
       "      <td>1</td>\n",
       "      <td>Tarapacá</td>\n",
       "      <td>Iquique</td>\n",
       "      <td>2020-07-25 00:00:00</td>\n",
       "      <td>191468.0</td>\n",
       "    </tr>\n",
       "    <tr>\n",
       "      <th>2</th>\n",
       "      <td>2020-07-26</td>\n",
       "      <td>1101</td>\n",
       "      <td>1</td>\n",
       "      <td>Tarapacá</td>\n",
       "      <td>Iquique</td>\n",
       "      <td>2020-07-26 00:00:00</td>\n",
       "      <td>191468.0</td>\n",
       "    </tr>\n",
       "    <tr>\n",
       "      <th>3</th>\n",
       "      <td>2020-07-27</td>\n",
       "      <td>1101</td>\n",
       "      <td>1</td>\n",
       "      <td>Tarapacá</td>\n",
       "      <td>Iquique</td>\n",
       "      <td>2020-07-27 00:00:00</td>\n",
       "      <td>191468.0</td>\n",
       "    </tr>\n",
       "    <tr>\n",
       "      <th>4</th>\n",
       "      <td>2020-07-28</td>\n",
       "      <td>1101</td>\n",
       "      <td>1</td>\n",
       "      <td>Tarapacá</td>\n",
       "      <td>Iquique</td>\n",
       "      <td>2020-07-28 00:00:00</td>\n",
       "      <td>191468.0</td>\n",
       "    </tr>\n",
       "    <tr>\n",
       "      <th>...</th>\n",
       "      <td>...</td>\n",
       "      <td>...</td>\n",
       "      <td>...</td>\n",
       "      <td>...</td>\n",
       "      <td>...</td>\n",
       "      <td>...</td>\n",
       "      <td>...</td>\n",
       "    </tr>\n",
       "    <tr>\n",
       "      <th>71279</th>\n",
       "      <td>2020-04-18</td>\n",
       "      <td>16103</td>\n",
       "      <td>0.0</td>\n",
       "      <td>Ñuble</td>\n",
       "      <td>Chillán Viejo</td>\n",
       "      <td>18-abr</td>\n",
       "      <td>30907.0</td>\n",
       "    </tr>\n",
       "    <tr>\n",
       "      <th>71280</th>\n",
       "      <td>2020-04-19</td>\n",
       "      <td>16103</td>\n",
       "      <td>0.0</td>\n",
       "      <td>Ñuble</td>\n",
       "      <td>Chillán Viejo</td>\n",
       "      <td>19-abr</td>\n",
       "      <td>30907.0</td>\n",
       "    </tr>\n",
       "    <tr>\n",
       "      <th>71281</th>\n",
       "      <td>2020-04-20</td>\n",
       "      <td>16103</td>\n",
       "      <td>0.0</td>\n",
       "      <td>Ñuble</td>\n",
       "      <td>Chillán Viejo</td>\n",
       "      <td>20-abr</td>\n",
       "      <td>30907.0</td>\n",
       "    </tr>\n",
       "    <tr>\n",
       "      <th>71282</th>\n",
       "      <td>2020-04-21</td>\n",
       "      <td>16103</td>\n",
       "      <td>0.0</td>\n",
       "      <td>Ñuble</td>\n",
       "      <td>Chillán Viejo</td>\n",
       "      <td>21-abr</td>\n",
       "      <td>30907.0</td>\n",
       "    </tr>\n",
       "    <tr>\n",
       "      <th>71283</th>\n",
       "      <td>2020-04-22</td>\n",
       "      <td>16103</td>\n",
       "      <td>0.0</td>\n",
       "      <td>Ñuble</td>\n",
       "      <td>Chillán Viejo</td>\n",
       "      <td>22-abr</td>\n",
       "      <td>30907.0</td>\n",
       "    </tr>\n",
       "  </tbody>\n",
       "</table>\n",
       "<p>71284 rows × 7 columns</p>\n",
       "</div>"
      ],
      "text/plain": [
       "           Fecha    CUT COD_PASO       REG         COMUNA  \\\n",
       "0     2020-07-24   1101        1  Tarapacá        Iquique   \n",
       "1     2020-07-25   1101        1  Tarapacá        Iquique   \n",
       "2     2020-07-26   1101        1  Tarapacá        Iquique   \n",
       "3     2020-07-27   1101        1  Tarapacá        Iquique   \n",
       "4     2020-07-28   1101        1  Tarapacá        Iquique   \n",
       "...          ...    ...      ...       ...            ...   \n",
       "71279 2020-04-18  16103      0.0     Ñuble  Chillán Viejo   \n",
       "71280 2020-04-19  16103      0.0     Ñuble  Chillán Viejo   \n",
       "71281 2020-04-20  16103      0.0     Ñuble  Chillán Viejo   \n",
       "71282 2020-04-21  16103      0.0     Ñuble  Chillán Viejo   \n",
       "71283 2020-04-22  16103      0.0     Ñuble  Chillán Viejo   \n",
       "\n",
       "                    Fecha2     T_POB  \n",
       "0      2020-07-24 00:00:00  191468.0  \n",
       "1      2020-07-25 00:00:00  191468.0  \n",
       "2      2020-07-26 00:00:00  191468.0  \n",
       "3      2020-07-27 00:00:00  191468.0  \n",
       "4      2020-07-28 00:00:00  191468.0  \n",
       "...                    ...       ...  \n",
       "71279               18-abr   30907.0  \n",
       "71280               19-abr   30907.0  \n",
       "71281               20-abr   30907.0  \n",
       "71282               21-abr   30907.0  \n",
       "71283               22-abr   30907.0  \n",
       "\n",
       "[71284 rows x 7 columns]"
      ]
     },
     "execution_count": 28,
     "metadata": {},
     "output_type": "execute_result"
    }
   ],
   "source": [
    "cuarentenas"
   ]
  },
  {
   "cell_type": "code",
   "execution_count": 30,
   "metadata": {},
   "outputs": [
    {
     "data": {
      "text/plain": [
       "0"
      ]
     },
     "execution_count": 30,
     "metadata": {},
     "output_type": "execute_result"
    }
   ],
   "source": [
    "os.system('jupyter nbconvert --output /home/jovyan/work/ETLdocs/' + 'ETL_cuarentenas.html' + ' --to html ' + \n",
    "          '/home/jovyan/work/ETL/Cuarentenas.ipynb')"
   ]
  }
 ],
 "metadata": {
  "kernelspec": {
   "display_name": "Python 3",
   "language": "python",
   "name": "python3"
  },
  "language_info": {
   "codemirror_mode": {
    "name": "ipython",
    "version": 3
   },
   "file_extension": ".py",
   "mimetype": "text/x-python",
   "name": "python",
   "nbconvert_exporter": "python",
   "pygments_lexer": "ipython3",
   "version": "3.8.6"
  }
 },
 "nbformat": 4,
 "nbformat_minor": 4
}
