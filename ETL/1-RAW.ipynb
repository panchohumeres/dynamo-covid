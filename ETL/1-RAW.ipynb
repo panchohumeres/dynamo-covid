{
 "cells": [
  {
   "cell_type": "code",
   "execution_count": 1,
   "metadata": {},
   "outputs": [],
   "source": [
    "import pandas as pd\n",
    "import sqlalchemy \n",
    "import psycopg2\n",
    "import os\n",
    "import numpy as np\n",
    "import requests\n",
    "import re\n",
    "import copy\n",
    "from pandas.api.types import is_numeric_dtype\n",
    "from sklearn.linear_model import LinearRegression\n",
    "from sqlalchemy import create_engine\n",
    "import datetime\n",
    "from datetime import datetime as dt\n",
    "import sys\n",
    "import importlib"
   ]
  },
  {
   "cell_type": "code",
   "execution_count": 2,
   "metadata": {},
   "outputs": [],
   "source": [
    "sys.path.append('..')"
   ]
  },
  {
   "cell_type": "code",
   "execution_count": 3,
   "metadata": {},
   "outputs": [],
   "source": [
    "import modules.transforms"
   ]
  },
  {
   "cell_type": "code",
   "execution_count": 4,
   "metadata": {},
   "outputs": [
    {
     "data": {
      "text/plain": [
       "<module 'modules.transforms' from '/home/jovyan/work/ETL/../modules/transforms.py'>"
      ]
     },
     "execution_count": 4,
     "metadata": {},
     "output_type": "execute_result"
    }
   ],
   "source": [
    "importlib.reload(modules.transforms)"
   ]
  },
  {
   "cell_type": "code",
   "execution_count": 5,
   "metadata": {},
   "outputs": [],
   "source": [
    "from modules.transforms import *"
   ]
  },
  {
   "cell_type": "code",
   "execution_count": 6,
   "metadata": {},
   "outputs": [],
   "source": [
    "#guardar paso en csv\n",
    "path='/data/ETLcache/RAW'\n",
    "now = dt.now()\n",
    "timestamp = now.strftime(\"_%d%m%Y_%H%M%S\")"
   ]
  },
  {
   "cell_type": "code",
   "execution_count": 7,
   "metadata": {},
   "outputs": [],
   "source": [
    "#OBTENER RUTAS DE CARPETAS DISPONIBLES EN REPO COVID DE MINISTERIO DE CIENCIAS DE CHILE\n",
    "url=\"https://github.com/MinCiencia/Datos-COVID19/tree/master/output/\"\n",
    "request=requests.get(url)\n",
    "root=url.split('github.com')[1]\n",
    "prefix=url.split('/Min')[0]\n",
    "folders=request.text.split(root)\n",
    "\n",
    "#product folders\n",
    "for idx in range(len(folders)):\n",
    "    f=folders[idx]\n",
    "    f=f.split('\">')[0]\n",
    "    folders[idx]=f\n",
    "folders=[prefix+root+f for f in folders if 'producto' in f]"
   ]
  },
  {
   "cell_type": "code",
   "execution_count": 8,
   "metadata": {},
   "outputs": [],
   "source": [
    "#DEFINIR LISTADO DE PRODUCTOS QUE SE VAN A CONSULTAR DE REPO DE MINISTERIO DE CIENCIAS\n",
    "\n",
    "productos=['producto5',\n",
    "           #'producto3',\n",
    "           #'producto10',\n",
    "           #'producto13',\n",
    "           #'producto25',\n",
    "           'producto14',\n",
    "           'producto19',\n",
    "           'producto37',\n",
    "           'producto53',\n",
    "           'producto54',\n",
    "           'producto52',\n",
    "           'producto50',\n",
    "           'producto48',\n",
    "           'producto24'\n",
    "    \n",
    "]"
   ]
  },
  {
   "cell_type": "code",
   "execution_count": 9,
   "metadata": {},
   "outputs": [],
   "source": [
    "#LISTADO DE CARPETAS (RUTAS) FILTRADO, SEGÚN PRODUCTOS A CONSULTAR\n",
    "fs=[]\n",
    "for p in productos:\n",
    "    fs.extend([ x for x in folders if p==x.rsplit('/',1)[1]])"
   ]
  },
  {
   "cell_type": "code",
   "execution_count": 13,
   "metadata": {},
   "outputs": [
    {
     "name": "stdout",
     "output_type": "stream",
     "text": [
      "reading file: https://raw.githubusercontent.com/MinCiencia/Datos-COVID19/master/output/producto5/TotalesNacionales.csv\n",
      "saving raw table/data/ETLcache/RAW/producto5/producto5_TotalesNacionale_17022022_205942.csvin cache\n",
      "reading file: https://raw.githubusercontent.com/MinCiencia/Datos-COVID19/master/output/producto5/TotalesNacionales_T.csv\n",
      "saving raw table/data/ETLcache/RAW/producto5/producto5_TotalesNacionales_T_17022022_205942.csvin cache\n",
      "reading file: https://raw.githubusercontent.com/MinCiencia/Datos-COVID19/master/output/producto5/TotalesNacionales_std.csv\n",
      "saving raw table/data/ETLcache/RAW/producto5/producto5_TotalesNacionales_std_17022022_205942.csvin cache\n",
      "reading file: https://raw.githubusercontent.com/MinCiencia/Datos-COVID19/master/output/producto14/FallecidosCumulativo.csv\n",
      "saving raw table/data/ETLcache/RAW/producto14/producto14_FallecidosCumulativo_17022022_205942.csvin cache\n",
      "reading file: https://raw.githubusercontent.com/MinCiencia/Datos-COVID19/master/output/producto14/FallecidosCumulativo_T.csv\n",
      "saving raw table/data/ETLcache/RAW/producto14/producto14_FallecidosCumulativo_T_17022022_205942.csvin cache\n",
      "reading file: https://raw.githubusercontent.com/MinCiencia/Datos-COVID19/master/output/producto14/FallecidosCumulativo_std.csv\n",
      "saving raw table/data/ETLcache/RAW/producto14/producto14_FallecidosCumulativo_std_17022022_205942.csvin cache\n",
      "reading file: https://raw.githubusercontent.com/MinCiencia/Datos-COVID19/master/output/producto19/CasosActivosPorComuna.csv\n",
      "saving raw table/data/ETLcache/RAW/producto19/producto19_CasosActivosPorComuna_17022022_205942.csvin cache\n",
      "reading file: https://raw.githubusercontent.com/MinCiencia/Datos-COVID19/master/output/producto19/CasosActivosPorComuna_T.csv\n",
      "saving raw table/data/ETLcache/RAW/producto19/producto19_CasosActivosPorComuna_T_17022022_205942.csvin cache\n",
      "reading file: https://raw.githubusercontent.com/MinCiencia/Datos-COVID19/master/output/producto19/CasosActivosPorComuna_std.csv\n",
      "saving raw table/data/ETLcache/RAW/producto19/producto19_CasosActivosPorComuna_std_17022022_205942.csvin cache\n",
      "reading file: https://raw.githubusercontent.com/MinCiencia/Datos-COVID19/master/output/producto37/Defunciones.csv\n",
      "saving raw table/data/ETLcache/RAW/producto37/producto37_Defuncione_17022022_205942.csvin cache\n",
      "reading file: https://raw.githubusercontent.com/MinCiencia/Datos-COVID19/master/output/producto37/Defunciones_T.csv\n",
      "saving raw table/data/ETLcache/RAW/producto37/producto37_Defunciones_T_17022022_205942.csvin cache\n",
      "reading file: https://raw.githubusercontent.com/MinCiencia/Datos-COVID19/master/output/producto37/Defunciones_deis.csv\n",
      "saving raw table/data/ETLcache/RAW/producto37/producto37_Defunciones_dei_17022022_205942.csvin cache\n",
      "reading file: https://raw.githubusercontent.com/MinCiencia/Datos-COVID19/master/output/producto37/Defunciones_deis_T.csv\n",
      "saving raw table/data/ETLcache/RAW/producto37/producto37_Defunciones_deis_T_17022022_205942.csvin cache\n",
      "reading file: https://raw.githubusercontent.com/MinCiencia/Datos-COVID19/master/output/producto37/Defunciones_deis_std.csv\n",
      "saving raw table/data/ETLcache/RAW/producto37/producto37_Defunciones_deis_std_17022022_205942.csvin cache\n",
      "reading file: https://raw.githubusercontent.com/MinCiencia/Datos-COVID19/master/output/producto37/Defunciones_std.csv\n",
      "saving raw table/data/ETLcache/RAW/producto37/producto37_Defunciones_std_17022022_205942.csvin cache\n",
      "reading file: https://raw.githubusercontent.com/MinCiencia/Datos-COVID19/master/output/producto53/confirmados_nacional.csv\n",
      "saving raw table/data/ETLcache/RAW/producto53/producto53_confirmados_nacional_17022022_205942.csvin cache\n",
      "reading file: https://raw.githubusercontent.com/MinCiencia/Datos-COVID19/master/output/producto53/confirmados_provinciales.csv\n",
      "saving raw table/data/ETLcache/RAW/producto53/producto53_confirmados_provinciale_17022022_205942.csvin cache\n",
      "reading file: https://raw.githubusercontent.com/MinCiencia/Datos-COVID19/master/output/producto53/confirmados_regionales.csv\n",
      "saving raw table/data/ETLcache/RAW/producto53/producto53_confirmados_regionale_17022022_205942.csvin cache\n",
      "reading file: https://raw.githubusercontent.com/MinCiencia/Datos-COVID19/master/output/producto53/confirmados_ss.csv\n",
      "saving raw table/data/ETLcache/RAW/producto53/producto53_confirmados__17022022_205942.csvin cache\n",
      "reading file: https://raw.githubusercontent.com/MinCiencia/Datos-COVID19/master/output/producto54/r.nacional.csv\n",
      "saving raw table/data/ETLcache/RAW/producto54/producto54_r.nacional_17022022_205942.csvin cache\n",
      "reading file: https://raw.githubusercontent.com/MinCiencia/Datos-COVID19/master/output/producto54/r.nacional_n.csv\n",
      "saving raw table/data/ETLcache/RAW/producto54/producto54_r.nacional_n_17022022_205942.csvin cache\n",
      "reading file: https://raw.githubusercontent.com/MinCiencia/Datos-COVID19/master/output/producto54/r.provincial.csv\n",
      "saving raw table/data/ETLcache/RAW/producto54/producto54_r.provincial_17022022_205942.csvin cache\n",
      "reading file: https://raw.githubusercontent.com/MinCiencia/Datos-COVID19/master/output/producto54/r.provincial_copy.csv\n",
      "saving raw table/data/ETLcache/RAW/producto54/producto54_r.provincial_copy_17022022_205942.csvin cache\n",
      "reading file: https://raw.githubusercontent.com/MinCiencia/Datos-COVID19/master/output/producto54/r.provincial_n.csv\n",
      "saving raw table/data/ETLcache/RAW/producto54/producto54_r.provincial_n_17022022_205942.csvin cache\n",
      "reading file: https://raw.githubusercontent.com/MinCiencia/Datos-COVID19/master/output/producto54/r.regional.csv\n",
      "saving raw table/data/ETLcache/RAW/producto54/producto54_r.regional_17022022_205942.csvin cache\n",
      "reading file: https://raw.githubusercontent.com/MinCiencia/Datos-COVID19/master/output/producto54/r.regional_n.csv\n",
      "saving raw table/data/ETLcache/RAW/producto54/producto54_r.regional_n_17022022_205942.csvin cache\n",
      "reading file: https://raw.githubusercontent.com/MinCiencia/Datos-COVID19/master/output/producto54/r.ss.csv\n",
      "saving raw table/data/ETLcache/RAW/producto54/producto54_r_17022022_205942.csvin cache\n",
      "reading file: https://raw.githubusercontent.com/MinCiencia/Datos-COVID19/master/output/producto54/r.ss_n.csv\n",
      "saving raw table/data/ETLcache/RAW/producto54/producto54_r.ss_n_17022022_205942.csvin cache\n",
      "reading file: https://raw.githubusercontent.com/MinCiencia/Datos-COVID19/master/output/producto52/Camas_UCI.csv\n",
      "saving raw table/data/ETLcache/RAW/producto52/producto52_Camas_UCI_17022022_205942.csvin cache\n",
      "reading file: https://raw.githubusercontent.com/MinCiencia/Datos-COVID19/master/output/producto52/Camas_UCI_std.csv\n",
      "saving raw table/data/ETLcache/RAW/producto52/producto52_Camas_UCI_std_17022022_205942.csvin cache\n",
      "reading file: https://raw.githubusercontent.com/MinCiencia/Datos-COVID19/master/output/producto52/Camas_UCI_t.csv\n",
      "saving raw table/data/ETLcache/RAW/producto52/producto52_Camas_UCI_t_17022022_205942.csvin cache\n",
      "reading file: https://raw.githubusercontent.com/MinCiencia/Datos-COVID19/master/output/producto50/DefuncionesDEISPorComuna.csv\n",
      "saving raw table/data/ETLcache/RAW/producto50/producto50_DefuncionesDEISPorComuna_17022022_205942.csvin cache\n",
      "reading file: https://raw.githubusercontent.com/MinCiencia/Datos-COVID19/master/output/producto50/DefuncionesDEISPorComuna_T.csv\n",
      "saving raw table/data/ETLcache/RAW/producto50/producto50_DefuncionesDEISPorComuna_T_17022022_205942.csvin cache\n",
      "reading file: https://raw.githubusercontent.com/MinCiencia/Datos-COVID19/master/output/producto50/DefuncionesDEISPorComuna_std.csv\n",
      "saving raw table/data/ETLcache/RAW/producto50/producto50_DefuncionesDEISPorComuna_std_17022022_205942.csvin cache\n",
      "reading file: https://raw.githubusercontent.com/MinCiencia/Datos-COVID19/master/output/producto50/DefuncionesDEIS_confirmadosPorComuna.csv\n",
      "saving raw table/data/ETLcache/RAW/producto50/producto50_DefuncionesDEIS_confirmadosPorComuna_17022022_205942.csvin cache\n",
      "reading file: https://raw.githubusercontent.com/MinCiencia/Datos-COVID19/master/output/producto50/DefuncionesDEIS_confirmadosPorComuna_T.csv\n",
      "saving raw table/data/ETLcache/RAW/producto50/producto50_DefuncionesDEIS_confirmadosPorComuna_T_17022022_205942.csvin cache\n",
      "reading file: https://raw.githubusercontent.com/MinCiencia/Datos-COVID19/master/output/producto50/DefuncionesDEIS_confirmadosPorComuna_std.csv\n"
     ]
    },
    {
     "name": "stdout",
     "output_type": "stream",
     "text": [
      "saving raw table/data/ETLcache/RAW/producto50/producto50_DefuncionesDEIS_confirmadosPorComuna_std_17022022_205942.csvin cache\n",
      "reading file: https://raw.githubusercontent.com/MinCiencia/Datos-COVID19/master/output/producto50/DefuncionesDEIS_sospechososPorComuna.csv\n",
      "saving raw table/data/ETLcache/RAW/producto50/producto50_DefuncionesDEIS_sospechososPorComuna_17022022_205942.csvin cache\n",
      "reading file: https://raw.githubusercontent.com/MinCiencia/Datos-COVID19/master/output/producto50/DefuncionesDEIS_sospechososPorComuna_T.csv\n",
      "saving raw table/data/ETLcache/RAW/producto50/producto50_DefuncionesDEIS_sospechososPorComuna_T_17022022_205942.csvin cache\n",
      "reading file: https://raw.githubusercontent.com/MinCiencia/Datos-COVID19/master/output/producto50/DefuncionesDEIS_sospechososPorComuna_std.csv\n",
      "saving raw table/data/ETLcache/RAW/producto50/producto50_DefuncionesDEIS_sospechososPorComuna_std_17022022_205942.csvin cache\n",
      "reading file: https://raw.githubusercontent.com/MinCiencia/Datos-COVID19/master/output/producto48/SOCHIMI.csv\n",
      "saving raw table/data/ETLcache/RAW/producto48/producto48_SOCHIMI_17022022_205942.csvin cache\n",
      "reading file: https://raw.githubusercontent.com/MinCiencia/Datos-COVID19/master/output/producto48/SOCHIMI_T.csv\n",
      "saving raw table/data/ETLcache/RAW/producto48/producto48_SOCHIMI_T_17022022_205942.csvin cache\n",
      "reading file: https://raw.githubusercontent.com/MinCiencia/Datos-COVID19/master/output/producto48/SOCHIMI_std.csv\n",
      "saving raw table/data/ETLcache/RAW/producto48/producto48_SOCHIMI_std_17022022_205942.csvin cache\n",
      "reading file: https://raw.githubusercontent.com/MinCiencia/Datos-COVID19/master/output/producto24/CamasHospital_Diario.csv\n",
      "saving raw table/data/ETLcache/RAW/producto24/producto24_CamasHospital_Diario_17022022_205942.csvin cache\n",
      "reading file: https://raw.githubusercontent.com/MinCiencia/Datos-COVID19/master/output/producto24/CamasHospital_Diario_T.csv\n",
      "saving raw table/data/ETLcache/RAW/producto24/producto24_CamasHospital_Diario_T_17022022_205942.csvin cache\n",
      "reading file: https://raw.githubusercontent.com/MinCiencia/Datos-COVID19/master/output/producto24/CamasHospital_Diario_std.csv\n",
      "saving raw table/data/ETLcache/RAW/producto24/producto24_CamasHospital_Diario_std_17022022_205942.csvin cache\n"
     ]
    }
   ],
   "source": [
    "#LEER ARCHIVOS DENTRO DE RUTAS CORRESPONDIENTES A PRODUCTOS, GUARDARLOS EN DICCIONARIO \"TABLES\"\n",
    "tables={}\n",
    "for f in fs:\n",
    "    files_folder=f.rsplit('/')[-1]\n",
    "    files_folder_prefix='/MinCiencia/Datos-COVID19/blob/master/output/'+files_folder+'/'\n",
    "    tables[files_folder]={}\n",
    "    raw_path='https://raw.githubusercontent.com/MinCiencia/Datos-COVID19/master/output/'+files_folder+'/'\n",
    "    req=requests.get(f)\n",
    "    files=req.text.split(files_folder_prefix)\n",
    "    \n",
    "    for idx in range(len(files)):\n",
    "        files[idx]=files[idx].split('\">')[0]\n",
    "    files=[raw_path+f for f in files if '.csv' in f]\n",
    "    for fl in files:\n",
    "        try:\n",
    "            print('reading file: '+fl)\n",
    "            table=pd.read_csv(fl)\n",
    "            table_name='_'.join(fl.rsplit('/',2)[-2:]).strip('.csv')\n",
    "            \n",
    "\n",
    "            \n",
    "            outpath=path+'/'+files_folder\n",
    "            \n",
    "            if not os.path.exists(outpath):\n",
    "                os.makedirs(outpath)\n",
    "            \n",
    "            \n",
    "            outfile=outpath+'/'+table_name+timestamp+'.csv'\n",
    "            print(\"saving raw table\"+outfile+'in cache')\n",
    "            table.to_csv(outfile)\n",
    "            \n",
    "        except Exception as e:\n",
    "            print(str(e))\n",
    "            pass"
   ]
  },
  {
   "cell_type": "code",
   "execution_count": 14,
   "metadata": {},
   "outputs": [
    {
     "name": "stderr",
     "output_type": "stream",
     "text": [
      "[NbConvertApp] Converting notebook /home/jovyan/work/ETL/1-RAW.ipynb to html\n",
      "[NbConvertApp] Writing 605061 bytes to /home/jovyan/work/ETLdocs/ETL_covid-chile.html\n"
     ]
    },
    {
     "data": {
      "text/plain": [
       "0"
      ]
     },
     "execution_count": 14,
     "metadata": {},
     "output_type": "execute_result"
    }
   ],
   "source": [
    "os.system('jupyter nbconvert --output /home/jovyan/work/ETLdocs/' + 'ETL_covid-chile.html' + ' --to html ' + \n",
    "          '/home/jovyan/work/ETL/1-RAW.ipynb')"
   ]
  }
 ],
 "metadata": {
  "kernelspec": {
   "display_name": "Python 3 (ipykernel)",
   "language": "python",
   "name": "python3"
  },
  "language_info": {
   "codemirror_mode": {
    "name": "ipython",
    "version": 3
   },
   "file_extension": ".py",
   "mimetype": "text/x-python",
   "name": "python",
   "nbconvert_exporter": "python",
   "pygments_lexer": "ipython3",
   "version": "3.9.7"
  }
 },
 "nbformat": 4,
 "nbformat_minor": 4
}
