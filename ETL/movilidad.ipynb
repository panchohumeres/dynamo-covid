{
 "cells": [
  {
   "cell_type": "code",
   "execution_count": 22,
   "metadata": {},
   "outputs": [],
   "source": [
    "import requests\n",
    "import datetime\n",
    "from datetime import datetime as dt\n",
    "import patoolib\n",
    "import os\n",
    "import pandas as pd\n",
    "import sqlalchemy \n",
    "import psycopg2\n",
    "from sqlalchemy import create_engine\n",
    "import numpy as np\n",
    "from datetime import timedelta\n",
    "import geopandas as gpd\n",
    "from mapbox import Uploader\n",
    "import sys\n",
    "from urllib import request\n",
    "from urllib.request import urlopen"
   ]
  },
  {
   "cell_type": "code",
   "execution_count": 2,
   "metadata": {},
   "outputs": [],
   "source": [
    "sys.path.append('..')"
   ]
  },
  {
   "cell_type": "code",
   "execution_count": 3,
   "metadata": {},
   "outputs": [],
   "source": [
    "DBname=os.environ['DB_NAME']\n",
    "postgres_psswd=os.environ['POSTGRES_PASSWORD']\n",
    "postgres_user=os.environ['POSTGRES_USER']\n",
    "postgres_port=str(os.environ['POSTGRES_PORT'])\n",
    "mapbox_api=os.environ['MAPBOX_API_KEY']\n",
    "mapbox_up=os.environ['MAPBOX_API_UPLOAD_KEY']"
   ]
  },
  {
   "cell_type": "code",
   "execution_count": 4,
   "metadata": {},
   "outputs": [],
   "source": [
    "#usar en caso de requerir borrar la tabla para cargar todo de nuevo\n",
    "#cnx.execute('DROP TABLE IF EXISTS \"movilidad\".\"isci_entel\";')"
   ]
  },
  {
   "cell_type": "code",
   "execution_count": 5,
   "metadata": {},
   "outputs": [],
   "source": [
    "# A long string that contains the necessary Postgres login information\n",
    "postgres_str = ('postgresql://'+postgres_user+':'+postgres_psswd+'@'+DBname+':'+postgres_port+'/superset')\n",
    "# Create the connection\n",
    "cnx = create_engine(postgres_str)"
   ]
  },
  {
   "cell_type": "code",
   "execution_count": 6,
   "metadata": {},
   "outputs": [],
   "source": [
    "url='https://matiascerda.carto.com/api/v2/sql?format=CSV&filename=datos-movilidad-isci.csv&q=select%20*%20from%20data_variacion'"
   ]
  },
  {
   "cell_type": "code",
   "execution_count": 7,
   "metadata": {},
   "outputs": [
    {
     "name": "stdout",
     "output_type": "stream",
     "text": [
      "schema movilidad does not exist, creating it\n"
     ]
    }
   ],
   "source": [
    "name='isci_entel'\n",
    "schema='movilidad'\n",
    "if not cnx.dialect.has_schema(cnx, schema):\n",
    "    print('schema '+schema+' does not exist, creating it')\n",
    "    cnx.execute(sqlalchemy.schema.CreateSchema(schema))\n",
    "else:\n",
    "    print('schema '+schema+' exists, will not be created')"
   ]
  },
  {
   "cell_type": "code",
   "execution_count": 8,
   "metadata": {},
   "outputs": [],
   "source": [
    "sql=\"select * from geo.zonas_censales\"\n",
    "zonas= gpd.GeoDataFrame.from_postgis(sql,con=cnx, geom_col='geometry')\n",
    "zonas['GEOCODIGO']=zonas['GEOCODIGO'].astype(str).str.strip()\n",
    "zonas['PERSONAS_6_A_64_AÑOS']=zonas['PERSONAS_6_A_14_AÑOS']+zonas['PERSONAS_15_A_64_AÑOS']\n",
    "crs=zonas.crs"
   ]
  },
  {
   "cell_type": "code",
   "execution_count": 10,
   "metadata": {},
   "outputs": [
    {
     "name": "stderr",
     "output_type": "stream",
     "text": [
      "<ipython-input-10-fc2c1a33befb>:1: SADeprecationWarning: The Engine.has_table() method is deprecated and will be removed in a future release.  Please refer to Inspector.has_table(). (deprecated since: 1.4)\n",
      "  if cnx.has_table(\"isci_entel\",schema=\"movilidad\"):\n"
     ]
    },
    {
     "name": "stdout",
     "output_type": "stream",
     "text": [
      "reading all data from url\n"
     ]
    }
   ],
   "source": [
    "if cnx.has_table(\"isci_entel\",schema=\"movilidad\"):\n",
    "\n",
    "    #request = request(url)\n",
    "    csv_len = len(urlopen(url).readlines())\n",
    "    print('rows in csv url:' +str(csv_len))\n",
    "    \n",
    "    sql_len=cnx.execute('SELECT COUNT(*) FROM \"'+schema+'\".\"'+name+'\";')\n",
    "    sql_len=sql_len.scalar()\n",
    "    print('rows in sql table :'+str(sql_len))\n",
    "    \n",
    "    rows=csv_len-sql_len\n",
    "    print('rows '+str(rows))\n",
    "    \n",
    "    if rows>1:\n",
    "        print('reading last '+str(rows)+' from csv in url')\n",
    "        # The row indices to skip - make sure 0 is not included to keep the header!\n",
    "        skip_idx = [x for x in range(rows, csv_len) if x != 0]\n",
    "        \n",
    "        # Read the data\n",
    "        ISCIentel=pd.read_csv(url,skiprows=skip_idx,encoding='utf-8')\n",
    "        if_exists='append'\n",
    "    else:\n",
    "        print('no data to update from url')\n",
    "        #ISCIentel=pd.read_csv(url,encoding='utf-8')\n",
    "        if_exists='fail'\n",
    "else:\n",
    "    print('reading all data from url')\n",
    "    ISCIentel=pd.read_csv(url,encoding='utf-8')\n",
    "    if_exists='replace'"
   ]
  },
  {
   "cell_type": "code",
   "execution_count": 12,
   "metadata": {},
   "outputs": [
    {
     "data": {
      "text/plain": [
       "'replace'"
      ]
     },
     "execution_count": 12,
     "metadata": {},
     "output_type": "execute_result"
    }
   ],
   "source": [
    "if_exists"
   ]
  },
  {
   "cell_type": "code",
   "execution_count": 13,
   "metadata": {},
   "outputs": [
    {
     "name": "stderr",
     "output_type": "stream",
     "text": [
      "<ipython-input-13-1fe7f7b232c3>:5: FutureWarning: The default value of regex will change from True to False in a future version. In addition, single character regular expressions will*not* be treated as literal strings when regex=True.\n",
      "  ISCIentel[['dif_entrada_lim_inf','dif_entrada_lim_sup']]=ISCIentel['dif_entrada'].str.replace('[','').str.replace(',]','').str.replace('%','').str.replace(']','').str.split(',',expand=True)\n",
      "<ipython-input-13-1fe7f7b232c3>:5: FutureWarning: The default value of regex will change from True to False in a future version.\n",
      "  ISCIentel[['dif_entrada_lim_inf','dif_entrada_lim_sup']]=ISCIentel['dif_entrada'].str.replace('[','').str.replace(',]','').str.replace('%','').str.replace(']','').str.split(',',expand=True)\n",
      "<ipython-input-13-1fe7f7b232c3>:8: FutureWarning: The default value of regex will change from True to False in a future version. In addition, single character regular expressions will*not* be treated as literal strings when regex=True.\n",
      "  ISCIentel[['dif_salida_lim_inf','dif_salida_lim_sup']]=ISCIentel['dif_salida'].str.replace('[','').str.replace(',]','').str.replace('%','').str.replace(']','').str.split(',',expand=True)\n",
      "<ipython-input-13-1fe7f7b232c3>:8: FutureWarning: The default value of regex will change from True to False in a future version.\n",
      "  ISCIentel[['dif_salida_lim_inf','dif_salida_lim_sup']]=ISCIentel['dif_salida'].str.replace('[','').str.replace(',]','').str.replace('%','').str.replace(']','').str.split(',',expand=True)\n"
     ]
    }
   ],
   "source": [
    "if if_exists!='fail':\n",
    "    #diferencias entre entradas y salidas de zonas censales estimadas por ISCI-entel Ocean\n",
    "    #ISCIentel=pd.read_csv(url,encoding='utf-8')\n",
    "    #diferencias entre entradas\n",
    "    ISCIentel[['dif_entrada_lim_inf','dif_entrada_lim_sup']]=ISCIentel['dif_entrada'].str.replace('[','').str.replace(',]','').str.replace('%','').str.replace(']','').str.split(',',expand=True)\n",
    "    ISCIentel[['dif_entrada_lim_inf','dif_entrada_lim_sup']]=ISCIentel[['dif_entrada_lim_inf','dif_entrada_lim_sup']].astype(int)\n",
    "    #diferencias entre salidas\n",
    "    ISCIentel[['dif_salida_lim_inf','dif_salida_lim_sup']]=ISCIentel['dif_salida'].str.replace('[','').str.replace(',]','').str.replace('%','').str.replace(']','').str.split(',',expand=True)\n",
    "    ISCIentel[['dif_salida_lim_inf','dif_salida_lim_sup']]=ISCIentel[['dif_salida_lim_inf','dif_salida_lim_sup']].astype(int)\n",
    "    ISCIentel['zona_censal']=ISCIentel['zona_censal'].astype(str).str.strip()\n",
    "    ISCIentel=ISCIentel.drop(['the_geom','cartodb_id','the_geom_webmercator'],axis=1)\n",
    "    ISCIentel=ISCIentel.merge(zonas,right_on='GEOCODIGO',left_on='zona_censal',how='left')\n",
    "    ISCIentel['year']='2020'\n",
    "    ISCIentel.loc[ISCIentel['week']>53,'year']='2021'\n",
    "    ISCIentel.loc[ISCIentel['week']>53,'week']=ISCIentel['week']-53\n",
    "    ISCIentel['date']=pd.to_datetime(ISCIentel['year']+'-'+ISCIentel['week'].astype(str)+'-6',format='%Y-%W-%w')\n",
    "    ISCIentel['salidas']=(ISCIentel['dif_salida_lim_sup']-ISCIentel['dif_salida_lim_inf'])/2+ISCIentel['dif_salida_lim_inf']\n",
    "    ISCIentel['PERSONAS_MOVILIZADAS']=ISCIentel['PERSONAS_6_A_64_AÑOS']+ISCIentel['PERSONAS_6_A_64_AÑOS']/100*ISCIentel['salidas']"
   ]
  },
  {
   "cell_type": "code",
   "execution_count": 14,
   "metadata": {},
   "outputs": [],
   "source": [
    "if if_exists!='fail':\n",
    "    #Variabilidad PONDERADA\n",
    "    pop_comuna=pd.DataFrame(ISCIentel.groupby(['week','comuna'])['PERSONAS_6_A_64_AÑOS'].sum())\n",
    "    pop_comuna=pd.DataFrame(pop_comuna.reset_index().groupby('comuna')['PERSONAS_6_A_64_AÑOS'].mean()).reset_index()\n",
    "    pop_comuna=pop_comuna.rename(columns={'PERSONAS_6_A_64_AÑOS':'PERSONAS_6_A_64_AÑOS_COMUNA'})\n",
    "    pop_comuna=pop_comuna.reset_index()\n",
    "    #ISCIentel['PERSONAS_15_A_64_AÑOS_COMUNA']\n",
    "    ISCIentel=ISCIentel.merge(pop_comuna,on='comuna',how='left')\n",
    "    #% de personas 15 a 64 años comunal por zona censal\n",
    "    ISCIentel['PERSONAS_6_A_64_AÑOS_FACTOR']=ISCIentel['PERSONAS_6_A_64_AÑOS']/ISCIentel['PERSONAS_6_A_64_AÑOS_COMUNA']\n",
    "    ISCIentel['salidas_comunal_ponderada']=ISCIentel['salidas']*ISCIentel['PERSONAS_6_A_64_AÑOS_FACTOR']"
   ]
  },
  {
   "cell_type": "code",
   "execution_count": 15,
   "metadata": {},
   "outputs": [],
   "source": [
    "if if_exists!='fail':\n",
    "    ISCIentel = gpd.GeoDataFrame(ISCIentel)\n",
    "    ISCIentel.set_crs(crs)"
   ]
  },
  {
   "cell_type": "code",
   "execution_count": 16,
   "metadata": {},
   "outputs": [
    {
     "name": "stderr",
     "output_type": "stream",
     "text": [
      "<ipython-input-16-fe51752aedeb>:2: UserWarning: Geometry is in a geographic CRS. Results from 'centroid' are likely incorrect. Use 'GeoSeries.to_crs()' to re-project geometries to a projected CRS before this operation.\n",
      "\n",
      "  ISCIentel['geometry']=ISCIentel['geometry'].centroid\n"
     ]
    }
   ],
   "source": [
    "if if_exists!='fail':\n",
    "    ISCIentel['geometry']=ISCIentel['geometry'].centroid\n",
    "    ISCIentel['Lon']=ISCIentel['geometry'].x\n",
    "    ISCIentel['Lat']=ISCIentel['geometry'].y\n",
    "    ISCIentel=ISCIentel.drop('geometry',axis=1)\n",
    "    ISCIentel=pd.DataFrame(ISCIentel)"
   ]
  },
  {
   "cell_type": "code",
   "execution_count": 46,
   "metadata": {},
   "outputs": [],
   "source": [
    "ISCIentel['Region Metropolitana']='Resto de Chile'\n",
    "ISCIentel.loc[ISCIentel['REGION']=='13','Region Metropolitana']='Region Metropolitana'"
   ]
  },
  {
   "cell_type": "code",
   "execution_count": 15,
   "metadata": {},
   "outputs": [],
   "source": [
    "#for r in ISCIentel['REGION'].unique():\n",
    "#    name='isci_entel'+str(r)\n",
    "#    print('saving table '+name)\n",
    "    #ISCIentel[ISCIentel['REGION']==r].to_postgis(name=name+'_'+str(r), schema=schema,con=cnx,if_exists='replace')\n",
    "#    ISCIentel[ISCIentel['REGION']==r].to_sql(name, schema=schema,con=cnx,if_exists='replace')"
   ]
  },
  {
   "cell_type": "code",
   "execution_count": 16,
   "metadata": {},
   "outputs": [],
   "source": [
    "#geojson=ISCIentel[ISCIentel['REGION']=='13']\n",
    "#geojson['date']=geojson['date'].astype(str)\n",
    "#geojson=geojson.to_json()"
   ]
  },
  {
   "cell_type": "code",
   "execution_count": 17,
   "metadata": {},
   "outputs": [],
   "source": [
    "#ISCIentel[ISCIentel['REGION']=='13'].to_file(\"../ETLcache/mov_temp.geojson\", driver='GeoJSON')"
   ]
  },
  {
   "cell_type": "code",
   "execution_count": 18,
   "metadata": {},
   "outputs": [],
   "source": [
    "#with open(\"../ETLcache/mov_temp.geojson\", 'rb') as src:\n",
    "#    upload_resp = service.upload(src, 'test_dataset')\n",
    "#upload_resp\n",
    "#upload_id = upload_resp.json()['id']"
   ]
  },
  {
   "cell_type": "code",
   "execution_count": 47,
   "metadata": {},
   "outputs": [],
   "source": [
    "grouped=ISCIentel.groupby('Region Metropolitana')"
   ]
  },
  {
   "cell_type": "code",
   "execution_count": 49,
   "metadata": {},
   "outputs": [
    {
     "name": "stdout",
     "output_type": "stream",
     "text": [
      "Guardando región: Region Metropolitana\n",
      "Escribiendo tabla: isci_entel_Region_Metropolitana schema: movilidad\n",
      "Guardando región: Resto de Chile\n",
      "Escribiendo tabla: isci_entel_Resto_de_Chile schema: movilidad\n"
     ]
    }
   ],
   "source": [
    "for region,df in grouped:\n",
    "    print('Guardando región: '+region)\n",
    "    name='isci_entel_'+str(region).replace(' ','_')\n",
    "    print('Escribiendo tabla: '+name+' schema: '+schema)\n",
    "    df.to_sql(name, schema=schema,con=cnx,if_exists=if_exists)"
   ]
  },
  {
   "cell_type": "code",
   "execution_count": 50,
   "metadata": {},
   "outputs": [],
   "source": [
    "#if if_exists!='fail':\n",
    "#    ISCIentel.to_sql('isci_entel', schema=schema,con=cnx,if_exists=if_exists)"
   ]
  },
  {
   "cell_type": "code",
   "execution_count": 20,
   "metadata": {},
   "outputs": [
    {
     "data": {
      "text/plain": [
       "0"
      ]
     },
     "execution_count": 20,
     "metadata": {},
     "output_type": "execute_result"
    }
   ],
   "source": [
    "os.system('jupyter nbconvert --output /home/jovyan/work/ETLdocs/' + 'ETL_movilidad.html' + ' --to html ' + \n",
    "          '/home/jovyan/work/ETL/movilidad.ipynb')"
   ]
  }
 ],
 "metadata": {
  "kernelspec": {
   "display_name": "Python 3",
   "language": "python",
   "name": "python3"
  },
  "language_info": {
   "codemirror_mode": {
    "name": "ipython",
    "version": 3
   },
   "file_extension": ".py",
   "mimetype": "text/x-python",
   "name": "python",
   "nbconvert_exporter": "python",
   "pygments_lexer": "ipython3",
   "version": "3.9.2"
  }
 },
 "nbformat": 4,
 "nbformat_minor": 4
}
